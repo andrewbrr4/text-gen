{
  "cells": [
    {
      "cell_type": "markdown",
      "metadata": {
        "id": "view-in-github",
        "colab_type": "text"
      },
      "source": [
        "<a href=\"https://colab.research.google.com/github/andrewbrr4/text-gen/blob/main/text_gen_char.ipynb\" target=\"_parent\"><img src=\"https://colab.research.google.com/assets/colab-badge.svg\" alt=\"Open In Colab\"/></a>"
      ]
    },
    {
      "cell_type": "code",
      "execution_count": null,
      "metadata": {
        "colab": {
          "base_uri": "https://localhost:8080/"
        },
        "id": "9a2c83b5",
        "outputId": "c91c4620-2919-46d9-ce77-5c99cc759f1d"
      },
      "outputs": [
        {
          "output_type": "stream",
          "name": "stdout",
          "text": [
            "Mounted at /content/drive\n",
            "/content/drive/MyDrive/datasets/david-bowie.txt\n",
            "/content/drive/MyDrive/datasets/david-bowie-20-3/saved_model.pb\n",
            "/content/drive/MyDrive/datasets/david-bowie-20-3/keras_metadata.pb\n",
            "/content/drive/MyDrive/datasets/david-bowie-20-3/variables/variables.index\n",
            "/content/drive/MyDrive/datasets/david-bowie-20-3/variables/variables.data-00000-of-00001\n",
            "/content/drive/MyDrive/datasets/david-bowie-word/keras_metadata.pb\n",
            "/content/drive/MyDrive/datasets/david-bowie-word/saved_model.pb\n",
            "/content/drive/MyDrive/datasets/david-bowie-word/variables/variables.index\n",
            "/content/drive/MyDrive/datasets/david-bowie-word/variables/variables.data-00000-of-00001\n",
            "/content/drive/MyDrive/datasets/david-bowie-20-1/saved_model.pb\n",
            "/content/drive/MyDrive/datasets/david-bowie-20-1/keras_metadata.pb\n",
            "/content/drive/MyDrive/datasets/david-bowie-20-1/variables/variables.data-00000-of-00001\n",
            "/content/drive/MyDrive/datasets/david-bowie-20-1/variables/variables.index\n",
            "/content/drive/MyDrive/datasets/david-bowie-50-3/saved_model.pb\n",
            "/content/drive/MyDrive/datasets/david-bowie-50-3/keras_metadata.pb\n",
            "/content/drive/MyDrive/datasets/david-bowie-50-3/variables/variables.data-00000-of-00001\n",
            "/content/drive/MyDrive/datasets/david-bowie-50-3/variables/variables.index\n"
          ]
        }
      ],
      "source": [
        "# This Python 3 environment comes with many helpful analytics libraries installed\n",
        "# It is defined by the kaggle/python Docker image: https://github.com/kaggle/docker-python\n",
        "# For example, here's several helpful packages to load\n",
        "\n",
        "import numpy as np # linear algebra\n",
        "import pandas as pd # data processing, CSV file I/O (e.g. pd.read_csv)\n",
        "from google.colab import drive\n",
        "drive.mount('/content/drive')\n",
        "\n",
        "# Input data files are available in the read-only \"../input/\" directory\n",
        "# For example, running this (by clicking run or pressing Shift+Enter) will list all files under the input directory\n",
        "\n",
        "import os\n",
        "for dirname, _, filenames in os.walk('/content/drive/MyDrive/datasets'):\n",
        "    for filename in filenames:\n",
        "        print(os.path.join(dirname, filename))"
      ],
      "id": "9a2c83b5"
    },
    {
      "cell_type": "code",
      "execution_count": null,
      "metadata": {
        "id": "b947687c"
      },
      "outputs": [],
      "source": [
        "import tensorflow as tf\n",
        "import keras\n",
        "import re\n",
        "from keras.utils.np_utils import to_categorical\n",
        "from keras.models import Sequential\n",
        "from keras.layers import Embedding, GRU, LSTM, SimpleRNN, Dense, Dropout\n",
        "from keras.preprocessing.sequence import pad_sequences"
      ],
      "id": "b947687c"
    },
    {
      "cell_type": "markdown",
      "metadata": {
        "id": "4c66147c"
      },
      "source": [
        "# Define the functions to create a model based off an artists lyrics and generate new lyrics from that model"
      ],
      "id": "4c66147c"
    },
    {
      "cell_type": "code",
      "execution_count": null,
      "metadata": {
        "id": "c7c53a3e"
      },
      "outputs": [],
      "source": [
        "chars = list('abcdefghijklmnopqrstuvwxyz')\n",
        "chars.append(' ')\n",
        "chars.append('\\n')\n",
        "char_to_index = dict((c, i) for i, c in enumerate(chars))\n",
        "index_to_char = dict((i, c) for i, c in enumerate(chars))\n",
        "\n",
        "def create_char_model(artist,char_window,step,num_epochs):\n",
        "    \n",
        "    with open('/content/drive/MyDrive/datasets/'+artist+'.txt') as f:\n",
        "        text = f.read().lower()\n",
        "\n",
        "    text = re.sub('[^a-z \\n]','',text)\n",
        "\n",
        "    inputs = []\n",
        "    next_chars = []\n",
        "\n",
        "    for i in range(0,len(text)-char_window,step):\n",
        "        inputs.append(text[i:i+char_window])\n",
        "        next_chars.append(text[i+char_window])\n",
        "\n",
        "    pairs = zip(inputs,next_chars)\n",
        "    list(pairs)[:100]\n",
        "\n",
        "    X = np.zeros((len(inputs),char_window),dtype=np.float32)\n",
        "\n",
        "    for i in range(len(inputs)):\n",
        "        for j in range(char_window):\n",
        "            X[i,j] = char_to_index[inputs[i][j]]\n",
        "\n",
        "    y = np.zeros(len(next_chars),dtype=np.float32)\n",
        "\n",
        "    for i in range(len(next_chars)):\n",
        "        y[i] = char_to_index[next_chars[i]]\n",
        "\n",
        "    y = to_categorical(y)\n",
        "    \n",
        "    model = Sequential()\n",
        "\n",
        "    model.add(Embedding(28,64,input_length=char_window))\n",
        "    model.add(LSTM(256,return_sequences=True))\n",
        "    model.add(Dropout(0.2))\n",
        "    model.add(LSTM(256))\n",
        "    model.add(Dropout(0.2))\n",
        "    model.add(Dense(28,activation='softmax'))\n",
        "\n",
        "    model.compile(loss='categorical_crossentropy', optimizer='adam',metrics=['accuracy'])\n",
        "    # model.fit(X,y,epochs=5,batch_size=20)\n",
        "    model.fit(X,y,epochs=num_epochs,batch_size=20)\n",
        "    model.save('/content/drive/MyDrive/datasets/'+artist+'-'+str(char_window)+'-'+str(step))\n",
        "    return model"
      ],
      "id": "c7c53a3e"
    },
    {
      "cell_type": "code",
      "execution_count": null,
      "metadata": {
        "id": "efecb089"
      },
      "outputs": [],
      "source": [
        "def softmax(z):\n",
        "    return np.exp(z)/sum(np.exp(z))\n",
        "\n",
        "def temp_scale(conditional_probability, temperature=1.0):\n",
        "    conditional_probability = np.asarray(conditional_probability).astype(\"float64\")\n",
        "    conditional_probability = np.log(conditional_probability) / temperature\n",
        "    reweighted_conditional_probability = softmax(conditional_probability)\n",
        "    probas = np.random.multinomial(1, reweighted_conditional_probability, 1)\n",
        "    return np.argmax(probas)\n",
        "\n",
        "def generate_line(model,context,temp,char_window):\n",
        "    line = context\n",
        "    next_char = ''\n",
        "    counter = 0\n",
        "    while counter<100:\n",
        "        X = [[char_to_index[line[i]] for i in range(0,len(line))]]\n",
        "        X = pad_sequences(X,maxlen=char_window)\n",
        "        y = model.predict(X)\n",
        "        next_char = index_to_char[temp_scale(y[0,:],temp)]\n",
        "        counter+=1\n",
        "        line+=next_char\n",
        "    return line"
      ],
      "id": "efecb089"
    },
    {
      "cell_type": "markdown",
      "metadata": {
        "id": "fa59e0a5"
      },
      "source": [
        "# Now lets have some fun emulating different artists!!"
      ],
      "id": "fa59e0a5"
    },
    {
      "cell_type": "markdown",
      "metadata": {
        "id": "DV5vCHJPfGLM"
      },
      "source": [
        "## char = 20, step = 3"
      ],
      "id": "DV5vCHJPfGLM"
    },
    {
      "cell_type": "code",
      "execution_count": null,
      "metadata": {
        "id": "0ux4z7BOYXmC"
      },
      "outputs": [],
      "source": [
        "char_window = 20\n",
        "step = 3\n",
        "epochs = 6\n",
        "temps = [.01, 0.2, 0.5, 1.0, 1.2, 1.5]"
      ],
      "id": "0ux4z7BOYXmC"
    },
    {
      "cell_type": "code",
      "execution_count": null,
      "metadata": {
        "colab": {
          "background_save": true,
          "base_uri": "https://localhost:8080/"
        },
        "id": "7cb10f27",
        "outputId": "fb657ff9-39c8-4ea2-fd75-800dace1451d"
      },
      "outputs": [
        {
          "name": "stdout",
          "output_type": "stream",
          "text": [
            "Epoch 1/6\n",
            "16978/16978 [==============================] - 2511s 148ms/step - loss: 1.7894 - accuracy: 0.4556\n",
            "Epoch 2/6\n",
            "16978/16978 [==============================] - 2451s 144ms/step - loss: 1.4417 - accuracy: 0.5549\n",
            "Epoch 3/6\n",
            "16978/16978 [==============================] - 2511s 148ms/step - loss: 1.3494 - accuracy: 0.5827\n",
            "Epoch 4/6\n",
            "16978/16978 [==============================] - 2539s 150ms/step - loss: 1.3031 - accuracy: 0.5952\n",
            "Epoch 5/6\n",
            "16978/16978 [==============================] - 2555s 150ms/step - loss: 1.2801 - accuracy: 0.6024\n",
            "Epoch 6/6\n",
            "16978/16978 [==============================] - 2506s 148ms/step - loss: 1.2716 - accuracy: 0.6048\n"
          ]
        },
        {
          "name": "stderr",
          "output_type": "stream",
          "text": [
            "WARNING:absl:Found untraced functions such as lstm_cell_16_layer_call_fn, lstm_cell_16_layer_call_and_return_conditional_losses, lstm_cell_17_layer_call_fn, lstm_cell_17_layer_call_and_return_conditional_losses while saving (showing 4 of 4). These functions will not be directly callable after loading.\n"
          ]
        },
        {
          "name": "stdout",
          "output_type": "stream",
          "text": [
            "INFO:tensorflow:Assets written to: /content/drive/MyDrive/datasets/david-bowie-20-3/assets\n"
          ]
        },
        {
          "name": "stderr",
          "output_type": "stream",
          "text": [
            "INFO:tensorflow:Assets written to: /content/drive/MyDrive/datasets/david-bowie-20-3/assets\n",
            "WARNING:absl:<keras.layers.recurrent.LSTMCell object at 0x7ff9d0442250> has the same name 'LSTMCell' as a built-in Keras object. Consider renaming <class 'keras.layers.recurrent.LSTMCell'> to avoid naming conflicts when loading with `tf.keras.models.load_model`. If renaming is not possible, pass the object in the `custom_objects` parameter of the load function.\n",
            "WARNING:absl:<keras.layers.recurrent.LSTMCell object at 0x7ff9cd01db50> has the same name 'LSTMCell' as a built-in Keras object. Consider renaming <class 'keras.layers.recurrent.LSTMCell'> to avoid naming conflicts when loading with `tf.keras.models.load_model`. If renaming is not possible, pass the object in the `custom_objects` parameter of the load function.\n"
          ]
        }
      ],
      "source": [
        "bowie_bot = create_char_model('david-bowie',char_window,step,epochs)"
      ],
      "id": "7cb10f27"
    },
    {
      "cell_type": "code",
      "execution_count": null,
      "metadata": {
        "id": "di8ETs7BWsKZ"
      },
      "outputs": [],
      "source": [
        "bowie_bot = keras.models.load_model('/content/drive/MyDrive/datasets/david-bowie-'+str(char_window)+'-'+str(step))"
      ],
      "id": "di8ETs7BWsKZ"
    },
    {
      "cell_type": "code",
      "execution_count": null,
      "metadata": {
        "colab": {
          "base_uri": "https://localhost:8080/"
        },
        "id": "ca34cf92",
        "outputId": "a14abe7d-cd6b-49d9-bae8-9df244608743"
      },
      "outputs": [
        {
          "output_type": "stream",
          "name": "stdout",
          "text": [
            "********** WINDOW = 20 STEP = 3 ***********\n",
            "**** TEMP = 0.01 ****\n",
            "i want to be free\n",
            "i was all the world can is a care\n",
            "i was alright\n",
            "the street where i can do\n",
            "\n",
            "\n",
            "**** TEMP = 0.2 ****\n",
            "i want to be free\n",
            "i was alright\n",
            "the world can is a crazy day\n",
            "the street where i can do\n",
            "i cant trace time to\n",
            "\n",
            "**** TEMP = 0.5 ****\n",
            "i want to be free\n",
            "and the arms in the days\n",
            "the wall like a shadows\n",
            "im not all the street naked passon\n",
            "the\n",
            "\n",
            "**** TEMP = 1.0 ****\n",
            "i want to be free\n",
            "keep so many ghinging\n",
            "if it ill i live in\n",
            "so we cant give around control to major tom\n",
            "turn \n",
            "\n",
            "**** TEMP = 1.2 ****\n",
            "i want to live\n",
            "wetrendt you\n",
            "stepsing her seens my headso\n",
            "red come the gunner\n",
            "tellgring a phollax dream\n",
            "you wa\n",
            "\n",
            "**** TEMP = 1.5 ****\n",
            "i want to make the real melcha\n",
            "no contracocf protect things\n",
            "yosr\n",
            "jlves he never the drystrangung or soandwife\n",
            "\n",
            "\n"
          ]
        }
      ],
      "source": [
        "output = '********** WINDOW = ' + str(char_window) + ' STEP = ' + str(step) + ' ***********\\n'\n",
        "\n",
        "for temp in temps:\n",
        "    output += '**** TEMP = ' + str(temp) + ' ****\\n'\n",
        "    output += re.sub(\n",
        "      r'[\\n]+', '\\n',generate_line(bowie_bot,'i want to',temp,char_window)\n",
        "    )\n",
        "    output += '\\n\\n'\n",
        "\n",
        "print(output)\n",
        "file = open(\"/content/drive/MyDrive/datasets/lyrics.txt\", \"a\")  # append mode\n",
        "file.write(output+'\\n\\n')\n",
        "file.close()"
      ],
      "id": "ca34cf92"
    },
    {
      "cell_type": "code",
      "execution_count": null,
      "metadata": {
        "colab": {
          "base_uri": "https://localhost:8080/"
        },
        "id": "76620f09",
        "outputId": "760eec0f-ee7c-4c32-fce5-4dfa3ddd951f"
      },
      "outputs": [
        {
          "output_type": "stream",
          "name": "stdout",
          "text": [
            "********** WINDOW = 20 STEP = 3 ***********\n",
            "**** TEMP = 0.01 ****\n",
            "today the street where its too late to be babe\n",
            "\n",
            "\n",
            "**** TEMP = 0.2 ****\n",
            "today the street where i can do\n",
            "baby baby baby baby baby baby\n",
            "baby baby baby baby baby\n",
            "\n",
            "\n",
            "**** TEMP = 0.5 ****\n",
            "today they say\n",
            "they say jump\n",
            "but the babys a shall want to be a sailor white noise of sun\n",
            "paddy whe\n",
            "\n",
            "**** TEMP = 1.0 ****\n",
            "today living  its the waet the aagic or as dont yeah\n",
            "kyere i cant get up not somebody sucked the waters o\n",
            "\n",
            "**** TEMP = 1.2 ****\n",
            "todays once ence\n",
            "freay insidos\n",
            "ex youre now  loxhoys fate looking stails grast in biggle cabors \n",
            "well \n",
            "\n",
            "**** TEMP = 1.5 ****\n",
            "today\n",
            "thank other baby\n",
            "cover up\n",
            "knowledgh diggingsy callio\n",
            "its jutter alone\n",
            "ju im not aloan\n",
            "ak reflama\n",
            "\n",
            "\n"
          ]
        }
      ],
      "source": [
        "output = '********** WINDOW = ' + str(char_window) + ' STEP = ' + str(step) + ' ***********\\n'\n",
        "\n",
        "for temp in temps:\n",
        "    output += '**** TEMP = ' + str(temp) + ' ****\\n'\n",
        "    output += re.sub(\n",
        "      r'[\\n]+', '\\n',generate_line(bowie_bot,'today',temp,char_window)\n",
        "    )\n",
        "    output += '\\n\\n'\n",
        "\n",
        "print(output)\n",
        "file = open(\"/content/drive/MyDrive/datasets/lyrics.txt\", \"a\")  # append mode\n",
        "file.write(output+'\\n\\n')\n",
        "file.close()"
      ],
      "id": "76620f09"
    },
    {
      "cell_type": "code",
      "execution_count": null,
      "metadata": {
        "colab": {
          "base_uri": "https://localhost:8080/"
        },
        "id": "a25945e6",
        "outputId": "6604f349-26da-44c6-d711-b8d579babf7d"
      },
      "outputs": [
        {
          "output_type": "stream",
          "name": "stdout",
          "text": [
            "********** WINDOW = 20 STEP = 3 ***********\n",
            "**** TEMP = 0.01 ****\n",
            "what am i fly down\n",
            "i was alright\n",
            "the street where i can do\n",
            "\n",
            "\n",
            "**** TEMP = 0.2 ****\n",
            "what am i fan make me all the world\n",
            "im afraid i cant\n",
            "im afraid of americans\n",
            "im afraid of americans\n",
            "im afraid \n",
            "\n",
            "**** TEMP = 0.5 ****\n",
            "what am i fan\n",
            "im a back was anywity insane\n",
            "i said a dog a change and the rage the street and really got a m\n",
            "\n",
            "**** TEMP = 1.0 ****\n",
            "what am i happame\n",
            "to be on the rage all the that all is holytgithing to space\n",
            "my way to suck out for you\n",
            "so \n",
            "\n",
            "**** TEMP = 1.2 ****\n",
            "what am inorakponia night\n",
            "but i nust could ellah ooh ah yeah\n",
            "im\n",
            "dont get it\n",
            "nothing and papertion andthgess \n",
            "\n",
            "**** TEMP = 1.5 ****\n",
            "what am i\n",
            "funkathing is a cone\n",
            "and me\n",
            "johnnys in american\n",
            "im afraid i cant help it\n",
            "if i want it for togetthod\n",
            "\n",
            "\n"
          ]
        }
      ],
      "source": [
        "output = '********** WINDOW = ' + str(char_window) + ' STEP = ' + str(step) + ' ***********\\n'\n",
        "\n",
        "for temp in temps:\n",
        "    output += '**** TEMP = ' + str(temp) + ' ****\\n'\n",
        "    output += re.sub(\n",
        "      r'[\\n]+', '\\n',generate_line(bowie_bot,'what am i',temp,char_window)\n",
        "    )\n",
        "    output += '\\n\\n'\n",
        "\n",
        "print(output)\n",
        "file = open(\"/content/drive/MyDrive/datasets/lyrics.txt\", \"a\")  # append mode\n",
        "file.write(output+'\\n\\n')\n",
        "file.close()"
      ],
      "id": "a25945e6"
    },
    {
      "cell_type": "markdown",
      "metadata": {
        "id": "1LN4UDarfQgb"
      },
      "source": [
        "## char = 20, step = 1"
      ],
      "id": "1LN4UDarfQgb"
    },
    {
      "cell_type": "code",
      "execution_count": null,
      "metadata": {
        "id": "iVAXj0-9fQgc"
      },
      "outputs": [],
      "source": [
        "char_window = 20\n",
        "step = 1\n",
        "epochs = 3\n",
        "temps = [.01, 0.2, 0.5, 1.0, 1.2, 1.5]"
      ],
      "id": "iVAXj0-9fQgc"
    },
    {
      "cell_type": "code",
      "execution_count": null,
      "metadata": {
        "colab": {
          "background_save": true,
          "base_uri": "https://localhost:8080/"
        },
        "id": "ivVIvF98fQgc",
        "outputId": "21b5f872-d64e-47c2-8e34-c10b40c680ea"
      },
      "outputs": [
        {
          "name": "stdout",
          "output_type": "stream",
          "text": [
            "Epoch 1/3\n",
            "50932/50932 [==============================] - 6197s 122ms/step - loss: 1.5546 - accuracy: 0.5229\n",
            "Epoch 2/3\n",
            "50932/50932 [==============================] - 6185s 121ms/step - loss: 1.3318 - accuracy: 0.5874\n",
            "Epoch 3/3\n",
            "50932/50932 [==============================] - 6207s 122ms/step - loss: 1.3084 - accuracy: 0.5938\n"
          ]
        },
        {
          "name": "stderr",
          "output_type": "stream",
          "text": [
            "WARNING:absl:Found untraced functions such as lstm_cell_layer_call_fn, lstm_cell_layer_call_and_return_conditional_losses, lstm_cell_1_layer_call_fn, lstm_cell_1_layer_call_and_return_conditional_losses while saving (showing 4 of 4). These functions will not be directly callable after loading.\n"
          ]
        },
        {
          "name": "stdout",
          "output_type": "stream",
          "text": [
            "INFO:tensorflow:Assets written to: /content/drive/MyDrive/datasets/david-bowie-20-1/assets\n"
          ]
        },
        {
          "name": "stderr",
          "output_type": "stream",
          "text": [
            "INFO:tensorflow:Assets written to: /content/drive/MyDrive/datasets/david-bowie-20-1/assets\n",
            "WARNING:absl:<keras.layers.recurrent.LSTMCell object at 0x7fb05119c9d0> has the same name 'LSTMCell' as a built-in Keras object. Consider renaming <class 'keras.layers.recurrent.LSTMCell'> to avoid naming conflicts when loading with `tf.keras.models.load_model`. If renaming is not possible, pass the object in the `custom_objects` parameter of the load function.\n",
            "WARNING:absl:<keras.layers.recurrent.LSTMCell object at 0x7fb051065690> has the same name 'LSTMCell' as a built-in Keras object. Consider renaming <class 'keras.layers.recurrent.LSTMCell'> to avoid naming conflicts when loading with `tf.keras.models.load_model`. If renaming is not possible, pass the object in the `custom_objects` parameter of the load function.\n"
          ]
        }
      ],
      "source": [
        "bowie_bot = create_char_model('david-bowie',char_window,step,epochs)"
      ],
      "id": "ivVIvF98fQgc"
    },
    {
      "cell_type": "code",
      "execution_count": null,
      "metadata": {
        "id": "LmInuSFCfQgd"
      },
      "outputs": [],
      "source": [
        "bowie_bot = keras.models.load_model('/content/drive/MyDrive/datasets/david-bowie-'+str(char_window)+'-'+str(step))"
      ],
      "id": "LmInuSFCfQgd"
    },
    {
      "cell_type": "code",
      "execution_count": null,
      "metadata": {
        "colab": {
          "base_uri": "https://localhost:8080/"
        },
        "id": "2_Tp5uPjfQge",
        "outputId": "e299a56d-0743-4386-cec9-e9daf674cc2c"
      },
      "outputs": [
        {
          "output_type": "stream",
          "name": "stdout",
          "text": [
            "********** WINDOW = 20 STEP = 1 ***********\n",
            "**** TEMP = 0.01 ****\n",
            "i want to live my life\n",
            "oh yeah\n",
            "\n",
            "\n",
            "**** TEMP = 0.2 ****\n",
            "i want to live my life\n",
            "and the sun is a star\n",
            "so i cant help thinking about me\n",
            "something in ou\n",
            "\n",
            "**** TEMP = 0.5 ****\n",
            "i want to say or do\n",
            "and theres nothing were just for me\n",
            "the stars of leathing the will they let me down\n",
            "a\n",
            "\n",
            "**** TEMP = 1.0 ****\n",
            "i want to live\n",
            "freak on tonight\n",
            "thats all well\n",
            "i like it\n",
            "we can be neath hunk now \n",
            "really le dont be away\n",
            "ha\n",
            "\n",
            "**** TEMP = 1.2 ****\n",
            "i want to the heat walking me along\n",
            "swove cie telling my new\n",
            "and right angels thun their days my from me\n",
            "wat\n",
            "\n",
            "**** TEMP = 1.5 ****\n",
            "i want to live\n",
            "sun me close\n",
            "emerdicains beyperiorniuf\n",
            "now juime\n",
            "neplen drie wonder\n",
            "i\n",
            "have everyone we explin\n",
            "\n",
            "\n"
          ]
        }
      ],
      "source": [
        "output = '********** WINDOW = ' + str(char_window) + ' STEP = ' + str(step) + ' ***********\\n'\n",
        "\n",
        "for temp in temps:\n",
        "    output += '**** TEMP = ' + str(temp) + ' ****\\n'\n",
        "    output += re.sub(\n",
        "      r'[\\n]+', '\\n',generate_line(bowie_bot,'i want to',temp,char_window)\n",
        "    )\n",
        "    output += '\\n\\n'\n",
        "\n",
        "print(output)\n",
        "file = open(\"/content/drive/MyDrive/datasets/lyrics.txt\", \"a\")  # append mode\n",
        "file.write(output+'\\n\\n')\n",
        "file.close()"
      ],
      "id": "2_Tp5uPjfQge"
    },
    {
      "cell_type": "code",
      "execution_count": null,
      "metadata": {
        "colab": {
          "base_uri": "https://localhost:8080/"
        },
        "id": "ZS2Bpj_efQge",
        "outputId": "3985c20a-42d3-409c-bfce-63107ff846b9"
      },
      "outputs": [
        {
          "output_type": "stream",
          "name": "stdout",
          "text": [
            "********** WINDOW = 20 STEP = 1 ***********\n",
            "**** TEMP = 0.01 ****\n",
            "today i cant help thinking about me\n",
            "\n",
            "\n",
            "**** TEMP = 0.2 ****\n",
            "today i cant help thinking about me\n",
            "something in our back\n",
            "the sun machine is a better way\n",
            "\n",
            "\n",
            "**** TEMP = 0.5 ****\n",
            "today yeah\n",
            "get your arms the sun\n",
            "know it like a good time i called my star\n",
            "they wore if you made your pre\n",
            "\n",
            "**** TEMP = 1.0 ****\n",
            "today until you silly\n",
            "hey man he tanged the pice\n",
            "alfith real cool world\n",
            "im afraid i cant help it\n",
            "im afr\n",
            "\n",
            "**** TEMP = 1.2 ****\n",
            "today\n",
            "but look out free\n",
            "ooh ooh\n",
            "if\n",
            "im derigetee\n",
            "no hellbill i could run my brems end has goine\n",
            "yeah\n",
            "ah \n",
            "\n",
            "**** TEMP = 1.5 ****\n",
            "today can you zeel snades\n",
            "and out a saddaspendy hard\n",
            "ev waiting forgened behullet\n",
            "huplion\n",
            "he do\n",
            "happyma\n",
            "\n",
            "\n"
          ]
        }
      ],
      "source": [
        "output = '********** WINDOW = ' + str(char_window) + ' STEP = ' + str(step) + ' ***********\\n'\n",
        "\n",
        "for temp in temps:\n",
        "    output += '**** TEMP = ' + str(temp) + ' ****\\n'\n",
        "    output += re.sub(\n",
        "      r'[\\n]+', '\\n',generate_line(bowie_bot,'today',temp,char_window)\n",
        "    )\n",
        "    output += '\\n\\n'\n",
        "\n",
        "print(output)\n",
        "file = open(\"/content/drive/MyDrive/datasets/lyrics.txt\", \"a\")  # append mode\n",
        "file.write(output+'\\n\\n')\n",
        "file.close()"
      ],
      "id": "ZS2Bpj_efQge"
    },
    {
      "cell_type": "code",
      "execution_count": null,
      "metadata": {
        "colab": {
          "base_uri": "https://localhost:8080/"
        },
        "id": "WDbEK-z_fQge",
        "outputId": "02f67e26-afa6-423a-a79a-464b710d89df"
      },
      "outputs": [
        {
          "output_type": "stream",
          "name": "stdout",
          "text": [
            "********** WINDOW = 20 STEP = 1 ***********\n",
            "**** TEMP = 0.01 ****\n",
            "what am is a couple\n",
            "and the sun machine is coming down\n",
            "\n",
            "\n",
            "**** TEMP = 0.2 ****\n",
            "what am i can see her face is a mess\n",
            "rebel rebel your face is a mess\n",
            "and the days and she was alr\n",
            "\n",
            "**** TEMP = 0.5 ****\n",
            "what am is sailory little wonder you\n",
            "its the heart and i love\n",
            "and they take us to be been so long so i long\n",
            "\n",
            "**** TEMP = 1.0 ****\n",
            "what am is see faping man\n",
            "hold helping home\n",
            "for one dayss seven\n",
            "every much to be my good\n",
            "i dont\n",
            "dont let me b\n",
            "\n",
            "**** TEMP = 1.2 ****\n",
            "what am is only for the stars chectred dridhere first tiny a ultiel\n",
            "sevenad memy\n",
            "hey\n",
            "says alone we called my \n",
            "\n",
            "**** TEMP = 1.5 ****\n",
            "what am im god is bodes\n",
            "lhoys go kind ah heve\n",
            "couldnt lives wonder heaven\n",
            "chem wo \n",
            "kaindh lhh can he he lwon\n",
            "\n",
            "\n"
          ]
        }
      ],
      "source": [
        "output = '********** WINDOW = ' + str(char_window) + ' STEP = ' + str(step) + ' ***********\\n'\n",
        "\n",
        "for temp in temps:\n",
        "    output += '**** TEMP = ' + str(temp) + ' ****\\n'\n",
        "    output += re.sub(\n",
        "      r'[\\n]+', '\\n',generate_line(bowie_bot,'what am i',temp,char_window)\n",
        "    )\n",
        "    output += '\\n\\n'\n",
        "\n",
        "print(output)\n",
        "file = open(\"/content/drive/MyDrive/datasets/lyrics.txt\", \"a\")  # append mode\n",
        "file.write(output+'\\n\\n')\n",
        "file.close()"
      ],
      "id": "WDbEK-z_fQge"
    },
    {
      "cell_type": "markdown",
      "metadata": {
        "id": "1pxJY4V6fcKK"
      },
      "source": [
        "## char = 100, step = 5"
      ],
      "id": "1pxJY4V6fcKK"
    },
    {
      "cell_type": "code",
      "execution_count": null,
      "metadata": {
        "id": "8cbQK6oFfcKK"
      },
      "outputs": [],
      "source": [
        "char_window = 50\n",
        "step = 3\n",
        "epochs = 5\n",
        "temps = [.01, 0.2, 0.5, 1.0, 1.2, 1.5]"
      ],
      "id": "8cbQK6oFfcKK"
    },
    {
      "cell_type": "code",
      "execution_count": null,
      "metadata": {
        "colab": {
          "background_save": true,
          "base_uri": "https://localhost:8080/"
        },
        "id": "yXZdR2XsfcKL",
        "outputId": "cccd54ac-0fc6-4ab4-8565-ae205a4ab534"
      },
      "outputs": [
        {
          "name": "stdout",
          "output_type": "stream",
          "text": [
            "Epoch 1/5\n",
            "16977/16977 [==============================] - 5408s 318ms/step - loss: 1.7867 - accuracy: 0.4561\n",
            "Epoch 2/5\n",
            "16977/16977 [==============================] - 5432s 320ms/step - loss: 1.4405 - accuracy: 0.5547\n",
            "Epoch 3/5\n",
            "16977/16977 [==============================] - 5717s 337ms/step - loss: 1.3463 - accuracy: 0.5822\n",
            "Epoch 4/5\n",
            "16977/16977 [==============================] - 5602s 330ms/step - loss: 1.3010 - accuracy: 0.5965\n",
            "Epoch 5/5\n",
            "16977/16977 [==============================] - 5502s 324ms/step - loss: 1.2732 - accuracy: 0.6040\n"
          ]
        },
        {
          "name": "stderr",
          "output_type": "stream",
          "text": [
            "WARNING:absl:Found untraced functions such as lstm_cell_4_layer_call_fn, lstm_cell_4_layer_call_and_return_conditional_losses, lstm_cell_5_layer_call_fn, lstm_cell_5_layer_call_and_return_conditional_losses while saving (showing 4 of 4). These functions will not be directly callable after loading.\n"
          ]
        },
        {
          "name": "stdout",
          "output_type": "stream",
          "text": [
            "INFO:tensorflow:Assets written to: /content/drive/MyDrive/datasets/david-bowie-50-3/assets\n"
          ]
        },
        {
          "name": "stderr",
          "output_type": "stream",
          "text": [
            "INFO:tensorflow:Assets written to: /content/drive/MyDrive/datasets/david-bowie-50-3/assets\n",
            "WARNING:absl:<keras.layers.recurrent.LSTMCell object at 0x7f014471b790> has the same name 'LSTMCell' as a built-in Keras object. Consider renaming <class 'keras.layers.recurrent.LSTMCell'> to avoid naming conflicts when loading with `tf.keras.models.load_model`. If renaming is not possible, pass the object in the `custom_objects` parameter of the load function.\n",
            "WARNING:absl:<keras.layers.recurrent.LSTMCell object at 0x7f0142cf6510> has the same name 'LSTMCell' as a built-in Keras object. Consider renaming <class 'keras.layers.recurrent.LSTMCell'> to avoid naming conflicts when loading with `tf.keras.models.load_model`. If renaming is not possible, pass the object in the `custom_objects` parameter of the load function.\n"
          ]
        }
      ],
      "source": [
        "bowie_bot = create_char_model('david-bowie',char_window,step,epochs)"
      ],
      "id": "yXZdR2XsfcKL"
    },
    {
      "cell_type": "code",
      "execution_count": null,
      "metadata": {
        "id": "CJw0L_6PfcKL"
      },
      "outputs": [],
      "source": [
        "bowie_bot = keras.models.load_model('/content/drive/MyDrive/datasets/david-bowie-'+str(char_window)+'-'+str(step))"
      ],
      "id": "CJw0L_6PfcKL"
    },
    {
      "cell_type": "code",
      "execution_count": null,
      "metadata": {
        "colab": {
          "base_uri": "https://localhost:8080/"
        },
        "id": "kN619b2pfcKL",
        "outputId": "f225d79c-59ed-48bf-f9f3-78cf752195f5"
      },
      "outputs": [
        {
          "output_type": "stream",
          "name": "stdout",
          "text": [
            "********** WINDOW = 50 STEP = 3 ***********\n",
            "**** TEMP = 0.01 ****\n",
            "i want to say\n",
            "\n",
            "\n",
            "**** TEMP = 0.2 ****\n",
            "i want to sear the street\n",
            "\n",
            "\n",
            "**** TEMP = 0.5 ****\n",
            "i want to say a the same of the same\n",
            "in the sky and the moon\n",
            "while the caled the same to such a better full\n",
            "\n",
            "\n",
            "**** TEMP = 1.0 ****\n",
            "i want to face\n",
            "right live  \n",
            "yary on your mindlit day from no money you\n",
            "and im fly red bocent perchly big boy\n",
            "\n",
            "**** TEMP = 1.2 ****\n",
            "i want to send life your trast\n",
            "byebye love love\n",
            "bse of polister repuice\n",
            "that i put with him\n",
            "youve nabe bass a\n",
            "\n",
            "**** TEMP = 1.5 ****\n",
            "i want togaze little shany\n",
            "sendee\n",
            "brobrow down cbing\n",
            "his lwvails\n",
            "saver\n",
            "sfinged i stora befemby glamp and and\n",
            "\n",
            "\n"
          ]
        }
      ],
      "source": [
        "output = '********** WINDOW = ' + str(char_window) + ' STEP = ' + str(step) + ' ***********\\n'\n",
        "\n",
        "for temp in temps:\n",
        "    output += '**** TEMP = ' + str(temp) + ' ****\\n'\n",
        "    output += re.sub(\n",
        "      r'[\\n]+', '\\n',generate_line(bowie_bot,'i want to',temp,char_window)\n",
        "    )\n",
        "    output += '\\n\\n'\n",
        "\n",
        "print(output)\n",
        "file = open(\"/content/drive/MyDrive/datasets/lyrics.txt\", \"a\")  # append mode\n",
        "file.write(output+'\\n\\n')\n",
        "file.close()"
      ],
      "id": "kN619b2pfcKL"
    },
    {
      "cell_type": "code",
      "execution_count": null,
      "metadata": {
        "colab": {
          "base_uri": "https://localhost:8080/"
        },
        "id": "-6prs_GbfcKL",
        "outputId": "eadeb8dd-1b4b-4d6f-eb17-544427693d09"
      },
      "outputs": [
        {
          "output_type": "stream",
          "name": "stdout",
          "text": [
            "********** WINDOW = 50 STEP = 3 ***********\n",
            "**** TEMP = 0.01 ****\n",
            "today int mart of the street\n",
            "i cant help thinking about me\n",
            "\n",
            "\n",
            "**** TEMP = 0.2 ****\n",
            "today and i can see me to stay\n",
            "\n",
            "\n",
            "**** TEMP = 0.5 ****\n",
            "today in the strange throw with men and the sky\n",
            "she says the way that you cant say no do\n",
            "so st\n",
            "\n",
            "**** TEMP = 1.0 ****\n",
            "today looks\n",
            "mama amaha that my crazy icle wutchery bowlead\n",
            "thesn mim time time man\n",
            "choo dig bar re da da \n",
            "\n",
            "**** TEMP = 1.2 ****\n",
            "today if hope sound burrhise nhortisre eyes\n",
            "rebel \n",
            "now my moonbiet \n",
            "grow hum here is no one doesnnt fo\n",
            "\n",
            "**** TEMP = 1.5 ****\n",
            "today we talk trmach yourselvey over\n",
            "you fall that brain\n",
            "breathil \n",
            "it\n",
            "lear wime\n",
            "uheathery free bite\n",
            "iffer\n",
            "\n",
            "\n"
          ]
        }
      ],
      "source": [
        "output = '********** WINDOW = ' + str(char_window) + ' STEP = ' + str(step) + ' ***********\\n'\n",
        "\n",
        "for temp in temps:\n",
        "    output += '**** TEMP = ' + str(temp) + ' ****\\n'\n",
        "    output += re.sub(\n",
        "      r'[\\n]+', '\\n',generate_line(bowie_bot,'today',temp,char_window)\n",
        "    )\n",
        "    output += '\\n\\n'\n",
        "\n",
        "print(output)\n",
        "file = open(\"/content/drive/MyDrive/datasets/lyrics.txt\", \"a\")  # append mode\n",
        "file.write(output+'\\n\\n')\n",
        "file.close()"
      ],
      "id": "-6prs_GbfcKL"
    },
    {
      "cell_type": "code",
      "execution_count": null,
      "metadata": {
        "colab": {
          "base_uri": "https://localhost:8080/"
        },
        "id": "Cl34RC8kfcKM",
        "outputId": "452604fc-4d11-4b1a-f1d0-2e7803dc8bca"
      },
      "outputs": [
        {
          "output_type": "stream",
          "name": "stdout",
          "text": [
            "********** WINDOW = 50 STEP = 3 ***********\n",
            "**** TEMP = 0.01 ****\n",
            "what am i cant help thinking about me\n",
            "\n",
            "\n",
            "**** TEMP = 0.2 ****\n",
            "what am i love you the street of the stars\n",
            "and the sun machine is coming to say\n",
            "i cant help thinking about \n",
            "\n",
            "**** TEMP = 0.5 ****\n",
            "what am i cant stay and the pail cant see me\n",
            "the sun machine is coming to such a shook the street\n",
            "now now i\n",
            "\n",
            "**** TEMP = 1.0 ****\n",
            "what am in the poat man sausend\n",
            "when hey man so saim on suicide\n",
            "im a bread of me of pourent your living rose\n",
            "\n",
            "\n",
            "**** TEMP = 1.2 ****\n",
            "what am i will gove you stoppeajir crowns of pirarria\n",
            "i want tall tell your mouth\n",
            "til you like a better ba\n",
            "\n",
            "**** TEMP = 1.5 ****\n",
            "what am in our faced reweals\n",
            "sarls manp\n",
            "cruight mide and eatters are all unem to\n",
            "kissel sava thigh wenky sky\n",
            "\n",
            "\n",
            "\n"
          ]
        }
      ],
      "source": [
        "output = '********** WINDOW = ' + str(char_window) + ' STEP = ' + str(step) + ' ***********\\n'\n",
        "\n",
        "for temp in temps:\n",
        "    output += '**** TEMP = ' + str(temp) + ' ****\\n'\n",
        "    output += re.sub(\n",
        "      r'[\\n]+', '\\n',generate_line(bowie_bot,'what am i',temp,char_window)\n",
        "    )\n",
        "    output += '\\n\\n'\n",
        "\n",
        "print(output)\n",
        "file = open(\"/content/drive/MyDrive/datasets/lyrics.txt\", \"a\")  # append mode\n",
        "file.write(output+'\\n\\n')\n",
        "file.close()"
      ],
      "id": "Cl34RC8kfcKM"
    },
    {
      "cell_type": "code",
      "execution_count": null,
      "metadata": {
        "colab": {
          "background_save": true
        },
        "id": "uiojSMfcgNoZ"
      },
      "outputs": [],
      "source": [
        ""
      ],
      "id": "uiojSMfcgNoZ"
    }
  ],
  "metadata": {
    "colab": {
      "collapsed_sections": [],
      "name": "text-gen-char.ipynb",
      "provenance": [],
      "include_colab_link": true
    },
    "kernelspec": {
      "display_name": "Python 3",
      "language": "python",
      "name": "python3"
    },
    "language_info": {
      "codemirror_mode": {
        "name": "ipython",
        "version": 3
      },
      "file_extension": ".py",
      "mimetype": "text/x-python",
      "name": "python",
      "nbconvert_exporter": "python",
      "pygments_lexer": "ipython3",
      "version": "3.7.12"
    },
    "papermill": {
      "default_parameters": {},
      "duration": 2481.903505,
      "end_time": "2022-03-16T03:43:35.124914",
      "environment_variables": {},
      "exception": null,
      "input_path": "__notebook__.ipynb",
      "output_path": "__notebook__.ipynb",
      "parameters": {},
      "start_time": "2022-03-16T03:02:13.221409",
      "version": "2.3.3"
    }
  },
  "nbformat": 4,
  "nbformat_minor": 5
}