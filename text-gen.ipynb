{
 "cells": [
  {
   "cell_type": "code",
   "execution_count": 1,
   "id": "63475ac8",
   "metadata": {
    "_cell_guid": "b1076dfc-b9ad-4769-8c92-a6c4dae69d19",
    "_uuid": "8f2839f25d086af736a60e9eeb907d3b93b6e0e5",
    "execution": {
     "iopub.execute_input": "2022-03-05T23:37:42.615572Z",
     "iopub.status.busy": "2022-03-05T23:37:42.614335Z",
     "iopub.status.idle": "2022-03-05T23:37:42.649566Z",
     "shell.execute_reply": "2022-03-05T23:37:42.648618Z",
     "shell.execute_reply.started": "2022-03-05T23:22:01.904931Z"
    },
    "papermill": {
     "duration": 0.062569,
     "end_time": "2022-03-05T23:37:42.649761",
     "exception": false,
     "start_time": "2022-03-05T23:37:42.587192",
     "status": "completed"
    },
    "tags": []
   },
   "outputs": [
    {
     "name": "stdout",
     "output_type": "stream",
     "text": [
      "/kaggle/input/poetry/Kanye_West.txt\n",
      "/kaggle/input/poetry/johnny-cash.txt\n",
      "/kaggle/input/poetry/kanye-west.txt\n",
      "/kaggle/input/poetry/bruno-mars.txt\n",
      "/kaggle/input/poetry/dickinson.txt\n",
      "/kaggle/input/poetry/amy-winehouse.txt\n",
      "/kaggle/input/poetry/blink-182.txt\n",
      "/kaggle/input/poetry/paul-simon.txt\n",
      "/kaggle/input/poetry/patti-smith.txt\n",
      "/kaggle/input/poetry/bieber.txt\n",
      "/kaggle/input/poetry/disney.txt\n",
      "/kaggle/input/poetry/jimi-hendrix.txt\n",
      "/kaggle/input/poetry/lin-manuel-miranda.txt\n",
      "/kaggle/input/poetry/adele.txt\n",
      "/kaggle/input/poetry/dj-khaled.txt\n",
      "/kaggle/input/poetry/beatles.txt\n",
      "/kaggle/input/poetry/r-kelly.txt\n",
      "/kaggle/input/poetry/lady-gaga.txt\n",
      "/kaggle/input/poetry/radiohead.txt\n",
      "/kaggle/input/poetry/britney-spears.txt\n",
      "/kaggle/input/poetry/alicia-keys.txt\n",
      "/kaggle/input/poetry/rihanna.txt\n",
      "/kaggle/input/poetry/joni-mitchell.txt\n",
      "/kaggle/input/poetry/dolly-parton.txt\n",
      "/kaggle/input/poetry/drake.txt\n",
      "/kaggle/input/poetry/Lil_Wayne.txt\n",
      "/kaggle/input/poetry/notorious_big.txt\n",
      "/kaggle/input/poetry/eminem.txt\n",
      "/kaggle/input/poetry/janisjoplin.txt\n",
      "/kaggle/input/poetry/prince.txt\n",
      "/kaggle/input/poetry/bruce-springsteen.txt\n",
      "/kaggle/input/poetry/bob-dylan.txt\n",
      "/kaggle/input/poetry/notorious-big.txt\n",
      "/kaggle/input/poetry/lil-wayne.txt\n",
      "/kaggle/input/poetry/dr-seuss.txt\n",
      "/kaggle/input/poetry/nicki-minaj.txt\n",
      "/kaggle/input/poetry/bob-marley.txt\n",
      "/kaggle/input/poetry/al-green.txt\n",
      "/kaggle/input/poetry/nickelback.txt\n",
      "/kaggle/input/poetry/michael-jackson.txt\n",
      "/kaggle/input/poetry/lorde.txt\n",
      "/kaggle/input/poetry/kanye.txt\n",
      "/kaggle/input/poetry/leonard-cohen.txt\n",
      "/kaggle/input/poetry/ludacris.txt\n",
      "/kaggle/input/poetry/bjork.txt\n",
      "/kaggle/input/poetry/nursery_rhymes.txt\n",
      "/kaggle/input/poetry/nirvana.txt\n",
      "/kaggle/input/poetry/cake.txt\n",
      "/kaggle/input/poetry/missy-elliott.txt\n"
     ]
    }
   ],
   "source": [
    "# This Python 3 environment comes with many helpful analytics libraries installed\n",
    "# It is defined by the kaggle/python Docker image: https://github.com/kaggle/docker-python\n",
    "# For example, here's several helpful packages to load\n",
    "\n",
    "import numpy as np # linear algebra\n",
    "import pandas as pd # data processing, CSV file I/O (e.g. pd.read_csv)\n",
    "\n",
    "# Input data files are available in the read-only \"../input/\" directory\n",
    "# For example, running this (by clicking run or pressing Shift+Enter) will list all files under the input directory\n",
    "\n",
    "import os\n",
    "for dirname, _, filenames in os.walk('/kaggle/input'):\n",
    "    for filename in filenames:\n",
    "        print(os.path.join(dirname, filename))\n",
    "\n",
    "# You can write up to 20GB to the current directory (/kaggle/working/) that gets preserved as output when you create a version using \"Save & Run All\" \n",
    "# You can also write temporary files to /kaggle/temp/, but they won't be saved outside of the current session"
   ]
  },
  {
   "cell_type": "code",
   "execution_count": 2,
   "id": "bd9cf090",
   "metadata": {
    "execution": {
     "iopub.execute_input": "2022-03-05T23:37:42.699403Z",
     "iopub.status.busy": "2022-03-05T23:37:42.698445Z",
     "iopub.status.idle": "2022-03-05T23:37:49.375536Z",
     "shell.execute_reply": "2022-03-05T23:37:49.374790Z",
     "shell.execute_reply.started": "2022-03-05T23:22:02.275242Z"
    },
    "papermill": {
     "duration": 6.703811,
     "end_time": "2022-03-05T23:37:49.375749",
     "exception": false,
     "start_time": "2022-03-05T23:37:42.671938",
     "status": "completed"
    },
    "tags": []
   },
   "outputs": [],
   "source": [
    "import tensorflow as tf\n",
    "import keras"
   ]
  },
  {
   "cell_type": "markdown",
   "id": "315d366c",
   "metadata": {
    "papermill": {
     "duration": 0.021184,
     "end_time": "2022-03-05T23:37:49.418947",
     "exception": false,
     "start_time": "2022-03-05T23:37:49.397763",
     "status": "completed"
    },
    "tags": []
   },
   "source": [
    "# GOAL - create a bot to generate song lyrics using RNN"
   ]
  },
  {
   "cell_type": "code",
   "execution_count": 3,
   "id": "54da567c",
   "metadata": {
    "execution": {
     "iopub.execute_input": "2022-03-05T23:37:49.467182Z",
     "iopub.status.busy": "2022-03-05T23:37:49.466077Z",
     "iopub.status.idle": "2022-03-05T23:37:49.470541Z",
     "shell.execute_reply": "2022-03-05T23:37:49.471190Z",
     "shell.execute_reply.started": "2022-03-05T23:22:03.108535Z"
    },
    "papermill": {
     "duration": 0.030399,
     "end_time": "2022-03-05T23:37:49.471413",
     "exception": false,
     "start_time": "2022-03-05T23:37:49.441014",
     "status": "completed"
    },
    "tags": []
   },
   "outputs": [],
   "source": [
    "artist = '/kaggle/input/poetry/Kanye_West.txt'\n",
    "char_window = 20\n",
    "step = 3"
   ]
  },
  {
   "cell_type": "code",
   "execution_count": 4,
   "id": "1f7d4243",
   "metadata": {
    "execution": {
     "iopub.execute_input": "2022-03-05T23:37:49.519686Z",
     "iopub.status.busy": "2022-03-05T23:37:49.518967Z",
     "iopub.status.idle": "2022-03-05T23:37:49.535622Z",
     "shell.execute_reply": "2022-03-05T23:37:49.536256Z",
     "shell.execute_reply.started": "2022-03-05T23:22:03.510646Z"
    },
    "papermill": {
     "duration": 0.042394,
     "end_time": "2022-03-05T23:37:49.536470",
     "exception": false,
     "start_time": "2022-03-05T23:37:49.494076",
     "status": "completed"
    },
    "tags": []
   },
   "outputs": [],
   "source": [
    "with open(artist) as f:\n",
    "    text = f.read().lower()"
   ]
  },
  {
   "cell_type": "code",
   "execution_count": 5,
   "id": "8bac3a4d",
   "metadata": {
    "execution": {
     "iopub.execute_input": "2022-03-05T23:37:49.590279Z",
     "iopub.status.busy": "2022-03-05T23:37:49.581776Z",
     "iopub.status.idle": "2022-03-05T23:37:49.593138Z",
     "shell.execute_reply": "2022-03-05T23:37:49.592568Z",
     "shell.execute_reply.started": "2022-03-05T23:22:03.903738Z"
    },
    "papermill": {
     "duration": 0.035385,
     "end_time": "2022-03-05T23:37:49.593287",
     "exception": false,
     "start_time": "2022-03-05T23:37:49.557902",
     "status": "completed"
    },
    "tags": []
   },
   "outputs": [],
   "source": [
    "import re\n",
    "\n",
    "text = re.sub('[^a-z \\n]','',text)"
   ]
  },
  {
   "cell_type": "code",
   "execution_count": 6,
   "id": "37dc4339",
   "metadata": {
    "execution": {
     "iopub.execute_input": "2022-03-05T23:37:49.645332Z",
     "iopub.status.busy": "2022-03-05T23:37:49.638793Z",
     "iopub.status.idle": "2022-03-05T23:37:49.649067Z",
     "shell.execute_reply": "2022-03-05T23:37:49.648329Z",
     "shell.execute_reply.started": "2022-03-05T23:22:04.285466Z"
    },
    "papermill": {
     "duration": 0.034964,
     "end_time": "2022-03-05T23:37:49.649221",
     "exception": false,
     "start_time": "2022-03-05T23:37:49.614257",
     "status": "completed"
    },
    "tags": []
   },
   "outputs": [],
   "source": [
    "chars = sorted(list(set(text)))\n",
    "chars = chars[:28]\n",
    "char_to_index = dict((c, i) for i, c in enumerate(chars))\n",
    "index_to_char = dict((i, c) for i, c in enumerate(chars))"
   ]
  },
  {
   "cell_type": "code",
   "execution_count": 7,
   "id": "a93ba6e2",
   "metadata": {
    "execution": {
     "iopub.execute_input": "2022-03-05T23:37:49.723462Z",
     "iopub.status.busy": "2022-03-05T23:37:49.712690Z",
     "iopub.status.idle": "2022-03-05T23:37:49.786192Z",
     "shell.execute_reply": "2022-03-05T23:37:49.785583Z",
     "shell.execute_reply.started": "2022-03-05T23:22:04.769134Z"
    },
    "papermill": {
     "duration": 0.114932,
     "end_time": "2022-03-05T23:37:49.786357",
     "exception": false,
     "start_time": "2022-03-05T23:37:49.671425",
     "status": "completed"
    },
    "tags": []
   },
   "outputs": [
    {
     "data": {
      "text/plain": [
       "[('eighteen years eight', 'e'),\n",
       " ('hteen years eighteen', ' '),\n",
       " ('en years eighteen ye', 'a'),\n",
       " ('years eighteen years', '\\n'),\n",
       " ('rs eighteen years\\nsh', 'e'),\n",
       " ('eighteen years\\nshe g', 'o'),\n",
       " ('hteen years\\nshe got ', 'o'),\n",
       " ('en years\\nshe got one', ' '),\n",
       " ('years\\nshe got one of', ' '),\n",
       " ('rs\\nshe got one of yo', 'u'),\n",
       " ('she got one of your ', 'k'),\n",
       " (' got one of your kid', 's'),\n",
       " ('t one of your kids g', 'o'),\n",
       " ('ne of your kids got ', 'y'),\n",
       " ('of your kids got you', ' '),\n",
       " ('your kids got you fo', 'r'),\n",
       " ('r kids got you for e', 'i'),\n",
       " ('ids got you for eigh', 't'),\n",
       " (' got you for eightee', 'n'),\n",
       " ('t you for eighteen y', 'e'),\n",
       " ('ou for eighteen year', 's'),\n",
       " ('for eighteen years\\ni', ' '),\n",
       " (' eighteen years\\ni kn', 'o'),\n",
       " ('ghteen years\\ni know ', 's'),\n",
       " ('een years\\ni know som', 'e'),\n",
       " (' years\\ni know somebo', 'd'),\n",
       " ('ars\\ni know somebody ', 'p'),\n",
       " ('\\ni know somebody pay', 'i'),\n",
       " ('know somebody paying', ' '),\n",
       " ('w somebody paying ch', 'i'),\n",
       " ('omebody paying child', ' '),\n",
       " ('body paying child su', 'p'),\n",
       " ('y paying child suppo', 'r'),\n",
       " ('aying child support ', 'f'),\n",
       " ('ng child support for', ' '),\n",
       " ('child support for on', 'e'),\n",
       " ('ld support for one o', 'f'),\n",
       " ('support for one of h', 'i'),\n",
       " ('port for one of his ', 'k'),\n",
       " ('t for one of his kid', 's'),\n",
       " ('or one of his kids\\nh', 'i'),\n",
       " ('one of his kids\\nhis ', 'b'),\n",
       " (' of his kids\\nhis bab', 'y'),\n",
       " (' his kids\\nhis baby m', 'a'),\n",
       " ('s kids\\nhis baby mama', ' '),\n",
       " ('ids\\nhis baby mama ca', 'r'),\n",
       " ('\\nhis baby mama car a', 'n'),\n",
       " ('s baby mama car and ', 'c'),\n",
       " ('aby mama car and cri', 'b'),\n",
       " (' mama car and crib i', 's'),\n",
       " ('ma car and crib is b', 'i'),\n",
       " ('car and crib is bigg', 'e'),\n",
       " (' and crib is bigger ', 't'),\n",
       " ('d crib is bigger tha', 'n'),\n",
       " ('rib is bigger than h', 'i'),\n",
       " (' is bigger than his\\n', 'y'),\n",
       " (' bigger than his\\nyou', ' '),\n",
       " ('gger than his\\nyou wi', 'l'),\n",
       " ('r than his\\nyou will ', 's'),\n",
       " ('han his\\nyou will see', ' '),\n",
       " (' his\\nyou will see hi', 'm'),\n",
       " ('s\\nyou will see him o', 'n'),\n",
       " ('ou will see him on t', 'v'),\n",
       " ('will see him on tv a', 'n'),\n",
       " ('l see him on tv any ', 'g'),\n",
       " ('ee him on tv any giv', 'e'),\n",
       " ('him on tv any given ', 's'),\n",
       " (' on tv any given sun', 'd'),\n",
       " (' tv any given sunday', '\\n'),\n",
       " (' any given sunday\\nwi', 'n'),\n",
       " ('y given sunday\\nwin t', 'h'),\n",
       " ('iven sunday\\nwin the ', 's'),\n",
       " ('n sunday\\nwin the sup', 'e'),\n",
       " ('unday\\nwin the super ', 'b'),\n",
       " ('ay\\nwin the super bow', 'l'),\n",
       " ('win the super bowl a', 'n'),\n",
       " (' the super bowl and ', 'd'),\n",
       " ('e super bowl and dri', 'v'),\n",
       " ('uper bowl and drive ', 'o'),\n",
       " ('r bowl and drive off', ' '),\n",
       " ('owl and drive off in', ' '),\n",
       " (' and drive off in a ', 'h'),\n",
       " ('d drive off in a hyu', 'n'),\n",
       " ('rive off in a hyunda', 'i'),\n",
       " ('e off in a hyundai\\ns', 'h'),\n",
       " ('ff in a hyundai\\nshe ', 'w'),\n",
       " ('in a hyundai\\nshe was', ' '),\n",
       " ('a hyundai\\nshe was su', 'p'),\n",
       " ('yundai\\nshe was suppo', 's'),\n",
       " ('dai\\nshe was supposed', ' '),\n",
       " ('\\nshe was supposed to', ' '),\n",
       " ('e was supposed to bu', 'y'),\n",
       " ('as supposed to buy y', 'o'),\n",
       " ('supposed to buy your', ' '),\n",
       " ('posed to buy your sh', 'o'),\n",
       " ('ed to buy your short', 'y'),\n",
       " ('to buy your shorty t', 'y'),\n",
       " ('buy your shorty tyco', ' '),\n",
       " (' your shorty tyco wi', 't'),\n",
       " ('ur shorty tyco with ', 'y')]"
      ]
     },
     "execution_count": 7,
     "metadata": {},
     "output_type": "execute_result"
    }
   ],
   "source": [
    "inputs = []\n",
    "next_chars = []\n",
    "\n",
    "for i in range(0,len(text)-char_window,step):\n",
    "    inputs.append(text[i:i+char_window])\n",
    "    next_chars.append(text[i+char_window])\n",
    "        \n",
    "pairs = zip(inputs,next_chars)\n",
    "list(pairs)[:100]"
   ]
  },
  {
   "cell_type": "code",
   "execution_count": 8,
   "id": "93c3f363",
   "metadata": {
    "execution": {
     "iopub.execute_input": "2022-03-05T23:37:49.852690Z",
     "iopub.status.busy": "2022-03-05T23:37:49.846846Z",
     "iopub.status.idle": "2022-03-05T23:37:50.825359Z",
     "shell.execute_reply": "2022-03-05T23:37:50.824628Z",
     "shell.execute_reply.started": "2022-03-05T23:22:08.401365Z"
    },
    "papermill": {
     "duration": 1.016449,
     "end_time": "2022-03-05T23:37:50.825541",
     "exception": false,
     "start_time": "2022-03-05T23:37:49.809092",
     "status": "completed"
    },
    "tags": []
   },
   "outputs": [
    {
     "data": {
      "text/plain": [
       "array([[ 6., 10.,  8., ...,  8.,  9., 21.],\n",
       "       [ 9., 21.,  6., ...,  6.,  6., 15.],\n",
       "       [ 6., 15.,  1., ...,  1., 26.,  6.],\n",
       "       ...,\n",
       "       [14., 17., 16., ...,  1., 21.,  9.],\n",
       "       [19., 21.,  2., ...,  2., 21.,  1.],\n",
       "       [15., 21.,  1., ..., 26., 16., 22.]], dtype=float32)"
      ]
     },
     "execution_count": 8,
     "metadata": {},
     "output_type": "execute_result"
    }
   ],
   "source": [
    "X = np.zeros((len(inputs),char_window),dtype=np.float32)\n",
    "\n",
    "for i in range(len(inputs)):\n",
    "    for j in range(char_window):\n",
    "        X[i,j] = char_to_index[inputs[i][j]]\n",
    "        \n",
    "X"
   ]
  },
  {
   "cell_type": "code",
   "execution_count": 9,
   "id": "3816b0eb",
   "metadata": {
    "execution": {
     "iopub.execute_input": "2022-03-05T23:37:50.913051Z",
     "iopub.status.busy": "2022-03-05T23:37:50.898598Z",
     "iopub.status.idle": "2022-03-05T23:37:50.930053Z",
     "shell.execute_reply": "2022-03-05T23:37:50.929315Z",
     "shell.execute_reply.started": "2022-03-05T23:22:09.361688Z"
    },
    "papermill": {
     "duration": 0.082225,
     "end_time": "2022-03-05T23:37:50.930324",
     "exception": false,
     "start_time": "2022-03-05T23:37:50.848099",
     "status": "completed"
    },
    "tags": []
   },
   "outputs": [
    {
     "data": {
      "text/plain": [
       "array([[0., 0., 0., ..., 0., 0., 0.],\n",
       "       [0., 1., 0., ..., 0., 0., 0.],\n",
       "       [0., 0., 1., ..., 0., 0., 0.],\n",
       "       ...,\n",
       "       [0., 0., 1., ..., 0., 0., 0.],\n",
       "       [0., 0., 0., ..., 0., 1., 0.],\n",
       "       [1., 0., 0., ..., 0., 0., 0.]], dtype=float32)"
      ]
     },
     "execution_count": 9,
     "metadata": {},
     "output_type": "execute_result"
    }
   ],
   "source": [
    "from keras.utils.np_utils import to_categorical\n",
    "\n",
    "y = np.zeros(len(next_chars),dtype=np.float32)\n",
    "\n",
    "for i in range(len(next_chars)):\n",
    "    y[i] = char_to_index[next_chars[i]]\n",
    "\n",
    "y = to_categorical(y)\n",
    "\n",
    "y"
   ]
  },
  {
   "cell_type": "code",
   "execution_count": 10,
   "id": "93ccebb2",
   "metadata": {
    "execution": {
     "iopub.execute_input": "2022-03-05T23:37:50.983659Z",
     "iopub.status.busy": "2022-03-05T23:37:50.982931Z",
     "iopub.status.idle": "2022-03-05T23:37:51.521065Z",
     "shell.execute_reply": "2022-03-05T23:37:51.520377Z",
     "shell.execute_reply.started": "2022-03-05T23:22:10.648325Z"
    },
    "papermill": {
     "duration": 0.568484,
     "end_time": "2022-03-05T23:37:51.521226",
     "exception": false,
     "start_time": "2022-03-05T23:37:50.952742",
     "status": "completed"
    },
    "tags": []
   },
   "outputs": [
    {
     "name": "stderr",
     "output_type": "stream",
     "text": [
      "2022-03-05 23:37:51.023008: I tensorflow/core/common_runtime/process_util.cc:146] Creating new thread pool with default inter op setting: 2. Tune using inter_op_parallelism_threads for best performance.\n"
     ]
    },
    {
     "name": "stdout",
     "output_type": "stream",
     "text": [
      "Model: \"sequential\"\n",
      "_________________________________________________________________\n",
      "Layer (type)                 Output Shape              Param #   \n",
      "=================================================================\n",
      "embedding (Embedding)        (None, 20, 64)            1792      \n",
      "_________________________________________________________________\n",
      "lstm (LSTM)                  (None, 20, 256)           328704    \n",
      "_________________________________________________________________\n",
      "dropout (Dropout)            (None, 20, 256)           0         \n",
      "_________________________________________________________________\n",
      "simple_rnn (SimpleRNN)       (None, 256)               131328    \n",
      "_________________________________________________________________\n",
      "dropout_1 (Dropout)          (None, 256)               0         \n",
      "_________________________________________________________________\n",
      "dense (Dense)                (None, 28)                7196      \n",
      "=================================================================\n",
      "Total params: 469,020\n",
      "Trainable params: 469,020\n",
      "Non-trainable params: 0\n",
      "_________________________________________________________________\n"
     ]
    }
   ],
   "source": [
    "from keras.models import Sequential\n",
    "from keras.layers import Embedding, GRU, LSTM, SimpleRNN, Dense, Dropout\n",
    "\n",
    "model = Sequential()\n",
    "\n",
    "model.add(Embedding(28,64,input_length=char_window))\n",
    "model.add(LSTM(256,return_sequences=True))\n",
    "model.add(Dropout(0.2))\n",
    "model.add(SimpleRNN(256))\n",
    "model.add(Dropout(0.2))\n",
    "model.add(Dense(28,activation='softmax'))\n",
    "\n",
    "model.compile(loss='categorical_crossentropy', optimizer='adam',metrics=['accuracy'])\n",
    "model.summary()"
   ]
  },
  {
   "cell_type": "code",
   "execution_count": 11,
   "id": "f8e2459b",
   "metadata": {
    "execution": {
     "iopub.execute_input": "2022-03-05T23:37:51.581555Z",
     "iopub.status.busy": "2022-03-05T23:37:51.580264Z",
     "iopub.status.idle": "2022-03-05T23:51:23.987178Z",
     "shell.execute_reply": "2022-03-05T23:51:23.987748Z",
     "shell.execute_reply.started": "2022-03-05T23:22:12.235728Z"
    },
    "papermill": {
     "duration": 812.439937,
     "end_time": "2022-03-05T23:51:23.987998",
     "exception": false,
     "start_time": "2022-03-05T23:37:51.548061",
     "status": "completed"
    },
    "tags": []
   },
   "outputs": [
    {
     "name": "stderr",
     "output_type": "stream",
     "text": [
      "2022-03-05 23:37:51.666980: I tensorflow/compiler/mlir/mlir_graph_optimization_pass.cc:185] None of the MLIR Optimization Passes are enabled (registered 2)\n"
     ]
    },
    {
     "name": "stdout",
     "output_type": "stream",
     "text": [
      "Epoch 1/5\n",
      "1674/1674 [==============================] - 164s 96ms/step - loss: 2.3846 - accuracy: 0.3056\n",
      "Epoch 2/5\n",
      "1674/1674 [==============================] - 162s 97ms/step - loss: 2.0093 - accuracy: 0.3979\n",
      "Epoch 3/5\n",
      "1674/1674 [==============================] - 161s 96ms/step - loss: 1.8487 - accuracy: 0.4379\n",
      "Epoch 4/5\n",
      "1674/1674 [==============================] - 163s 97ms/step - loss: 1.7440 - accuracy: 0.4632\n",
      "Epoch 5/5\n",
      "1674/1674 [==============================] - 162s 97ms/step - loss: 1.6684 - accuracy: 0.4854\n"
     ]
    },
    {
     "data": {
      "text/plain": [
       "<keras.callbacks.History at 0x7ff183b5bbd0>"
      ]
     },
     "execution_count": 11,
     "metadata": {},
     "output_type": "execute_result"
    }
   ],
   "source": [
    "model.fit(X,y,epochs=5,batch_size=50)"
   ]
  },
  {
   "cell_type": "code",
   "execution_count": 12,
   "id": "2ebd72f7",
   "metadata": {
    "execution": {
     "iopub.execute_input": "2022-03-05T23:51:30.307525Z",
     "iopub.status.busy": "2022-03-05T23:51:30.306453Z",
     "iopub.status.idle": "2022-03-05T23:51:30.308936Z",
     "shell.execute_reply": "2022-03-05T23:51:30.309544Z",
     "shell.execute_reply.started": "2022-03-05T23:33:19.028116Z"
    },
    "papermill": {
     "duration": 3.07379,
     "end_time": "2022-03-05T23:51:30.309760",
     "exception": false,
     "start_time": "2022-03-05T23:51:27.235970",
     "status": "completed"
    },
    "tags": []
   },
   "outputs": [],
   "source": [
    "from keras.preprocessing.sequence import pad_sequences\n",
    "\n",
    "def generate_line(model,context):\n",
    "    line = context\n",
    "    next_char = ''\n",
    "    counter = 0\n",
    "    while counter<100 and next_char != '\\n':\n",
    "        X = [[char_to_index[line[i]] for i in range(0,len(line))]]\n",
    "        X = pad_sequences(X,maxlen=char_window)\n",
    "        y = model.predict(X)\n",
    "        next_char = index_to_char[np.argmax(y)]\n",
    "        counter+=1\n",
    "        line+=next_char\n",
    "    return line"
   ]
  },
  {
   "cell_type": "code",
   "execution_count": 13,
   "id": "8d6019e0",
   "metadata": {
    "execution": {
     "iopub.execute_input": "2022-03-05T23:51:36.667576Z",
     "iopub.status.busy": "2022-03-05T23:51:36.666464Z",
     "iopub.status.idle": "2022-03-05T23:51:44.295217Z",
     "shell.execute_reply": "2022-03-05T23:51:44.295766Z",
     "shell.execute_reply.started": "2022-03-05T23:33:19.037785Z"
    },
    "papermill": {
     "duration": 10.801599,
     "end_time": "2022-03-05T23:51:44.296019",
     "exception": false,
     "start_time": "2022-03-05T23:51:33.494420",
     "status": "completed"
    },
    "tags": []
   },
   "outputs": [
    {
     "data": {
      "text/plain": [
       "'one good girl i want to be all the best like a mind i want to be all the best like a mind i want to be all the be'"
      ]
     },
     "execution_count": 13,
     "metadata": {},
     "output_type": "execute_result"
    }
   ],
   "source": [
    "generate_line(model,'one good girl')"
   ]
  },
  {
   "cell_type": "code",
   "execution_count": 14,
   "id": "741a9f40",
   "metadata": {
    "execution": {
     "iopub.execute_input": "2022-03-05T23:51:50.559180Z",
     "iopub.status.busy": "2022-03-05T23:51:50.558465Z",
     "iopub.status.idle": "2022-03-05T23:51:57.431399Z",
     "shell.execute_reply": "2022-03-05T23:51:57.430797Z",
     "shell.execute_reply.started": "2022-03-05T23:35:22.579118Z"
    },
    "papermill": {
     "duration": 10.051573,
     "end_time": "2022-03-05T23:51:57.431561",
     "exception": false,
     "start_time": "2022-03-05T23:51:47.379988",
     "status": "completed"
    },
    "tags": []
   },
   "outputs": [
    {
     "data": {
      "text/plain": [
       "'i had a dream the best like a mind i want to be all the best like a mind i want to be all the best like a mind i '"
      ]
     },
     "execution_count": 14,
     "metadata": {},
     "output_type": "execute_result"
    }
   ],
   "source": [
    "generate_line(model,'i had a dream')"
   ]
  },
  {
   "cell_type": "code",
   "execution_count": 15,
   "id": "09d02b6b",
   "metadata": {
    "execution": {
     "iopub.execute_input": "2022-03-05T23:52:03.784250Z",
     "iopub.status.busy": "2022-03-05T23:52:03.783171Z",
     "iopub.status.idle": "2022-03-05T23:52:11.154585Z",
     "shell.execute_reply": "2022-03-05T23:52:11.154030Z",
     "shell.execute_reply.started": "2022-03-05T23:36:40.461354Z"
    },
    "papermill": {
     "duration": 10.603609,
     "end_time": "2022-03-05T23:52:11.154748",
     "exception": false,
     "start_time": "2022-03-05T23:52:00.551139",
     "status": "completed"
    },
    "tags": []
   },
   "outputs": [
    {
     "data": {
      "text/plain": [
       "'i need you to the best like a mind i want to be all the best like a mind i want to be all the best like a mind'"
      ]
     },
     "execution_count": 15,
     "metadata": {},
     "output_type": "execute_result"
    }
   ],
   "source": [
    "generate_line(model,'i need you')"
   ]
  },
  {
   "cell_type": "code",
   "execution_count": null,
   "id": "a2a990bd",
   "metadata": {
    "papermill": {
     "duration": 3.073064,
     "end_time": "2022-03-05T23:52:17.341254",
     "exception": false,
     "start_time": "2022-03-05T23:52:14.268190",
     "status": "completed"
    },
    "tags": []
   },
   "outputs": [],
   "source": []
  },
  {
   "cell_type": "markdown",
   "id": "2b165967",
   "metadata": {
    "papermill": {
     "duration": 3.129817,
     "end_time": "2022-03-05T23:52:23.655472",
     "exception": false,
     "start_time": "2022-03-05T23:52:20.525655",
     "status": "completed"
    },
    "tags": []
   },
   "source": [
    "# Try tokenizing on words, maybe using transfer learning"
   ]
  },
  {
   "cell_type": "code",
   "execution_count": null,
   "id": "1d50d6e5",
   "metadata": {
    "papermill": {
     "duration": 3.145447,
     "end_time": "2022-03-05T23:52:29.878523",
     "exception": false,
     "start_time": "2022-03-05T23:52:26.733076",
     "status": "completed"
    },
    "tags": []
   },
   "outputs": [],
   "source": []
  },
  {
   "cell_type": "code",
   "execution_count": null,
   "id": "8be3ac62",
   "metadata": {
    "papermill": {
     "duration": 3.07572,
     "end_time": "2022-03-05T23:52:36.054385",
     "exception": false,
     "start_time": "2022-03-05T23:52:32.978665",
     "status": "completed"
    },
    "tags": []
   },
   "outputs": [],
   "source": []
  },
  {
   "cell_type": "code",
   "execution_count": null,
   "id": "74a1c0b5",
   "metadata": {
    "papermill": {
     "duration": 3.176918,
     "end_time": "2022-03-05T23:52:42.385099",
     "exception": false,
     "start_time": "2022-03-05T23:52:39.208181",
     "status": "completed"
    },
    "tags": []
   },
   "outputs": [],
   "source": []
  }
 ],
 "metadata": {
  "kernelspec": {
   "display_name": "Python 3",
   "language": "python",
   "name": "python3"
  },
  "language_info": {
   "codemirror_mode": {
    "name": "ipython",
    "version": 3
   },
   "file_extension": ".py",
   "mimetype": "text/x-python",
   "name": "python",
   "nbconvert_exporter": "python",
   "pygments_lexer": "ipython3",
   "version": "3.7.12"
  },
  "papermill": {
   "default_parameters": {},
   "duration": 916.921915,
   "end_time": "2022-03-05T23:52:48.587360",
   "environment_variables": {},
   "exception": null,
   "input_path": "__notebook__.ipynb",
   "output_path": "__notebook__.ipynb",
   "parameters": {},
   "start_time": "2022-03-05T23:37:31.665445",
   "version": "2.3.3"
  }
 },
 "nbformat": 4,
 "nbformat_minor": 5
}
