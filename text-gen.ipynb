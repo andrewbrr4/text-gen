{
 "cells": [
  {
   "cell_type": "code",
   "execution_count": 1,
   "id": "3f4c8402",
   "metadata": {
    "_cell_guid": "b1076dfc-b9ad-4769-8c92-a6c4dae69d19",
    "_uuid": "8f2839f25d086af736a60e9eeb907d3b93b6e0e5",
    "execution": {
     "iopub.execute_input": "2022-02-22T18:14:45.218303Z",
     "iopub.status.busy": "2022-02-22T18:14:45.217006Z",
     "iopub.status.idle": "2022-02-22T18:14:45.257787Z",
     "shell.execute_reply": "2022-02-22T18:14:45.256716Z",
     "shell.execute_reply.started": "2022-02-22T17:07:05.251331Z"
    },
    "papermill": {
     "duration": 0.062404,
     "end_time": "2022-02-22T18:14:45.258067",
     "exception": false,
     "start_time": "2022-02-22T18:14:45.195663",
     "status": "completed"
    },
    "tags": []
   },
   "outputs": [
    {
     "name": "stdout",
     "output_type": "stream",
     "text": [
      "/kaggle/input/poetry/Kanye_West.txt\n",
      "/kaggle/input/poetry/johnny-cash.txt\n",
      "/kaggle/input/poetry/kanye-west.txt\n",
      "/kaggle/input/poetry/bruno-mars.txt\n",
      "/kaggle/input/poetry/dickinson.txt\n",
      "/kaggle/input/poetry/amy-winehouse.txt\n",
      "/kaggle/input/poetry/blink-182.txt\n",
      "/kaggle/input/poetry/paul-simon.txt\n",
      "/kaggle/input/poetry/patti-smith.txt\n",
      "/kaggle/input/poetry/bieber.txt\n",
      "/kaggle/input/poetry/disney.txt\n",
      "/kaggle/input/poetry/jimi-hendrix.txt\n",
      "/kaggle/input/poetry/lin-manuel-miranda.txt\n",
      "/kaggle/input/poetry/adele.txt\n",
      "/kaggle/input/poetry/dj-khaled.txt\n",
      "/kaggle/input/poetry/beatles.txt\n",
      "/kaggle/input/poetry/r-kelly.txt\n",
      "/kaggle/input/poetry/lady-gaga.txt\n",
      "/kaggle/input/poetry/radiohead.txt\n",
      "/kaggle/input/poetry/britney-spears.txt\n",
      "/kaggle/input/poetry/alicia-keys.txt\n",
      "/kaggle/input/poetry/rihanna.txt\n",
      "/kaggle/input/poetry/joni-mitchell.txt\n",
      "/kaggle/input/poetry/dolly-parton.txt\n",
      "/kaggle/input/poetry/drake.txt\n",
      "/kaggle/input/poetry/Lil_Wayne.txt\n",
      "/kaggle/input/poetry/notorious_big.txt\n",
      "/kaggle/input/poetry/eminem.txt\n",
      "/kaggle/input/poetry/janisjoplin.txt\n",
      "/kaggle/input/poetry/prince.txt\n",
      "/kaggle/input/poetry/bruce-springsteen.txt\n",
      "/kaggle/input/poetry/bob-dylan.txt\n",
      "/kaggle/input/poetry/notorious-big.txt\n",
      "/kaggle/input/poetry/lil-wayne.txt\n",
      "/kaggle/input/poetry/dr-seuss.txt\n",
      "/kaggle/input/poetry/nicki-minaj.txt\n",
      "/kaggle/input/poetry/bob-marley.txt\n",
      "/kaggle/input/poetry/al-green.txt\n",
      "/kaggle/input/poetry/nickelback.txt\n",
      "/kaggle/input/poetry/michael-jackson.txt\n",
      "/kaggle/input/poetry/lorde.txt\n",
      "/kaggle/input/poetry/kanye.txt\n",
      "/kaggle/input/poetry/leonard-cohen.txt\n",
      "/kaggle/input/poetry/ludacris.txt\n",
      "/kaggle/input/poetry/bjork.txt\n",
      "/kaggle/input/poetry/nursery_rhymes.txt\n",
      "/kaggle/input/poetry/nirvana.txt\n",
      "/kaggle/input/poetry/cake.txt\n",
      "/kaggle/input/poetry/missy-elliott.txt\n"
     ]
    }
   ],
   "source": [
    "# This Python 3 environment comes with many helpful analytics libraries installed\n",
    "# It is defined by the kaggle/python Docker image: https://github.com/kaggle/docker-python\n",
    "# For example, here's several helpful packages to load\n",
    "\n",
    "import numpy as np # linear algebra\n",
    "import pandas as pd # data processing, CSV file I/O (e.g. pd.read_csv)\n",
    "\n",
    "# Input data files are available in the read-only \"../input/\" directory\n",
    "# For example, running this (by clicking run or pressing Shift+Enter) will list all files under the input directory\n",
    "\n",
    "import os\n",
    "for dirname, _, filenames in os.walk('/kaggle/input'):\n",
    "    for filename in filenames:\n",
    "        print(os.path.join(dirname, filename))\n",
    "\n",
    "# You can write up to 20GB to the current directory (/kaggle/working/) that gets preserved as output when you create a version using \"Save & Run All\" \n",
    "# You can also write temporary files to /kaggle/temp/, but they won't be saved outside of the current session"
   ]
  },
  {
   "cell_type": "code",
   "execution_count": 2,
   "id": "cb74b015",
   "metadata": {
    "execution": {
     "iopub.execute_input": "2022-02-22T18:14:45.298482Z",
     "iopub.status.busy": "2022-02-22T18:14:45.297539Z",
     "iopub.status.idle": "2022-02-22T18:14:51.474579Z",
     "shell.execute_reply": "2022-02-22T18:14:51.473992Z",
     "shell.execute_reply.started": "2022-02-22T17:07:05.326062Z"
    },
    "papermill": {
     "duration": 6.198828,
     "end_time": "2022-02-22T18:14:51.474745",
     "exception": false,
     "start_time": "2022-02-22T18:14:45.275917",
     "status": "completed"
    },
    "tags": []
   },
   "outputs": [],
   "source": [
    "import tensorflow as tf\n",
    "import keras"
   ]
  },
  {
   "cell_type": "markdown",
   "id": "2753c4ab",
   "metadata": {
    "papermill": {
     "duration": 0.01594,
     "end_time": "2022-02-22T18:14:51.507760",
     "exception": false,
     "start_time": "2022-02-22T18:14:51.491820",
     "status": "completed"
    },
    "tags": []
   },
   "source": [
    "# GOAL - create a bot to generate song lyrics using RNN"
   ]
  },
  {
   "cell_type": "code",
   "execution_count": 3,
   "id": "be82772a",
   "metadata": {
    "execution": {
     "iopub.execute_input": "2022-02-22T18:14:51.545544Z",
     "iopub.status.busy": "2022-02-22T18:14:51.544614Z",
     "iopub.status.idle": "2022-02-22T18:14:51.547349Z",
     "shell.execute_reply": "2022-02-22T18:14:51.546808Z",
     "shell.execute_reply.started": "2022-02-22T18:08:49.342804Z"
    },
    "papermill": {
     "duration": 0.02357,
     "end_time": "2022-02-22T18:14:51.547486",
     "exception": false,
     "start_time": "2022-02-22T18:14:51.523916",
     "status": "completed"
    },
    "tags": []
   },
   "outputs": [],
   "source": [
    "artist = '/kaggle/input/poetry/Kanye_West.txt'\n",
    "char_window = 20\n",
    "step = 3"
   ]
  },
  {
   "cell_type": "code",
   "execution_count": 4,
   "id": "8ea82040",
   "metadata": {
    "execution": {
     "iopub.execute_input": "2022-02-22T18:14:51.584517Z",
     "iopub.status.busy": "2022-02-22T18:14:51.583822Z",
     "iopub.status.idle": "2022-02-22T18:14:51.602120Z",
     "shell.execute_reply": "2022-02-22T18:14:51.602676Z",
     "shell.execute_reply.started": "2022-02-22T18:08:49.668913Z"
    },
    "papermill": {
     "duration": 0.039264,
     "end_time": "2022-02-22T18:14:51.602848",
     "exception": false,
     "start_time": "2022-02-22T18:14:51.563584",
     "status": "completed"
    },
    "tags": []
   },
   "outputs": [],
   "source": [
    "with open(artist) as f:\n",
    "    text = f.read().lower()"
   ]
  },
  {
   "cell_type": "code",
   "execution_count": 5,
   "id": "08677bf7",
   "metadata": {
    "execution": {
     "iopub.execute_input": "2022-02-22T18:14:51.640049Z",
     "iopub.status.busy": "2022-02-22T18:14:51.639409Z",
     "iopub.status.idle": "2022-02-22T18:14:51.649170Z",
     "shell.execute_reply": "2022-02-22T18:14:51.649765Z",
     "shell.execute_reply.started": "2022-02-22T18:08:49.972356Z"
    },
    "papermill": {
     "duration": 0.030513,
     "end_time": "2022-02-22T18:14:51.649937",
     "exception": false,
     "start_time": "2022-02-22T18:14:51.619424",
     "status": "completed"
    },
    "tags": []
   },
   "outputs": [],
   "source": [
    "import re\n",
    "\n",
    "text = re.sub('[^a-z \\n]','',text)"
   ]
  },
  {
   "cell_type": "code",
   "execution_count": 6,
   "id": "7a6c53a6",
   "metadata": {
    "execution": {
     "iopub.execute_input": "2022-02-22T18:14:51.685411Z",
     "iopub.status.busy": "2022-02-22T18:14:51.684714Z",
     "iopub.status.idle": "2022-02-22T18:14:51.693589Z",
     "shell.execute_reply": "2022-02-22T18:14:51.693003Z",
     "shell.execute_reply.started": "2022-02-22T18:09:42.951960Z"
    },
    "papermill": {
     "duration": 0.027691,
     "end_time": "2022-02-22T18:14:51.693749",
     "exception": false,
     "start_time": "2022-02-22T18:14:51.666058",
     "status": "completed"
    },
    "tags": []
   },
   "outputs": [],
   "source": [
    "chars = sorted(list(set(text)))\n",
    "chars = chars[:28]\n",
    "char_to_index = dict((c, i) for i, c in enumerate(chars))\n",
    "index_to_char = dict((i, c) for i, c in enumerate(chars))"
   ]
  },
  {
   "cell_type": "code",
   "execution_count": 7,
   "id": "e0317906",
   "metadata": {
    "execution": {
     "iopub.execute_input": "2022-02-22T18:14:51.735001Z",
     "iopub.status.busy": "2022-02-22T18:14:51.729463Z",
     "iopub.status.idle": "2022-02-22T18:14:51.808061Z",
     "shell.execute_reply": "2022-02-22T18:14:51.808623Z",
     "shell.execute_reply.started": "2022-02-22T18:09:47.456410Z"
    },
    "papermill": {
     "duration": 0.098927,
     "end_time": "2022-02-22T18:14:51.808807",
     "exception": false,
     "start_time": "2022-02-22T18:14:51.709880",
     "status": "completed"
    },
    "tags": []
   },
   "outputs": [
    {
     "data": {
      "text/plain": [
       "[('eighteen years eight', 'e'),\n",
       " ('hteen years eighteen', ' '),\n",
       " ('en years eighteen ye', 'a'),\n",
       " ('years eighteen years', '\\n'),\n",
       " ('rs eighteen years\\nsh', 'e'),\n",
       " ('eighteen years\\nshe g', 'o'),\n",
       " ('hteen years\\nshe got ', 'o'),\n",
       " ('en years\\nshe got one', ' '),\n",
       " ('years\\nshe got one of', ' '),\n",
       " ('rs\\nshe got one of yo', 'u'),\n",
       " ('she got one of your ', 'k'),\n",
       " (' got one of your kid', 's'),\n",
       " ('t one of your kids g', 'o'),\n",
       " ('ne of your kids got ', 'y'),\n",
       " ('of your kids got you', ' '),\n",
       " ('your kids got you fo', 'r'),\n",
       " ('r kids got you for e', 'i'),\n",
       " ('ids got you for eigh', 't'),\n",
       " (' got you for eightee', 'n'),\n",
       " ('t you for eighteen y', 'e'),\n",
       " ('ou for eighteen year', 's'),\n",
       " ('for eighteen years\\ni', ' '),\n",
       " (' eighteen years\\ni kn', 'o'),\n",
       " ('ghteen years\\ni know ', 's'),\n",
       " ('een years\\ni know som', 'e'),\n",
       " (' years\\ni know somebo', 'd'),\n",
       " ('ars\\ni know somebody ', 'p'),\n",
       " ('\\ni know somebody pay', 'i'),\n",
       " ('know somebody paying', ' '),\n",
       " ('w somebody paying ch', 'i'),\n",
       " ('omebody paying child', ' '),\n",
       " ('body paying child su', 'p'),\n",
       " ('y paying child suppo', 'r'),\n",
       " ('aying child support ', 'f'),\n",
       " ('ng child support for', ' '),\n",
       " ('child support for on', 'e'),\n",
       " ('ld support for one o', 'f'),\n",
       " ('support for one of h', 'i'),\n",
       " ('port for one of his ', 'k'),\n",
       " ('t for one of his kid', 's'),\n",
       " ('or one of his kids\\nh', 'i'),\n",
       " ('one of his kids\\nhis ', 'b'),\n",
       " (' of his kids\\nhis bab', 'y'),\n",
       " (' his kids\\nhis baby m', 'a'),\n",
       " ('s kids\\nhis baby mama', ' '),\n",
       " ('ids\\nhis baby mama ca', 'r'),\n",
       " ('\\nhis baby mama car a', 'n'),\n",
       " ('s baby mama car and ', 'c'),\n",
       " ('aby mama car and cri', 'b'),\n",
       " (' mama car and crib i', 's'),\n",
       " ('ma car and crib is b', 'i'),\n",
       " ('car and crib is bigg', 'e'),\n",
       " (' and crib is bigger ', 't'),\n",
       " ('d crib is bigger tha', 'n'),\n",
       " ('rib is bigger than h', 'i'),\n",
       " (' is bigger than his\\n', 'y'),\n",
       " (' bigger than his\\nyou', ' '),\n",
       " ('gger than his\\nyou wi', 'l'),\n",
       " ('r than his\\nyou will ', 's'),\n",
       " ('han his\\nyou will see', ' '),\n",
       " (' his\\nyou will see hi', 'm'),\n",
       " ('s\\nyou will see him o', 'n'),\n",
       " ('ou will see him on t', 'v'),\n",
       " ('will see him on tv a', 'n'),\n",
       " ('l see him on tv any ', 'g'),\n",
       " ('ee him on tv any giv', 'e'),\n",
       " ('him on tv any given ', 's'),\n",
       " (' on tv any given sun', 'd'),\n",
       " (' tv any given sunday', '\\n'),\n",
       " (' any given sunday\\nwi', 'n'),\n",
       " ('y given sunday\\nwin t', 'h'),\n",
       " ('iven sunday\\nwin the ', 's'),\n",
       " ('n sunday\\nwin the sup', 'e'),\n",
       " ('unday\\nwin the super ', 'b'),\n",
       " ('ay\\nwin the super bow', 'l'),\n",
       " ('win the super bowl a', 'n'),\n",
       " (' the super bowl and ', 'd'),\n",
       " ('e super bowl and dri', 'v'),\n",
       " ('uper bowl and drive ', 'o'),\n",
       " ('r bowl and drive off', ' '),\n",
       " ('owl and drive off in', ' '),\n",
       " (' and drive off in a ', 'h'),\n",
       " ('d drive off in a hyu', 'n'),\n",
       " ('rive off in a hyunda', 'i'),\n",
       " ('e off in a hyundai\\ns', 'h'),\n",
       " ('ff in a hyundai\\nshe ', 'w'),\n",
       " ('in a hyundai\\nshe was', ' '),\n",
       " ('a hyundai\\nshe was su', 'p'),\n",
       " ('yundai\\nshe was suppo', 's'),\n",
       " ('dai\\nshe was supposed', ' '),\n",
       " ('\\nshe was supposed to', ' '),\n",
       " ('e was supposed to bu', 'y'),\n",
       " ('as supposed to buy y', 'o'),\n",
       " ('supposed to buy your', ' '),\n",
       " ('posed to buy your sh', 'o'),\n",
       " ('ed to buy your short', 'y'),\n",
       " ('to buy your shorty t', 'y'),\n",
       " ('buy your shorty tyco', ' '),\n",
       " (' your shorty tyco wi', 't'),\n",
       " ('ur shorty tyco with ', 'y')]"
      ]
     },
     "execution_count": 7,
     "metadata": {},
     "output_type": "execute_result"
    }
   ],
   "source": [
    "inputs = []\n",
    "next_chars = []\n",
    "\n",
    "for i in range(0,len(text)-char_window,step):\n",
    "    inputs.append(text[i:i+char_window])\n",
    "    next_chars.append(text[i+char_window])\n",
    "        \n",
    "pairs = zip(inputs,next_chars)\n",
    "list(pairs)[:100]"
   ]
  },
  {
   "cell_type": "code",
   "execution_count": 8,
   "id": "d6880b33",
   "metadata": {
    "execution": {
     "iopub.execute_input": "2022-02-22T18:14:51.846134Z",
     "iopub.status.busy": "2022-02-22T18:14:51.845147Z",
     "iopub.status.idle": "2022-02-22T18:14:52.795504Z",
     "shell.execute_reply": "2022-02-22T18:14:52.796001Z",
     "shell.execute_reply.started": "2022-02-22T18:10:01.190602Z"
    },
    "papermill": {
     "duration": 0.970712,
     "end_time": "2022-02-22T18:14:52.796172",
     "exception": false,
     "start_time": "2022-02-22T18:14:51.825460",
     "status": "completed"
    },
    "tags": []
   },
   "outputs": [
    {
     "data": {
      "text/plain": [
       "array([[ 6., 10.,  8., ...,  8.,  9., 21.],\n",
       "       [ 9., 21.,  6., ...,  6.,  6., 15.],\n",
       "       [ 6., 15.,  1., ...,  1., 26.,  6.],\n",
       "       ...,\n",
       "       [14., 17., 16., ...,  1., 21.,  9.],\n",
       "       [19., 21.,  2., ...,  2., 21.,  1.],\n",
       "       [15., 21.,  1., ..., 26., 16., 22.]], dtype=float32)"
      ]
     },
     "execution_count": 8,
     "metadata": {},
     "output_type": "execute_result"
    }
   ],
   "source": [
    "X = np.zeros((len(inputs),char_window),dtype=np.float32)\n",
    "\n",
    "for i in range(len(inputs)):\n",
    "    for j in range(char_window):\n",
    "        X[i,j] = char_to_index[inputs[i][j]]\n",
    "        \n",
    "X"
   ]
  },
  {
   "cell_type": "code",
   "execution_count": 9,
   "id": "045459d1",
   "metadata": {
    "execution": {
     "iopub.execute_input": "2022-02-22T18:14:52.834524Z",
     "iopub.status.busy": "2022-02-22T18:14:52.833429Z",
     "iopub.status.idle": "2022-02-22T18:14:52.886778Z",
     "shell.execute_reply": "2022-02-22T18:14:52.887350Z",
     "shell.execute_reply.started": "2022-02-22T18:10:03.104292Z"
    },
    "papermill": {
     "duration": 0.07416,
     "end_time": "2022-02-22T18:14:52.887520",
     "exception": false,
     "start_time": "2022-02-22T18:14:52.813360",
     "status": "completed"
    },
    "tags": []
   },
   "outputs": [
    {
     "data": {
      "text/plain": [
       "array([[0., 0., 0., ..., 0., 0., 0.],\n",
       "       [0., 1., 0., ..., 0., 0., 0.],\n",
       "       [0., 0., 1., ..., 0., 0., 0.],\n",
       "       ...,\n",
       "       [0., 0., 1., ..., 0., 0., 0.],\n",
       "       [0., 0., 0., ..., 0., 1., 0.],\n",
       "       [1., 0., 0., ..., 0., 0., 0.]], dtype=float32)"
      ]
     },
     "execution_count": 9,
     "metadata": {},
     "output_type": "execute_result"
    }
   ],
   "source": [
    "from keras.utils.np_utils import to_categorical\n",
    "\n",
    "y = np.zeros(len(next_chars),dtype=np.float32)\n",
    "\n",
    "for i in range(len(next_chars)):\n",
    "    y[i] = char_to_index[next_chars[i]]\n",
    "\n",
    "y = to_categorical(y)\n",
    "\n",
    "y"
   ]
  },
  {
   "cell_type": "code",
   "execution_count": 10,
   "id": "7dc48fd3",
   "metadata": {
    "execution": {
     "iopub.execute_input": "2022-02-22T18:14:52.926704Z",
     "iopub.status.busy": "2022-02-22T18:14:52.925744Z",
     "iopub.status.idle": "2022-02-22T18:14:53.345125Z",
     "shell.execute_reply": "2022-02-22T18:14:53.344536Z",
     "shell.execute_reply.started": "2022-02-22T18:10:05.019592Z"
    },
    "papermill": {
     "duration": 0.440031,
     "end_time": "2022-02-22T18:14:53.345306",
     "exception": false,
     "start_time": "2022-02-22T18:14:52.905275",
     "status": "completed"
    },
    "tags": []
   },
   "outputs": [
    {
     "name": "stderr",
     "output_type": "stream",
     "text": [
      "2022-02-22 18:14:52.962962: I tensorflow/core/common_runtime/process_util.cc:146] Creating new thread pool with default inter op setting: 2. Tune using inter_op_parallelism_threads for best performance.\n"
     ]
    },
    {
     "name": "stdout",
     "output_type": "stream",
     "text": [
      "Model: \"sequential\"\n",
      "_________________________________________________________________\n",
      "Layer (type)                 Output Shape              Param #   \n",
      "=================================================================\n",
      "embedding (Embedding)        (None, 20, 64)            1792      \n",
      "_________________________________________________________________\n",
      "lstm (LSTM)                  (None, 100)               66000     \n",
      "_________________________________________________________________\n",
      "dense (Dense)                (None, 28)                2828      \n",
      "=================================================================\n",
      "Total params: 70,620\n",
      "Trainable params: 70,620\n",
      "Non-trainable params: 0\n",
      "_________________________________________________________________\n"
     ]
    }
   ],
   "source": [
    "from keras.models import Sequential\n",
    "from keras.layers import Embedding, GRU, LSTM, SimpleRNN, Dense\n",
    "\n",
    "model = Sequential()\n",
    "\n",
    "model.add(Embedding(28,64,input_length=char_window))\n",
    "model.add(LSTM(100))\n",
    "model.add(Dense(28,activation='softmax'))\n",
    "\n",
    "model.compile(loss='categorical_crossentropy', optimizer='adam',metrics=['accuracy'])\n",
    "model.summary()"
   ]
  },
  {
   "cell_type": "code",
   "execution_count": 11,
   "id": "03ae8e3b",
   "metadata": {
    "execution": {
     "iopub.execute_input": "2022-02-22T18:14:53.387372Z",
     "iopub.status.busy": "2022-02-22T18:14:53.386474Z",
     "iopub.status.idle": "2022-02-22T18:18:35.810821Z",
     "shell.execute_reply": "2022-02-22T18:18:35.810300Z",
     "shell.execute_reply.started": "2022-02-22T18:10:06.162284Z"
    },
    "papermill": {
     "duration": 222.44722,
     "end_time": "2022-02-22T18:18:35.810984",
     "exception": false,
     "start_time": "2022-02-22T18:14:53.363764",
     "status": "completed"
    },
    "tags": []
   },
   "outputs": [
    {
     "name": "stdout",
     "output_type": "stream",
     "text": [
      "Epoch 1/5\n"
     ]
    },
    {
     "name": "stderr",
     "output_type": "stream",
     "text": [
      "2022-02-22 18:14:53.452460: I tensorflow/compiler/mlir/mlir_graph_optimization_pass.cc:185] None of the MLIR Optimization Passes are enabled (registered 2)\n"
     ]
    },
    {
     "name": "stdout",
     "output_type": "stream",
     "text": [
      "1674/1674 [==============================] - 47s 26ms/step - loss: 2.3463 - accuracy: 0.3124\n",
      "Epoch 2/5\n",
      "1674/1674 [==============================] - 44s 26ms/step - loss: 2.0003 - accuracy: 0.4018\n",
      "Epoch 3/5\n",
      "1674/1674 [==============================] - 44s 26ms/step - loss: 1.8654 - accuracy: 0.4335\n",
      "Epoch 4/5\n",
      "1674/1674 [==============================] - 43s 26ms/step - loss: 1.7846 - accuracy: 0.4538\n",
      "Epoch 5/5\n",
      "1674/1674 [==============================] - 44s 26ms/step - loss: 1.7286 - accuracy: 0.4669\n"
     ]
    },
    {
     "data": {
      "text/plain": [
       "<keras.callbacks.History at 0x7f7165e33b90>"
      ]
     },
     "execution_count": 11,
     "metadata": {},
     "output_type": "execute_result"
    }
   ],
   "source": [
    "model.fit(X,y,epochs=5,batch_size=50,)"
   ]
  },
  {
   "cell_type": "code",
   "execution_count": 12,
   "id": "09be12b5",
   "metadata": {
    "execution": {
     "iopub.execute_input": "2022-02-22T18:18:38.652553Z",
     "iopub.status.busy": "2022-02-22T18:18:38.651448Z",
     "iopub.status.idle": "2022-02-22T18:18:38.653707Z",
     "shell.execute_reply": "2022-02-22T18:18:38.654299Z",
     "shell.execute_reply.started": "2022-02-22T18:13:45.009489Z"
    },
    "papermill": {
     "duration": 1.426207,
     "end_time": "2022-02-22T18:18:38.654484",
     "exception": false,
     "start_time": "2022-02-22T18:18:37.228277",
     "status": "completed"
    },
    "tags": []
   },
   "outputs": [],
   "source": [
    "from keras.preprocessing.sequence import pad_sequences\n",
    "\n",
    "def generate_line(model,context):\n",
    "    line = context\n",
    "    next_char = ''\n",
    "    counter = 0\n",
    "    while counter<100 and next_char != '\\n':\n",
    "        X = [[char_to_index[line[i]] for i in range(0,len(line))]]\n",
    "        X = pad_sequences(X,maxlen=char_window)\n",
    "        y = model.predict(X)\n",
    "        next_char = index_to_char[np.argmax(y)]\n",
    "        counter+=1\n",
    "        line+=next_char\n",
    "    return line"
   ]
  },
  {
   "cell_type": "code",
   "execution_count": 13,
   "id": "7dad3bf2",
   "metadata": {
    "execution": {
     "iopub.execute_input": "2022-02-22T18:18:41.528537Z",
     "iopub.status.busy": "2022-02-22T18:18:41.527556Z",
     "iopub.status.idle": "2022-02-22T18:18:47.785442Z",
     "shell.execute_reply": "2022-02-22T18:18:47.785951Z",
     "shell.execute_reply.started": "2022-02-22T18:13:45.018945Z"
    },
    "papermill": {
     "duration": 7.661538,
     "end_time": "2022-02-22T18:18:47.786129",
     "exception": false,
     "start_time": "2022-02-22T18:18:40.124591",
     "status": "completed"
    },
    "tags": []
   },
   "outputs": [
    {
     "data": {
      "text/plain": [
       "'one good girl the best the best the best the best the best the best the best the best the best the best the best '"
      ]
     },
     "execution_count": 13,
     "metadata": {},
     "output_type": "execute_result"
    }
   ],
   "source": [
    "generate_line(model,'one good girl')"
   ]
  },
  {
   "cell_type": "code",
   "execution_count": null,
   "id": "2870be1b",
   "metadata": {
    "papermill": {
     "duration": 1.406123,
     "end_time": "2022-02-22T18:18:50.601178",
     "exception": false,
     "start_time": "2022-02-22T18:18:49.195055",
     "status": "completed"
    },
    "tags": []
   },
   "outputs": [],
   "source": []
  }
 ],
 "metadata": {
  "kernelspec": {
   "display_name": "Python 3",
   "language": "python",
   "name": "python3"
  },
  "language_info": {
   "codemirror_mode": {
    "name": "ipython",
    "version": 3
   },
   "file_extension": ".py",
   "mimetype": "text/x-python",
   "name": "python",
   "nbconvert_exporter": "python",
   "pygments_lexer": "ipython3",
   "version": "3.7.12"
  },
  "papermill": {
   "default_parameters": {},
   "duration": 260.012548,
   "end_time": "2022-02-22T18:18:55.166065",
   "environment_variables": {},
   "exception": null,
   "input_path": "__notebook__.ipynb",
   "output_path": "__notebook__.ipynb",
   "parameters": {},
   "start_time": "2022-02-22T18:14:35.153517",
   "version": "2.3.3"
  }
 },
 "nbformat": 4,
 "nbformat_minor": 5
}
