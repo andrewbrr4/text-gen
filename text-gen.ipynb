{
 "cells": [
  {
   "cell_type": "code",
   "execution_count": 1,
   "id": "e5cad50b",
   "metadata": {
    "_cell_guid": "b1076dfc-b9ad-4769-8c92-a6c4dae69d19",
    "_uuid": "8f2839f25d086af736a60e9eeb907d3b93b6e0e5",
    "execution": {
     "iopub.execute_input": "2022-03-04T02:45:14.914279Z",
     "iopub.status.busy": "2022-03-04T02:45:14.912580Z",
     "iopub.status.idle": "2022-03-04T02:45:14.936447Z",
     "shell.execute_reply": "2022-03-04T02:45:14.937050Z",
     "shell.execute_reply.started": "2022-03-04T02:30:01.701327Z"
    },
    "papermill": {
     "duration": 0.045154,
     "end_time": "2022-03-04T02:45:14.937335",
     "exception": false,
     "start_time": "2022-03-04T02:45:14.892181",
     "status": "completed"
    },
    "tags": []
   },
   "outputs": [
    {
     "name": "stdout",
     "output_type": "stream",
     "text": [
      "/kaggle/input/poetry/Kanye_West.txt\n",
      "/kaggle/input/poetry/johnny-cash.txt\n",
      "/kaggle/input/poetry/kanye-west.txt\n",
      "/kaggle/input/poetry/bruno-mars.txt\n",
      "/kaggle/input/poetry/dickinson.txt\n",
      "/kaggle/input/poetry/amy-winehouse.txt\n",
      "/kaggle/input/poetry/blink-182.txt\n",
      "/kaggle/input/poetry/paul-simon.txt\n",
      "/kaggle/input/poetry/patti-smith.txt\n",
      "/kaggle/input/poetry/bieber.txt\n",
      "/kaggle/input/poetry/disney.txt\n",
      "/kaggle/input/poetry/jimi-hendrix.txt\n",
      "/kaggle/input/poetry/lin-manuel-miranda.txt\n",
      "/kaggle/input/poetry/adele.txt\n",
      "/kaggle/input/poetry/dj-khaled.txt\n",
      "/kaggle/input/poetry/beatles.txt\n",
      "/kaggle/input/poetry/r-kelly.txt\n",
      "/kaggle/input/poetry/lady-gaga.txt\n",
      "/kaggle/input/poetry/radiohead.txt\n",
      "/kaggle/input/poetry/britney-spears.txt\n",
      "/kaggle/input/poetry/alicia-keys.txt\n",
      "/kaggle/input/poetry/rihanna.txt\n",
      "/kaggle/input/poetry/joni-mitchell.txt\n",
      "/kaggle/input/poetry/dolly-parton.txt\n",
      "/kaggle/input/poetry/drake.txt\n",
      "/kaggle/input/poetry/Lil_Wayne.txt\n",
      "/kaggle/input/poetry/notorious_big.txt\n",
      "/kaggle/input/poetry/eminem.txt\n",
      "/kaggle/input/poetry/janisjoplin.txt\n",
      "/kaggle/input/poetry/prince.txt\n",
      "/kaggle/input/poetry/bruce-springsteen.txt\n",
      "/kaggle/input/poetry/bob-dylan.txt\n",
      "/kaggle/input/poetry/notorious-big.txt\n",
      "/kaggle/input/poetry/lil-wayne.txt\n",
      "/kaggle/input/poetry/dr-seuss.txt\n",
      "/kaggle/input/poetry/nicki-minaj.txt\n",
      "/kaggle/input/poetry/bob-marley.txt\n",
      "/kaggle/input/poetry/al-green.txt\n",
      "/kaggle/input/poetry/nickelback.txt\n",
      "/kaggle/input/poetry/michael-jackson.txt\n",
      "/kaggle/input/poetry/lorde.txt\n",
      "/kaggle/input/poetry/kanye.txt\n",
      "/kaggle/input/poetry/leonard-cohen.txt\n",
      "/kaggle/input/poetry/ludacris.txt\n",
      "/kaggle/input/poetry/bjork.txt\n",
      "/kaggle/input/poetry/nursery_rhymes.txt\n",
      "/kaggle/input/poetry/nirvana.txt\n",
      "/kaggle/input/poetry/cake.txt\n",
      "/kaggle/input/poetry/missy-elliott.txt\n"
     ]
    }
   ],
   "source": [
    "# This Python 3 environment comes with many helpful analytics libraries installed\n",
    "# It is defined by the kaggle/python Docker image: https://github.com/kaggle/docker-python\n",
    "# For example, here's several helpful packages to load\n",
    "\n",
    "import numpy as np # linear algebra\n",
    "import pandas as pd # data processing, CSV file I/O (e.g. pd.read_csv)\n",
    "\n",
    "# Input data files are available in the read-only \"../input/\" directory\n",
    "# For example, running this (by clicking run or pressing Shift+Enter) will list all files under the input directory\n",
    "\n",
    "import os\n",
    "for dirname, _, filenames in os.walk('/kaggle/input'):\n",
    "    for filename in filenames:\n",
    "        print(os.path.join(dirname, filename))\n",
    "\n",
    "# You can write up to 20GB to the current directory (/kaggle/working/) that gets preserved as output when you create a version using \"Save & Run All\" \n",
    "# You can also write temporary files to /kaggle/temp/, but they won't be saved outside of the current session"
   ]
  },
  {
   "cell_type": "code",
   "execution_count": 2,
   "id": "947ba4dd",
   "metadata": {
    "execution": {
     "iopub.execute_input": "2022-03-04T02:45:14.970037Z",
     "iopub.status.busy": "2022-03-04T02:45:14.969152Z",
     "iopub.status.idle": "2022-03-04T02:45:20.306115Z",
     "shell.execute_reply": "2022-03-04T02:45:20.306578Z",
     "shell.execute_reply.started": "2022-03-04T02:30:01.970696Z"
    },
    "papermill": {
     "duration": 5.354521,
     "end_time": "2022-03-04T02:45:20.306759",
     "exception": false,
     "start_time": "2022-03-04T02:45:14.952238",
     "status": "completed"
    },
    "tags": []
   },
   "outputs": [],
   "source": [
    "import tensorflow as tf\n",
    "import keras"
   ]
  },
  {
   "cell_type": "markdown",
   "id": "d62c05ff",
   "metadata": {
    "papermill": {
     "duration": 0.014874,
     "end_time": "2022-03-04T02:45:20.336545",
     "exception": false,
     "start_time": "2022-03-04T02:45:20.321671",
     "status": "completed"
    },
    "tags": []
   },
   "source": [
    "# GOAL - create a bot to generate song lyrics using RNN"
   ]
  },
  {
   "cell_type": "code",
   "execution_count": 3,
   "id": "5cd49690",
   "metadata": {
    "execution": {
     "iopub.execute_input": "2022-03-04T02:45:20.368709Z",
     "iopub.status.busy": "2022-03-04T02:45:20.368150Z",
     "iopub.status.idle": "2022-03-04T02:45:20.371007Z",
     "shell.execute_reply": "2022-03-04T02:45:20.371463Z",
     "shell.execute_reply.started": "2022-03-04T02:30:08.826772Z"
    },
    "papermill": {
     "duration": 0.020597,
     "end_time": "2022-03-04T02:45:20.371609",
     "exception": false,
     "start_time": "2022-03-04T02:45:20.351012",
     "status": "completed"
    },
    "tags": []
   },
   "outputs": [],
   "source": [
    "artist = '/kaggle/input/poetry/Kanye_West.txt'\n",
    "char_window = 20\n",
    "step = 3"
   ]
  },
  {
   "cell_type": "code",
   "execution_count": 4,
   "id": "8cb7a1bd",
   "metadata": {
    "execution": {
     "iopub.execute_input": "2022-03-04T02:45:20.402985Z",
     "iopub.status.busy": "2022-03-04T02:45:20.402418Z",
     "iopub.status.idle": "2022-03-04T02:45:20.415119Z",
     "shell.execute_reply": "2022-03-04T02:45:20.415613Z",
     "shell.execute_reply.started": "2022-03-04T02:30:08.832764Z"
    },
    "papermill": {
     "duration": 0.029786,
     "end_time": "2022-03-04T02:45:20.415770",
     "exception": false,
     "start_time": "2022-03-04T02:45:20.385984",
     "status": "completed"
    },
    "tags": []
   },
   "outputs": [],
   "source": [
    "with open(artist) as f:\n",
    "    text = f.read().lower()"
   ]
  },
  {
   "cell_type": "code",
   "execution_count": 5,
   "id": "029187da",
   "metadata": {
    "execution": {
     "iopub.execute_input": "2022-03-04T02:45:20.447496Z",
     "iopub.status.busy": "2022-03-04T02:45:20.446830Z",
     "iopub.status.idle": "2022-03-04T02:45:20.452655Z",
     "shell.execute_reply": "2022-03-04T02:45:20.453189Z",
     "shell.execute_reply.started": "2022-03-04T02:30:08.862932Z"
    },
    "papermill": {
     "duration": 0.023543,
     "end_time": "2022-03-04T02:45:20.453355",
     "exception": false,
     "start_time": "2022-03-04T02:45:20.429812",
     "status": "completed"
    },
    "tags": []
   },
   "outputs": [],
   "source": [
    "import re\n",
    "\n",
    "text = re.sub('[^a-z \\n]','',text)"
   ]
  },
  {
   "cell_type": "code",
   "execution_count": 6,
   "id": "e640082a",
   "metadata": {
    "execution": {
     "iopub.execute_input": "2022-03-04T02:45:20.484542Z",
     "iopub.status.busy": "2022-03-04T02:45:20.483940Z",
     "iopub.status.idle": "2022-03-04T02:45:20.491499Z",
     "shell.execute_reply": "2022-03-04T02:45:20.491954Z",
     "shell.execute_reply.started": "2022-03-04T02:30:08.872838Z"
    },
    "papermill": {
     "duration": 0.02462,
     "end_time": "2022-03-04T02:45:20.492141",
     "exception": false,
     "start_time": "2022-03-04T02:45:20.467521",
     "status": "completed"
    },
    "tags": []
   },
   "outputs": [],
   "source": [
    "chars = sorted(list(set(text)))\n",
    "chars = chars[:28]\n",
    "char_to_index = dict((c, i) for i, c in enumerate(chars))\n",
    "index_to_char = dict((i, c) for i, c in enumerate(chars))"
   ]
  },
  {
   "cell_type": "code",
   "execution_count": 7,
   "id": "51afe404",
   "metadata": {
    "execution": {
     "iopub.execute_input": "2022-03-04T02:45:20.534097Z",
     "iopub.status.busy": "2022-03-04T02:45:20.528829Z",
     "iopub.status.idle": "2022-03-04T02:45:20.586854Z",
     "shell.execute_reply": "2022-03-04T02:45:20.587436Z",
     "shell.execute_reply.started": "2022-03-04T02:30:08.888445Z"
    },
    "papermill": {
     "duration": 0.080483,
     "end_time": "2022-03-04T02:45:20.587617",
     "exception": false,
     "start_time": "2022-03-04T02:45:20.507134",
     "status": "completed"
    },
    "tags": []
   },
   "outputs": [
    {
     "data": {
      "text/plain": [
       "[('eighteen years eight', 'e'),\n",
       " ('hteen years eighteen', ' '),\n",
       " ('en years eighteen ye', 'a'),\n",
       " ('years eighteen years', '\\n'),\n",
       " ('rs eighteen years\\nsh', 'e'),\n",
       " ('eighteen years\\nshe g', 'o'),\n",
       " ('hteen years\\nshe got ', 'o'),\n",
       " ('en years\\nshe got one', ' '),\n",
       " ('years\\nshe got one of', ' '),\n",
       " ('rs\\nshe got one of yo', 'u'),\n",
       " ('she got one of your ', 'k'),\n",
       " (' got one of your kid', 's'),\n",
       " ('t one of your kids g', 'o'),\n",
       " ('ne of your kids got ', 'y'),\n",
       " ('of your kids got you', ' '),\n",
       " ('your kids got you fo', 'r'),\n",
       " ('r kids got you for e', 'i'),\n",
       " ('ids got you for eigh', 't'),\n",
       " (' got you for eightee', 'n'),\n",
       " ('t you for eighteen y', 'e'),\n",
       " ('ou for eighteen year', 's'),\n",
       " ('for eighteen years\\ni', ' '),\n",
       " (' eighteen years\\ni kn', 'o'),\n",
       " ('ghteen years\\ni know ', 's'),\n",
       " ('een years\\ni know som', 'e'),\n",
       " (' years\\ni know somebo', 'd'),\n",
       " ('ars\\ni know somebody ', 'p'),\n",
       " ('\\ni know somebody pay', 'i'),\n",
       " ('know somebody paying', ' '),\n",
       " ('w somebody paying ch', 'i'),\n",
       " ('omebody paying child', ' '),\n",
       " ('body paying child su', 'p'),\n",
       " ('y paying child suppo', 'r'),\n",
       " ('aying child support ', 'f'),\n",
       " ('ng child support for', ' '),\n",
       " ('child support for on', 'e'),\n",
       " ('ld support for one o', 'f'),\n",
       " ('support for one of h', 'i'),\n",
       " ('port for one of his ', 'k'),\n",
       " ('t for one of his kid', 's'),\n",
       " ('or one of his kids\\nh', 'i'),\n",
       " ('one of his kids\\nhis ', 'b'),\n",
       " (' of his kids\\nhis bab', 'y'),\n",
       " (' his kids\\nhis baby m', 'a'),\n",
       " ('s kids\\nhis baby mama', ' '),\n",
       " ('ids\\nhis baby mama ca', 'r'),\n",
       " ('\\nhis baby mama car a', 'n'),\n",
       " ('s baby mama car and ', 'c'),\n",
       " ('aby mama car and cri', 'b'),\n",
       " (' mama car and crib i', 's'),\n",
       " ('ma car and crib is b', 'i'),\n",
       " ('car and crib is bigg', 'e'),\n",
       " (' and crib is bigger ', 't'),\n",
       " ('d crib is bigger tha', 'n'),\n",
       " ('rib is bigger than h', 'i'),\n",
       " (' is bigger than his\\n', 'y'),\n",
       " (' bigger than his\\nyou', ' '),\n",
       " ('gger than his\\nyou wi', 'l'),\n",
       " ('r than his\\nyou will ', 's'),\n",
       " ('han his\\nyou will see', ' '),\n",
       " (' his\\nyou will see hi', 'm'),\n",
       " ('s\\nyou will see him o', 'n'),\n",
       " ('ou will see him on t', 'v'),\n",
       " ('will see him on tv a', 'n'),\n",
       " ('l see him on tv any ', 'g'),\n",
       " ('ee him on tv any giv', 'e'),\n",
       " ('him on tv any given ', 's'),\n",
       " (' on tv any given sun', 'd'),\n",
       " (' tv any given sunday', '\\n'),\n",
       " (' any given sunday\\nwi', 'n'),\n",
       " ('y given sunday\\nwin t', 'h'),\n",
       " ('iven sunday\\nwin the ', 's'),\n",
       " ('n sunday\\nwin the sup', 'e'),\n",
       " ('unday\\nwin the super ', 'b'),\n",
       " ('ay\\nwin the super bow', 'l'),\n",
       " ('win the super bowl a', 'n'),\n",
       " (' the super bowl and ', 'd'),\n",
       " ('e super bowl and dri', 'v'),\n",
       " ('uper bowl and drive ', 'o'),\n",
       " ('r bowl and drive off', ' '),\n",
       " ('owl and drive off in', ' '),\n",
       " (' and drive off in a ', 'h'),\n",
       " ('d drive off in a hyu', 'n'),\n",
       " ('rive off in a hyunda', 'i'),\n",
       " ('e off in a hyundai\\ns', 'h'),\n",
       " ('ff in a hyundai\\nshe ', 'w'),\n",
       " ('in a hyundai\\nshe was', ' '),\n",
       " ('a hyundai\\nshe was su', 'p'),\n",
       " ('yundai\\nshe was suppo', 's'),\n",
       " ('dai\\nshe was supposed', ' '),\n",
       " ('\\nshe was supposed to', ' '),\n",
       " ('e was supposed to bu', 'y'),\n",
       " ('as supposed to buy y', 'o'),\n",
       " ('supposed to buy your', ' '),\n",
       " ('posed to buy your sh', 'o'),\n",
       " ('ed to buy your short', 'y'),\n",
       " ('to buy your shorty t', 'y'),\n",
       " ('buy your shorty tyco', ' '),\n",
       " (' your shorty tyco wi', 't'),\n",
       " ('ur shorty tyco with ', 'y')]"
      ]
     },
     "execution_count": 7,
     "metadata": {},
     "output_type": "execute_result"
    }
   ],
   "source": [
    "inputs = []\n",
    "next_chars = []\n",
    "\n",
    "for i in range(0,len(text)-char_window,step):\n",
    "    inputs.append(text[i:i+char_window])\n",
    "    next_chars.append(text[i+char_window])\n",
    "        \n",
    "pairs = zip(inputs,next_chars)\n",
    "list(pairs)[:100]"
   ]
  },
  {
   "cell_type": "code",
   "execution_count": 8,
   "id": "6ba4458e",
   "metadata": {
    "execution": {
     "iopub.execute_input": "2022-03-04T02:45:20.651874Z",
     "iopub.status.busy": "2022-03-04T02:45:20.646679Z",
     "iopub.status.idle": "2022-03-04T02:45:21.146313Z",
     "shell.execute_reply": "2022-03-04T02:45:21.145789Z",
     "shell.execute_reply.started": "2022-03-04T02:30:08.975854Z"
    },
    "papermill": {
     "duration": 0.544258,
     "end_time": "2022-03-04T02:45:21.146448",
     "exception": false,
     "start_time": "2022-03-04T02:45:20.602190",
     "status": "completed"
    },
    "tags": []
   },
   "outputs": [
    {
     "data": {
      "text/plain": [
       "array([[ 6., 10.,  8., ...,  8.,  9., 21.],\n",
       "       [ 9., 21.,  6., ...,  6.,  6., 15.],\n",
       "       [ 6., 15.,  1., ...,  1., 26.,  6.],\n",
       "       ...,\n",
       "       [14., 17., 16., ...,  1., 21.,  9.],\n",
       "       [19., 21.,  2., ...,  2., 21.,  1.],\n",
       "       [15., 21.,  1., ..., 26., 16., 22.]], dtype=float32)"
      ]
     },
     "execution_count": 8,
     "metadata": {},
     "output_type": "execute_result"
    }
   ],
   "source": [
    "X = np.zeros((len(inputs),char_window),dtype=np.float32)\n",
    "\n",
    "for i in range(len(inputs)):\n",
    "    for j in range(char_window):\n",
    "        X[i,j] = char_to_index[inputs[i][j]]\n",
    "        \n",
    "X"
   ]
  },
  {
   "cell_type": "code",
   "execution_count": 9,
   "id": "57c2f273",
   "metadata": {
    "execution": {
     "iopub.execute_input": "2022-03-04T02:45:21.199757Z",
     "iopub.status.busy": "2022-03-04T02:45:21.199116Z",
     "iopub.status.idle": "2022-03-04T02:45:21.212162Z",
     "shell.execute_reply": "2022-03-04T02:45:21.212591Z",
     "shell.execute_reply.started": "2022-03-04T02:30:09.530227Z"
    },
    "papermill": {
     "duration": 0.051248,
     "end_time": "2022-03-04T02:45:21.212746",
     "exception": false,
     "start_time": "2022-03-04T02:45:21.161498",
     "status": "completed"
    },
    "tags": []
   },
   "outputs": [
    {
     "data": {
      "text/plain": [
       "array([[0., 0., 0., ..., 0., 0., 0.],\n",
       "       [0., 1., 0., ..., 0., 0., 0.],\n",
       "       [0., 0., 1., ..., 0., 0., 0.],\n",
       "       ...,\n",
       "       [0., 0., 1., ..., 0., 0., 0.],\n",
       "       [0., 0., 0., ..., 0., 1., 0.],\n",
       "       [1., 0., 0., ..., 0., 0., 0.]], dtype=float32)"
      ]
     },
     "execution_count": 9,
     "metadata": {},
     "output_type": "execute_result"
    }
   ],
   "source": [
    "from keras.utils.np_utils import to_categorical\n",
    "\n",
    "y = np.zeros(len(next_chars),dtype=np.float32)\n",
    "\n",
    "for i in range(len(next_chars)):\n",
    "    y[i] = char_to_index[next_chars[i]]\n",
    "\n",
    "y = to_categorical(y)\n",
    "\n",
    "y"
   ]
  },
  {
   "cell_type": "code",
   "execution_count": 10,
   "id": "ab73ab36",
   "metadata": {
    "execution": {
     "iopub.execute_input": "2022-03-04T02:45:21.249515Z",
     "iopub.status.busy": "2022-03-04T02:45:21.248878Z",
     "iopub.status.idle": "2022-03-04T02:45:21.708507Z",
     "shell.execute_reply": "2022-03-04T02:45:21.708051Z",
     "shell.execute_reply.started": "2022-03-04T02:30:09.576886Z"
    },
    "papermill": {
     "duration": 0.480504,
     "end_time": "2022-03-04T02:45:21.708655",
     "exception": false,
     "start_time": "2022-03-04T02:45:21.228151",
     "status": "completed"
    },
    "tags": []
   },
   "outputs": [
    {
     "name": "stderr",
     "output_type": "stream",
     "text": [
      "2022-03-04 02:45:21.284397: I tensorflow/core/common_runtime/process_util.cc:146] Creating new thread pool with default inter op setting: 2. Tune using inter_op_parallelism_threads for best performance.\n"
     ]
    },
    {
     "name": "stdout",
     "output_type": "stream",
     "text": [
      "Model: \"sequential\"\n",
      "_________________________________________________________________\n",
      "Layer (type)                 Output Shape              Param #   \n",
      "=================================================================\n",
      "embedding (Embedding)        (None, 20, 64)            1792      \n",
      "_________________________________________________________________\n",
      "lstm (LSTM)                  (None, 20, 256)           328704    \n",
      "_________________________________________________________________\n",
      "dropout (Dropout)            (None, 20, 256)           0         \n",
      "_________________________________________________________________\n",
      "simple_rnn (SimpleRNN)       (None, 256)               131328    \n",
      "_________________________________________________________________\n",
      "dropout_1 (Dropout)          (None, 256)               0         \n",
      "_________________________________________________________________\n",
      "dense (Dense)                (None, 28)                7196      \n",
      "=================================================================\n",
      "Total params: 469,020\n",
      "Trainable params: 469,020\n",
      "Non-trainable params: 0\n",
      "_________________________________________________________________\n"
     ]
    }
   ],
   "source": [
    "from keras.models import Sequential\n",
    "from keras.layers import Embedding, GRU, LSTM, SimpleRNN, Dense, Dropout\n",
    "\n",
    "model = Sequential()\n",
    "\n",
    "model.add(Embedding(28,64,input_length=char_window))\n",
    "model.add(LSTM(256,return_sequences=True))\n",
    "model.add(Dropout(0.2))\n",
    "model.add(SimpleRNN(256))\n",
    "model.add(Dropout(0.2))\n",
    "model.add(Dense(28,activation='softmax'))\n",
    "\n",
    "model.compile(loss='categorical_crossentropy', optimizer='adam',metrics=['accuracy'])\n",
    "model.summary()"
   ]
  },
  {
   "cell_type": "code",
   "execution_count": 11,
   "id": "61c92782",
   "metadata": {
    "execution": {
     "iopub.execute_input": "2022-03-04T02:45:21.743514Z",
     "iopub.status.busy": "2022-03-04T02:45:21.742884Z",
     "iopub.status.idle": "2022-03-04T02:45:21.746069Z",
     "shell.execute_reply": "2022-03-04T02:45:21.746595Z",
     "shell.execute_reply.started": "2022-03-04T02:32:41.284282Z"
    },
    "papermill": {
     "duration": 0.022089,
     "end_time": "2022-03-04T02:45:21.746749",
     "exception": false,
     "start_time": "2022-03-04T02:45:21.724660",
     "status": "completed"
    },
    "tags": []
   },
   "outputs": [],
   "source": [
    "# model.fit(X,y,epochs=5,batch_size=50)"
   ]
  },
  {
   "cell_type": "code",
   "execution_count": 12,
   "id": "c5c3e867",
   "metadata": {
    "execution": {
     "iopub.execute_input": "2022-03-04T02:45:21.782766Z",
     "iopub.status.busy": "2022-03-04T02:45:21.782215Z",
     "iopub.status.idle": "2022-03-04T02:45:21.788411Z",
     "shell.execute_reply": "2022-03-04T02:45:21.787831Z",
     "shell.execute_reply.started": "2022-03-04T02:42:52.944812Z"
    },
    "papermill": {
     "duration": 0.025991,
     "end_time": "2022-03-04T02:45:21.788539",
     "exception": false,
     "start_time": "2022-03-04T02:45:21.762548",
     "status": "completed"
    },
    "tags": []
   },
   "outputs": [],
   "source": [
    "from keras.preprocessing.sequence import pad_sequences\n",
    "\n",
    "def generate_line(model,context):\n",
    "    line = context\n",
    "    next_char = ''\n",
    "    counter = 0\n",
    "    while counter<100 and next_char != '\\n':\n",
    "        X = [[char_to_index[line[i]] for i in range(0,len(line))]]\n",
    "        X = pad_sequences(X,maxlen=char_window)\n",
    "        y = model.predict(X)\n",
    "        next_char = index_to_char[np.argmax(y)]\n",
    "        counter+=1\n",
    "        line+=next_char\n",
    "    return line"
   ]
  },
  {
   "cell_type": "code",
   "execution_count": 13,
   "id": "000ee745",
   "metadata": {
    "execution": {
     "iopub.execute_input": "2022-03-04T02:45:21.824825Z",
     "iopub.status.busy": "2022-03-04T02:45:21.824279Z",
     "iopub.status.idle": "2022-03-04T02:45:27.999600Z",
     "shell.execute_reply": "2022-03-04T02:45:27.998925Z",
     "shell.execute_reply.started": "2022-03-04T02:42:52.952955Z"
    },
    "papermill": {
     "duration": 6.195182,
     "end_time": "2022-03-04T02:45:27.999747",
     "exception": false,
     "start_time": "2022-03-04T02:45:21.804565",
     "status": "completed"
    },
    "tags": []
   },
   "outputs": [
    {
     "name": "stderr",
     "output_type": "stream",
     "text": [
      "2022-03-04 02:45:21.870679: I tensorflow/compiler/mlir/mlir_graph_optimization_pass.cc:185] None of the MLIR Optimization Passes are enabled (registered 2)\n"
     ]
    },
    {
     "data": {
      "text/plain": [
       "'one good girlllllwigggkksslllbbfffkullpppbbbbkkssssfffffg  wxxxbddosssgzzzzzbmmtotwwwigggggglllllllggkullllllbbzz'"
      ]
     },
     "execution_count": 13,
     "metadata": {},
     "output_type": "execute_result"
    }
   ],
   "source": [
    "generate_line(model,'one good girl')"
   ]
  },
  {
   "cell_type": "code",
   "execution_count": null,
   "id": "d770d05d",
   "metadata": {
    "papermill": {
     "duration": 0.01628,
     "end_time": "2022-03-04T02:45:28.032374",
     "exception": false,
     "start_time": "2022-03-04T02:45:28.016094",
     "status": "completed"
    },
    "tags": []
   },
   "outputs": [],
   "source": []
  },
  {
   "cell_type": "markdown",
   "id": "dc078f85",
   "metadata": {
    "papermill": {
     "duration": 0.016335,
     "end_time": "2022-03-04T02:45:28.066223",
     "exception": false,
     "start_time": "2022-03-04T02:45:28.049888",
     "status": "completed"
    },
    "tags": []
   },
   "source": [
    "# Try tokenizing on words, maybe using transfer learning"
   ]
  },
  {
   "cell_type": "code",
   "execution_count": null,
   "id": "f7a8f213",
   "metadata": {
    "papermill": {
     "duration": 0.016313,
     "end_time": "2022-03-04T02:45:28.100183",
     "exception": false,
     "start_time": "2022-03-04T02:45:28.083870",
     "status": "completed"
    },
    "tags": []
   },
   "outputs": [],
   "source": []
  },
  {
   "cell_type": "code",
   "execution_count": null,
   "id": "134ab9f1",
   "metadata": {
    "papermill": {
     "duration": 0.016688,
     "end_time": "2022-03-04T02:45:28.133446",
     "exception": false,
     "start_time": "2022-03-04T02:45:28.116758",
     "status": "completed"
    },
    "tags": []
   },
   "outputs": [],
   "source": []
  },
  {
   "cell_type": "code",
   "execution_count": null,
   "id": "9e5a0f22",
   "metadata": {
    "papermill": {
     "duration": 0.016169,
     "end_time": "2022-03-04T02:45:28.166006",
     "exception": false,
     "start_time": "2022-03-04T02:45:28.149837",
     "status": "completed"
    },
    "tags": []
   },
   "outputs": [],
   "source": []
  }
 ],
 "metadata": {
  "kernelspec": {
   "display_name": "Python 3",
   "language": "python",
   "name": "python3"
  },
  "language_info": {
   "codemirror_mode": {
    "name": "ipython",
    "version": 3
   },
   "file_extension": ".py",
   "mimetype": "text/x-python",
   "name": "python",
   "nbconvert_exporter": "python",
   "pygments_lexer": "ipython3",
   "version": "3.7.12"
  },
  "papermill": {
   "default_parameters": {},
   "duration": 24.563365,
   "end_time": "2022-03-04T02:45:31.050765",
   "environment_variables": {},
   "exception": null,
   "input_path": "__notebook__.ipynb",
   "output_path": "__notebook__.ipynb",
   "parameters": {},
   "start_time": "2022-03-04T02:45:06.487400",
   "version": "2.3.3"
  }
 },
 "nbformat": 4,
 "nbformat_minor": 5
}
