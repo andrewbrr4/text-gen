{
 "cells": [
  {
   "cell_type": "code",
   "execution_count": 1,
   "id": "b95ba5dd",
   "metadata": {
    "_cell_guid": "b1076dfc-b9ad-4769-8c92-a6c4dae69d19",
    "_uuid": "8f2839f25d086af736a60e9eeb907d3b93b6e0e5",
    "execution": {
     "iopub.execute_input": "2022-03-14T01:45:16.733364Z",
     "iopub.status.busy": "2022-03-14T01:45:16.732724Z",
     "iopub.status.idle": "2022-03-14T01:45:16.774060Z",
     "shell.execute_reply": "2022-03-14T01:45:16.774733Z",
     "shell.execute_reply.started": "2022-03-14T00:41:17.753452Z"
    },
    "papermill": {
     "duration": 0.076422,
     "end_time": "2022-03-14T01:45:16.775027",
     "exception": false,
     "start_time": "2022-03-14T01:45:16.698605",
     "status": "completed"
    },
    "tags": []
   },
   "outputs": [
    {
     "name": "stdout",
     "output_type": "stream",
     "text": [
      "/kaggle/input/poetry/Kanye_West.txt\n",
      "/kaggle/input/poetry/johnny-cash.txt\n",
      "/kaggle/input/poetry/kanye-west.txt\n",
      "/kaggle/input/poetry/bruno-mars.txt\n",
      "/kaggle/input/poetry/dickinson.txt\n",
      "/kaggle/input/poetry/amy-winehouse.txt\n",
      "/kaggle/input/poetry/blink-182.txt\n",
      "/kaggle/input/poetry/paul-simon.txt\n",
      "/kaggle/input/poetry/patti-smith.txt\n",
      "/kaggle/input/poetry/bieber.txt\n",
      "/kaggle/input/poetry/disney.txt\n",
      "/kaggle/input/poetry/jimi-hendrix.txt\n",
      "/kaggle/input/poetry/lin-manuel-miranda.txt\n",
      "/kaggle/input/poetry/adele.txt\n",
      "/kaggle/input/poetry/dj-khaled.txt\n",
      "/kaggle/input/poetry/beatles.txt\n",
      "/kaggle/input/poetry/r-kelly.txt\n",
      "/kaggle/input/poetry/lady-gaga.txt\n",
      "/kaggle/input/poetry/radiohead.txt\n",
      "/kaggle/input/poetry/britney-spears.txt\n",
      "/kaggle/input/poetry/alicia-keys.txt\n",
      "/kaggle/input/poetry/rihanna.txt\n",
      "/kaggle/input/poetry/joni-mitchell.txt\n",
      "/kaggle/input/poetry/dolly-parton.txt\n",
      "/kaggle/input/poetry/drake.txt\n",
      "/kaggle/input/poetry/Lil_Wayne.txt\n",
      "/kaggle/input/poetry/notorious_big.txt\n",
      "/kaggle/input/poetry/eminem.txt\n",
      "/kaggle/input/poetry/janisjoplin.txt\n",
      "/kaggle/input/poetry/prince.txt\n",
      "/kaggle/input/poetry/bruce-springsteen.txt\n",
      "/kaggle/input/poetry/bob-dylan.txt\n",
      "/kaggle/input/poetry/notorious-big.txt\n",
      "/kaggle/input/poetry/lil-wayne.txt\n",
      "/kaggle/input/poetry/dr-seuss.txt\n",
      "/kaggle/input/poetry/nicki-minaj.txt\n",
      "/kaggle/input/poetry/bob-marley.txt\n",
      "/kaggle/input/poetry/al-green.txt\n",
      "/kaggle/input/poetry/nickelback.txt\n",
      "/kaggle/input/poetry/michael-jackson.txt\n",
      "/kaggle/input/poetry/lorde.txt\n",
      "/kaggle/input/poetry/kanye.txt\n",
      "/kaggle/input/poetry/leonard-cohen.txt\n",
      "/kaggle/input/poetry/ludacris.txt\n",
      "/kaggle/input/poetry/bjork.txt\n",
      "/kaggle/input/poetry/nursery_rhymes.txt\n",
      "/kaggle/input/poetry/nirvana.txt\n",
      "/kaggle/input/poetry/cake.txt\n",
      "/kaggle/input/poetry/missy-elliott.txt\n"
     ]
    }
   ],
   "source": [
    "# This Python 3 environment comes with many helpful analytics libraries installed\n",
    "# It is defined by the kaggle/python Docker image: https://github.com/kaggle/docker-python\n",
    "# For example, here's several helpful packages to load\n",
    "\n",
    "import numpy as np # linear algebra\n",
    "import pandas as pd # data processing, CSV file I/O (e.g. pd.read_csv)\n",
    "\n",
    "# Input data files are available in the read-only \"../input/\" directory\n",
    "# For example, running this (by clicking run or pressing Shift+Enter) will list all files under the input directory\n",
    "\n",
    "import os\n",
    "for dirname, _, filenames in os.walk('/kaggle/input'):\n",
    "    for filename in filenames:\n",
    "        print(os.path.join(dirname, filename))\n",
    "\n",
    "# You can write up to 20GB to the current directory (/kaggle/working/) that gets preserved as output when you create a version using \"Save & Run All\" \n",
    "# You can also write temporary files to /kaggle/temp/, but they won't be saved outside of the current session"
   ]
  },
  {
   "cell_type": "code",
   "execution_count": 2,
   "id": "a22b6cfe",
   "metadata": {
    "execution": {
     "iopub.execute_input": "2022-03-14T01:45:16.829454Z",
     "iopub.status.busy": "2022-03-14T01:45:16.828790Z",
     "iopub.status.idle": "2022-03-14T01:45:22.865172Z",
     "shell.execute_reply": "2022-03-14T01:45:22.864428Z",
     "shell.execute_reply.started": "2022-03-14T00:41:42.926528Z"
    },
    "papermill": {
     "duration": 6.064461,
     "end_time": "2022-03-14T01:45:22.865353",
     "exception": false,
     "start_time": "2022-03-14T01:45:16.800892",
     "status": "completed"
    },
    "tags": []
   },
   "outputs": [],
   "source": [
    "import tensorflow as tf\n",
    "import keras"
   ]
  },
  {
   "cell_type": "markdown",
   "id": "d2897ab2",
   "metadata": {
    "papermill": {
     "duration": 0.025324,
     "end_time": "2022-03-14T01:45:22.916411",
     "exception": false,
     "start_time": "2022-03-14T01:45:22.891087",
     "status": "completed"
    },
    "tags": []
   },
   "source": [
    "# GOAL - create a bot to generate song lyrics using RNN"
   ]
  },
  {
   "cell_type": "code",
   "execution_count": 3,
   "id": "171688ff",
   "metadata": {
    "execution": {
     "iopub.execute_input": "2022-03-14T01:45:22.972632Z",
     "iopub.status.busy": "2022-03-14T01:45:22.971771Z",
     "iopub.status.idle": "2022-03-14T01:45:22.974644Z",
     "shell.execute_reply": "2022-03-14T01:45:22.974127Z",
     "shell.execute_reply.started": "2022-03-14T00:41:42.930770Z"
    },
    "papermill": {
     "duration": 0.032883,
     "end_time": "2022-03-14T01:45:22.974787",
     "exception": false,
     "start_time": "2022-03-14T01:45:22.941904",
     "status": "completed"
    },
    "tags": []
   },
   "outputs": [],
   "source": [
    "artist = '/kaggle/input/poetry/Kanye_West.txt'\n",
    "char_window = 20\n",
    "step = 3"
   ]
  },
  {
   "cell_type": "code",
   "execution_count": 4,
   "id": "323d9919",
   "metadata": {
    "execution": {
     "iopub.execute_input": "2022-03-14T01:45:23.030650Z",
     "iopub.status.busy": "2022-03-14T01:45:23.029569Z",
     "iopub.status.idle": "2022-03-14T01:45:23.050432Z",
     "shell.execute_reply": "2022-03-14T01:45:23.050997Z",
     "shell.execute_reply.started": "2022-03-14T00:41:42.943181Z"
    },
    "papermill": {
     "duration": 0.050986,
     "end_time": "2022-03-14T01:45:23.051175",
     "exception": false,
     "start_time": "2022-03-14T01:45:23.000189",
     "status": "completed"
    },
    "tags": []
   },
   "outputs": [],
   "source": [
    "with open(artist) as f:\n",
    "    text = f.read().lower()"
   ]
  },
  {
   "cell_type": "code",
   "execution_count": 5,
   "id": "5e36ba21",
   "metadata": {
    "execution": {
     "iopub.execute_input": "2022-03-14T01:45:23.114696Z",
     "iopub.status.busy": "2022-03-14T01:45:23.114024Z",
     "iopub.status.idle": "2022-03-14T01:45:23.116445Z",
     "shell.execute_reply": "2022-03-14T01:45:23.116981Z",
     "shell.execute_reply.started": "2022-03-14T00:41:42.958564Z"
    },
    "papermill": {
     "duration": 0.039353,
     "end_time": "2022-03-14T01:45:23.117154",
     "exception": false,
     "start_time": "2022-03-14T01:45:23.077801",
     "status": "completed"
    },
    "tags": []
   },
   "outputs": [],
   "source": [
    "import re\n",
    "\n",
    "text = re.sub('[^a-z \\n]','',text)"
   ]
  },
  {
   "cell_type": "code",
   "execution_count": 6,
   "id": "af51ab75",
   "metadata": {
    "execution": {
     "iopub.execute_input": "2022-03-14T01:45:23.171261Z",
     "iopub.status.busy": "2022-03-14T01:45:23.170538Z",
     "iopub.status.idle": "2022-03-14T01:45:23.178367Z",
     "shell.execute_reply": "2022-03-14T01:45:23.178845Z",
     "shell.execute_reply.started": "2022-03-14T00:41:42.970830Z"
    },
    "papermill": {
     "duration": 0.036334,
     "end_time": "2022-03-14T01:45:23.179028",
     "exception": false,
     "start_time": "2022-03-14T01:45:23.142694",
     "status": "completed"
    },
    "tags": []
   },
   "outputs": [],
   "source": [
    "chars = sorted(list(set(text)))\n",
    "chars = chars[:28]\n",
    "char_to_index = dict((c, i) for i, c in enumerate(chars))\n",
    "index_to_char = dict((i, c) for i, c in enumerate(chars))"
   ]
  },
  {
   "cell_type": "code",
   "execution_count": 7,
   "id": "c2126598",
   "metadata": {
    "execution": {
     "iopub.execute_input": "2022-03-14T01:45:23.234478Z",
     "iopub.status.busy": "2022-03-14T01:45:23.233771Z",
     "iopub.status.idle": "2022-03-14T01:45:23.312024Z",
     "shell.execute_reply": "2022-03-14T01:45:23.312552Z",
     "shell.execute_reply.started": "2022-03-14T00:41:42.985947Z"
    },
    "papermill": {
     "duration": 0.107177,
     "end_time": "2022-03-14T01:45:23.312725",
     "exception": false,
     "start_time": "2022-03-14T01:45:23.205548",
     "status": "completed"
    },
    "tags": []
   },
   "outputs": [
    {
     "data": {
      "text/plain": [
       "[('eighteen years eight', 'e'),\n",
       " ('hteen years eighteen', ' '),\n",
       " ('en years eighteen ye', 'a'),\n",
       " ('years eighteen years', '\\n'),\n",
       " ('rs eighteen years\\nsh', 'e'),\n",
       " ('eighteen years\\nshe g', 'o'),\n",
       " ('hteen years\\nshe got ', 'o'),\n",
       " ('en years\\nshe got one', ' '),\n",
       " ('years\\nshe got one of', ' '),\n",
       " ('rs\\nshe got one of yo', 'u'),\n",
       " ('she got one of your ', 'k'),\n",
       " (' got one of your kid', 's'),\n",
       " ('t one of your kids g', 'o'),\n",
       " ('ne of your kids got ', 'y'),\n",
       " ('of your kids got you', ' '),\n",
       " ('your kids got you fo', 'r'),\n",
       " ('r kids got you for e', 'i'),\n",
       " ('ids got you for eigh', 't'),\n",
       " (' got you for eightee', 'n'),\n",
       " ('t you for eighteen y', 'e'),\n",
       " ('ou for eighteen year', 's'),\n",
       " ('for eighteen years\\ni', ' '),\n",
       " (' eighteen years\\ni kn', 'o'),\n",
       " ('ghteen years\\ni know ', 's'),\n",
       " ('een years\\ni know som', 'e'),\n",
       " (' years\\ni know somebo', 'd'),\n",
       " ('ars\\ni know somebody ', 'p'),\n",
       " ('\\ni know somebody pay', 'i'),\n",
       " ('know somebody paying', ' '),\n",
       " ('w somebody paying ch', 'i'),\n",
       " ('omebody paying child', ' '),\n",
       " ('body paying child su', 'p'),\n",
       " ('y paying child suppo', 'r'),\n",
       " ('aying child support ', 'f'),\n",
       " ('ng child support for', ' '),\n",
       " ('child support for on', 'e'),\n",
       " ('ld support for one o', 'f'),\n",
       " ('support for one of h', 'i'),\n",
       " ('port for one of his ', 'k'),\n",
       " ('t for one of his kid', 's'),\n",
       " ('or one of his kids\\nh', 'i'),\n",
       " ('one of his kids\\nhis ', 'b'),\n",
       " (' of his kids\\nhis bab', 'y'),\n",
       " (' his kids\\nhis baby m', 'a'),\n",
       " ('s kids\\nhis baby mama', ' '),\n",
       " ('ids\\nhis baby mama ca', 'r'),\n",
       " ('\\nhis baby mama car a', 'n'),\n",
       " ('s baby mama car and ', 'c'),\n",
       " ('aby mama car and cri', 'b'),\n",
       " (' mama car and crib i', 's'),\n",
       " ('ma car and crib is b', 'i'),\n",
       " ('car and crib is bigg', 'e'),\n",
       " (' and crib is bigger ', 't'),\n",
       " ('d crib is bigger tha', 'n'),\n",
       " ('rib is bigger than h', 'i'),\n",
       " (' is bigger than his\\n', 'y'),\n",
       " (' bigger than his\\nyou', ' '),\n",
       " ('gger than his\\nyou wi', 'l'),\n",
       " ('r than his\\nyou will ', 's'),\n",
       " ('han his\\nyou will see', ' '),\n",
       " (' his\\nyou will see hi', 'm'),\n",
       " ('s\\nyou will see him o', 'n'),\n",
       " ('ou will see him on t', 'v'),\n",
       " ('will see him on tv a', 'n'),\n",
       " ('l see him on tv any ', 'g'),\n",
       " ('ee him on tv any giv', 'e'),\n",
       " ('him on tv any given ', 's'),\n",
       " (' on tv any given sun', 'd'),\n",
       " (' tv any given sunday', '\\n'),\n",
       " (' any given sunday\\nwi', 'n'),\n",
       " ('y given sunday\\nwin t', 'h'),\n",
       " ('iven sunday\\nwin the ', 's'),\n",
       " ('n sunday\\nwin the sup', 'e'),\n",
       " ('unday\\nwin the super ', 'b'),\n",
       " ('ay\\nwin the super bow', 'l'),\n",
       " ('win the super bowl a', 'n'),\n",
       " (' the super bowl and ', 'd'),\n",
       " ('e super bowl and dri', 'v'),\n",
       " ('uper bowl and drive ', 'o'),\n",
       " ('r bowl and drive off', ' '),\n",
       " ('owl and drive off in', ' '),\n",
       " (' and drive off in a ', 'h'),\n",
       " ('d drive off in a hyu', 'n'),\n",
       " ('rive off in a hyunda', 'i'),\n",
       " ('e off in a hyundai\\ns', 'h'),\n",
       " ('ff in a hyundai\\nshe ', 'w'),\n",
       " ('in a hyundai\\nshe was', ' '),\n",
       " ('a hyundai\\nshe was su', 'p'),\n",
       " ('yundai\\nshe was suppo', 's'),\n",
       " ('dai\\nshe was supposed', ' '),\n",
       " ('\\nshe was supposed to', ' '),\n",
       " ('e was supposed to bu', 'y'),\n",
       " ('as supposed to buy y', 'o'),\n",
       " ('supposed to buy your', ' '),\n",
       " ('posed to buy your sh', 'o'),\n",
       " ('ed to buy your short', 'y'),\n",
       " ('to buy your shorty t', 'y'),\n",
       " ('buy your shorty tyco', ' '),\n",
       " (' your shorty tyco wi', 't'),\n",
       " ('ur shorty tyco with ', 'y')]"
      ]
     },
     "execution_count": 7,
     "metadata": {},
     "output_type": "execute_result"
    }
   ],
   "source": [
    "inputs = []\n",
    "next_chars = []\n",
    "\n",
    "for i in range(0,len(text)-char_window,step):\n",
    "    inputs.append(text[i:i+char_window])\n",
    "    next_chars.append(text[i+char_window])\n",
    "        \n",
    "pairs = zip(inputs,next_chars)\n",
    "list(pairs)[:100]"
   ]
  },
  {
   "cell_type": "code",
   "execution_count": 8,
   "id": "cf1d8600",
   "metadata": {
    "execution": {
     "iopub.execute_input": "2022-03-14T01:45:23.368452Z",
     "iopub.status.busy": "2022-03-14T01:45:23.367697Z",
     "iopub.status.idle": "2022-03-14T01:45:24.311038Z",
     "shell.execute_reply": "2022-03-14T01:45:24.310260Z",
     "shell.execute_reply.started": "2022-03-14T00:41:43.073355Z"
    },
    "papermill": {
     "duration": 0.97282,
     "end_time": "2022-03-14T01:45:24.311420",
     "exception": false,
     "start_time": "2022-03-14T01:45:23.338600",
     "status": "completed"
    },
    "tags": []
   },
   "outputs": [
    {
     "data": {
      "text/plain": [
       "array([[ 6., 10.,  8., ...,  8.,  9., 21.],\n",
       "       [ 9., 21.,  6., ...,  6.,  6., 15.],\n",
       "       [ 6., 15.,  1., ...,  1., 26.,  6.],\n",
       "       ...,\n",
       "       [14., 17., 16., ...,  1., 21.,  9.],\n",
       "       [19., 21.,  2., ...,  2., 21.,  1.],\n",
       "       [15., 21.,  1., ..., 26., 16., 22.]], dtype=float32)"
      ]
     },
     "execution_count": 8,
     "metadata": {},
     "output_type": "execute_result"
    }
   ],
   "source": [
    "X = np.zeros((len(inputs),char_window),dtype=np.float32)\n",
    "\n",
    "for i in range(len(inputs)):\n",
    "    for j in range(char_window):\n",
    "        X[i,j] = char_to_index[inputs[i][j]]\n",
    "        \n",
    "X"
   ]
  },
  {
   "cell_type": "code",
   "execution_count": 9,
   "id": "56ad4137",
   "metadata": {
    "execution": {
     "iopub.execute_input": "2022-03-14T01:45:24.375741Z",
     "iopub.status.busy": "2022-03-14T01:45:24.375043Z",
     "iopub.status.idle": "2022-03-14T01:45:24.422057Z",
     "shell.execute_reply": "2022-03-14T01:45:24.421382Z",
     "shell.execute_reply.started": "2022-03-14T00:48:45.433922Z"
    },
    "papermill": {
     "duration": 0.083842,
     "end_time": "2022-03-14T01:45:24.422195",
     "exception": false,
     "start_time": "2022-03-14T01:45:24.338353",
     "status": "completed"
    },
    "tags": []
   },
   "outputs": [
    {
     "data": {
      "text/plain": [
       "array([[0., 0., 0., ..., 0., 0., 0.],\n",
       "       [0., 1., 0., ..., 0., 0., 0.],\n",
       "       [0., 0., 1., ..., 0., 0., 0.],\n",
       "       ...,\n",
       "       [0., 0., 1., ..., 0., 0., 0.],\n",
       "       [0., 0., 0., ..., 0., 1., 0.],\n",
       "       [1., 0., 0., ..., 0., 0., 0.]], dtype=float32)"
      ]
     },
     "execution_count": 9,
     "metadata": {},
     "output_type": "execute_result"
    }
   ],
   "source": [
    "from keras.utils.np_utils import to_categorical\n",
    "\n",
    "y = np.zeros(len(next_chars),dtype=np.float32)\n",
    "\n",
    "for i in range(len(next_chars)):\n",
    "    y[i] = char_to_index[next_chars[i]]\n",
    "\n",
    "y = to_categorical(y)\n",
    "\n",
    "y"
   ]
  },
  {
   "cell_type": "code",
   "execution_count": 10,
   "id": "94533fef",
   "metadata": {
    "execution": {
     "iopub.execute_input": "2022-03-14T01:45:24.480737Z",
     "iopub.status.busy": "2022-03-14T01:45:24.479805Z",
     "iopub.status.idle": "2022-03-14T01:45:25.172008Z",
     "shell.execute_reply": "2022-03-14T01:45:25.171348Z",
     "shell.execute_reply.started": "2022-03-14T00:48:45.978615Z"
    },
    "papermill": {
     "duration": 0.721746,
     "end_time": "2022-03-14T01:45:25.172165",
     "exception": false,
     "start_time": "2022-03-14T01:45:24.450419",
     "status": "completed"
    },
    "tags": []
   },
   "outputs": [
    {
     "name": "stderr",
     "output_type": "stream",
     "text": [
      "2022-03-14 01:45:24.519186: I tensorflow/core/common_runtime/process_util.cc:146] Creating new thread pool with default inter op setting: 2. Tune using inter_op_parallelism_threads for best performance.\n"
     ]
    },
    {
     "name": "stdout",
     "output_type": "stream",
     "text": [
      "Model: \"sequential\"\n",
      "_________________________________________________________________\n",
      "Layer (type)                 Output Shape              Param #   \n",
      "=================================================================\n",
      "embedding (Embedding)        (None, 20, 64)            1792      \n",
      "_________________________________________________________________\n",
      "lstm (LSTM)                  (None, 20, 256)           328704    \n",
      "_________________________________________________________________\n",
      "dropout (Dropout)            (None, 20, 256)           0         \n",
      "_________________________________________________________________\n",
      "lstm_1 (LSTM)                (None, 256)               525312    \n",
      "_________________________________________________________________\n",
      "dropout_1 (Dropout)          (None, 256)               0         \n",
      "_________________________________________________________________\n",
      "dense (Dense)                (None, 28)                7196      \n",
      "=================================================================\n",
      "Total params: 863,004\n",
      "Trainable params: 863,004\n",
      "Non-trainable params: 0\n",
      "_________________________________________________________________\n"
     ]
    }
   ],
   "source": [
    "from keras.models import Sequential\n",
    "from keras.layers import Embedding, GRU, LSTM, SimpleRNN, Dense, Dropout\n",
    "\n",
    "model = Sequential()\n",
    "\n",
    "model.add(Embedding(28,64,input_length=char_window))\n",
    "model.add(LSTM(256,return_sequences=True))\n",
    "model.add(Dropout(0.2))\n",
    "model.add(LSTM(256))\n",
    "model.add(Dropout(0.2))\n",
    "model.add(Dense(28,activation='softmax'))\n",
    "\n",
    "model.compile(loss='categorical_crossentropy', optimizer='adam',metrics=['accuracy'])\n",
    "model.summary()"
   ]
  },
  {
   "cell_type": "code",
   "execution_count": 11,
   "id": "1c7d188b",
   "metadata": {
    "execution": {
     "iopub.execute_input": "2022-03-14T01:45:25.234185Z",
     "iopub.status.busy": "2022-03-14T01:45:25.233553Z",
     "iopub.status.idle": "2022-03-14T02:12:36.240454Z",
     "shell.execute_reply": "2022-03-14T02:12:36.110655Z",
     "shell.execute_reply.started": "2022-03-14T00:48:47.874853Z"
    },
    "papermill": {
     "duration": 1631.04053,
     "end_time": "2022-03-14T02:12:36.240655",
     "exception": false,
     "start_time": "2022-03-14T01:45:25.200125",
     "status": "completed"
    },
    "tags": []
   },
   "outputs": [
    {
     "name": "stdout",
     "output_type": "stream",
     "text": [
      "Epoch 1/5\n"
     ]
    },
    {
     "name": "stderr",
     "output_type": "stream",
     "text": [
      "2022-03-14 01:45:25.298162: I tensorflow/compiler/mlir/mlir_graph_optimization_pass.cc:185] None of the MLIR Optimization Passes are enabled (registered 2)\n"
     ]
    },
    {
     "name": "stdout",
     "output_type": "stream",
     "text": [
      "4183/4183 [==============================] - 324s 76ms/step - loss: 2.2201 - accuracy: 0.3423\n",
      "Epoch 2/5\n",
      "4183/4183 [==============================] - 327s 78ms/step - loss: 1.7856 - accuracy: 0.4502\n",
      "Epoch 3/5\n",
      "4183/4183 [==============================] - 324s 77ms/step - loss: 1.6511 - accuracy: 0.4829\n",
      "Epoch 4/5\n",
      "4183/4183 [==============================] - 327s 78ms/step - loss: 1.5623 - accuracy: 0.5082\n",
      "Epoch 5/5\n",
      "4183/4183 [==============================] - 327s 78ms/step - loss: 1.4879 - accuracy: 0.5276\n"
     ]
    },
    {
     "data": {
      "text/plain": [
       "<keras.callbacks.History at 0x7f168563a790>"
      ]
     },
     "execution_count": 11,
     "metadata": {},
     "output_type": "execute_result"
    }
   ],
   "source": [
    "model.fit(X,y,epochs=5,batch_size=20)"
   ]
  },
  {
   "cell_type": "code",
   "execution_count": 12,
   "id": "9871a94b",
   "metadata": {
    "execution": {
     "iopub.execute_input": "2022-03-14T02:12:51.777571Z",
     "iopub.status.busy": "2022-03-14T02:12:51.775867Z",
     "iopub.status.idle": "2022-03-14T02:13:00.773774Z",
     "shell.execute_reply": "2022-03-14T02:13:00.772986Z",
     "shell.execute_reply.started": "2022-03-14T01:14:46.136300Z"
    },
    "papermill": {
     "duration": 16.771024,
     "end_time": "2022-03-14T02:13:00.773947",
     "exception": false,
     "start_time": "2022-03-14T02:12:44.002923",
     "status": "completed"
    },
    "tags": []
   },
   "outputs": [
    {
     "name": "stderr",
     "output_type": "stream",
     "text": [
      "2022-03-14 02:12:55.738195: W tensorflow/python/util/util.cc:348] Sets are not currently considered sequences, but this may change in the future, so consider avoiding using them.\n"
     ]
    }
   ],
   "source": [
    "model.save('kanye')"
   ]
  },
  {
   "cell_type": "code",
   "execution_count": 13,
   "id": "eb5d0ac5",
   "metadata": {
    "execution": {
     "iopub.execute_input": "2022-03-14T02:13:16.548869Z",
     "iopub.status.busy": "2022-03-14T02:13:16.547902Z",
     "iopub.status.idle": "2022-03-14T02:13:16.554392Z",
     "shell.execute_reply": "2022-03-14T02:13:16.554874Z",
     "shell.execute_reply.started": "2022-03-14T01:15:31.151566Z"
    },
    "papermill": {
     "duration": 7.823215,
     "end_time": "2022-03-14T02:13:16.555054",
     "exception": false,
     "start_time": "2022-03-14T02:13:08.731839",
     "status": "completed"
    },
    "tags": []
   },
   "outputs": [],
   "source": [
    "from keras.preprocessing.sequence import pad_sequences\n",
    "\n",
    "def generate_line(model,context):\n",
    "    line = context\n",
    "    next_char = ''\n",
    "    counter = 0\n",
    "    while counter<100 and next_char != '\\n':\n",
    "        X = [[char_to_index[line[i]] for i in range(0,len(line))]]\n",
    "        X = pad_sequences(X,maxlen=char_window)\n",
    "        y = model.predict(X)\n",
    "        next_char = index_to_char[np.argmax(y)]\n",
    "        counter+=1\n",
    "        line+=next_char\n",
    "    return line"
   ]
  },
  {
   "cell_type": "code",
   "execution_count": 14,
   "id": "b98cb7c2",
   "metadata": {
    "execution": {
     "iopub.execute_input": "2022-03-14T02:13:32.225793Z",
     "iopub.status.busy": "2022-03-14T02:13:32.223678Z",
     "iopub.status.idle": "2022-03-14T02:13:39.743855Z",
     "shell.execute_reply": "2022-03-14T02:13:39.744416Z",
     "shell.execute_reply.started": "2022-03-14T01:15:31.160288Z"
    },
    "papermill": {
     "duration": 15.360965,
     "end_time": "2022-03-14T02:13:39.744598",
     "exception": false,
     "start_time": "2022-03-14T02:13:24.383633",
     "status": "completed"
    },
    "tags": []
   },
   "outputs": [
    {
     "data": {
      "text/plain": [
       "'one good girl i said i want to say i want to say i want to say i want to say i want to say i want to say i want t'"
      ]
     },
     "execution_count": 14,
     "metadata": {},
     "output_type": "execute_result"
    }
   ],
   "source": [
    "generate_line(model,'one good girl')"
   ]
  },
  {
   "cell_type": "code",
   "execution_count": 15,
   "id": "7dbe8078",
   "metadata": {
    "execution": {
     "iopub.execute_input": "2022-03-14T02:13:55.352107Z",
     "iopub.status.busy": "2022-03-14T02:13:55.350135Z",
     "iopub.status.idle": "2022-03-14T02:13:55.480609Z",
     "shell.execute_reply": "2022-03-14T02:13:55.481307Z",
     "shell.execute_reply.started": "2022-03-14T01:15:35.328341Z"
    },
    "papermill": {
     "duration": 7.922443,
     "end_time": "2022-03-14T02:13:55.481495",
     "exception": false,
     "start_time": "2022-03-14T02:13:47.559052",
     "status": "completed"
    },
    "tags": []
   },
   "outputs": [
    {
     "data": {
      "text/plain": [
       "'i had a dreams\\n'"
      ]
     },
     "execution_count": 15,
     "metadata": {},
     "output_type": "execute_result"
    }
   ],
   "source": [
    "generate_line(model,'i had a dream')"
   ]
  },
  {
   "cell_type": "code",
   "execution_count": 16,
   "id": "84a6f7bb",
   "metadata": {
    "execution": {
     "iopub.execute_input": "2022-03-14T02:14:11.152639Z",
     "iopub.status.busy": "2022-03-14T02:14:11.151534Z",
     "iopub.status.idle": "2022-03-14T02:14:17.408226Z",
     "shell.execute_reply": "2022-03-14T02:14:17.407325Z",
     "shell.execute_reply.started": "2022-03-14T01:15:38.772434Z"
    },
    "papermill": {
     "duration": 14.152389,
     "end_time": "2022-03-14T02:14:17.408377",
     "exception": false,
     "start_time": "2022-03-14T02:14:03.255988",
     "status": "completed"
    },
    "tags": []
   },
   "outputs": [
    {
     "data": {
      "text/plain": [
       "'i need you can start the straight and i say i want to say i want to say i want to say i want to say i want to '"
      ]
     },
     "execution_count": 16,
     "metadata": {},
     "output_type": "execute_result"
    }
   ],
   "source": [
    "generate_line(model,'i need you')"
   ]
  },
  {
   "cell_type": "code",
   "execution_count": null,
   "id": "b883b897",
   "metadata": {
    "papermill": {
     "duration": 7.820139,
     "end_time": "2022-03-14T02:14:33.006690",
     "exception": false,
     "start_time": "2022-03-14T02:14:25.186551",
     "status": "completed"
    },
    "tags": []
   },
   "outputs": [],
   "source": []
  },
  {
   "cell_type": "markdown",
   "id": "db2b0504",
   "metadata": {
    "papermill": {
     "duration": 7.875909,
     "end_time": "2022-03-14T02:14:48.681129",
     "exception": false,
     "start_time": "2022-03-14T02:14:40.805220",
     "status": "completed"
    },
    "tags": []
   },
   "source": [
    "## We are going to try using temperature now"
   ]
  },
  {
   "cell_type": "code",
   "execution_count": 17,
   "id": "1a33483b",
   "metadata": {
    "execution": {
     "iopub.execute_input": "2022-03-14T02:15:04.337237Z",
     "iopub.status.busy": "2022-03-14T02:15:04.336577Z",
     "iopub.status.idle": "2022-03-14T02:15:04.338161Z",
     "shell.execute_reply": "2022-03-14T02:15:04.338685Z",
     "shell.execute_reply.started": "2022-03-14T01:32:06.415223Z"
    },
    "papermill": {
     "duration": 7.862586,
     "end_time": "2022-03-14T02:15:04.338848",
     "exception": false,
     "start_time": "2022-03-14T02:14:56.476262",
     "status": "completed"
    },
    "tags": []
   },
   "outputs": [],
   "source": [
    "def softmax(z):\n",
    "    return np.exp(z)/sum(np.exp(z))\n",
    "\n",
    "def temp_scale(conditional_probability, temperature=1.0):\n",
    "    conditional_probability = np.asarray(conditional_probability).astype(\"float64\")\n",
    "    conditional_probability = np.log(conditional_probability) / temperature\n",
    "    reweighted_conditional_probability = softmax(conditional_probability)\n",
    "    probas = np.random.multinomial(1, reweighted_conditional_probability, 1)\n",
    "    return np.argmax(probas)"
   ]
  },
  {
   "cell_type": "code",
   "execution_count": 18,
   "id": "447d4d84",
   "metadata": {
    "execution": {
     "iopub.execute_input": "2022-03-14T02:15:19.873624Z",
     "iopub.status.busy": "2022-03-14T02:15:19.872948Z",
     "iopub.status.idle": "2022-03-14T02:15:19.874475Z",
     "shell.execute_reply": "2022-03-14T02:15:19.875031Z",
     "shell.execute_reply.started": "2022-03-14T01:37:17.689991Z"
    },
    "papermill": {
     "duration": 7.812968,
     "end_time": "2022-03-14T02:15:19.875193",
     "exception": false,
     "start_time": "2022-03-14T02:15:12.062225",
     "status": "completed"
    },
    "tags": []
   },
   "outputs": [],
   "source": [
    "def generate_line_2(model,context,temp):\n",
    "    line = context\n",
    "    next_char = ''\n",
    "    counter = 0\n",
    "    while counter<100 and next_char != '\\n':\n",
    "        X = [[char_to_index[line[i]] for i in range(0,len(line))]]\n",
    "        X = pad_sequences(X,maxlen=char_window)\n",
    "        y = model.predict(X)\n",
    "        next_char = index_to_char[temp_scale(y[0,:],temp)]\n",
    "        counter+=1\n",
    "        line+=next_char\n",
    "    return line"
   ]
  },
  {
   "cell_type": "code",
   "execution_count": 19,
   "id": "9a4c0a2f",
   "metadata": {
    "execution": {
     "iopub.execute_input": "2022-03-14T02:15:35.478321Z",
     "iopub.status.busy": "2022-03-14T02:15:35.477667Z",
     "iopub.status.idle": "2022-03-14T02:15:57.276707Z",
     "shell.execute_reply": "2022-03-14T02:15:57.276140Z",
     "shell.execute_reply.started": "2022-03-14T01:43:06.780563Z"
    },
    "papermill": {
     "duration": 29.625369,
     "end_time": "2022-03-14T02:15:57.276855",
     "exception": false,
     "start_time": "2022-03-14T02:15:27.651486",
     "status": "completed"
    },
    "tags": []
   },
   "outputs": [
    {
     "name": "stdout",
     "output_type": "stream",
     "text": [
      "i had a dream i could got a say i want to say i want to say i want to say i want to say i want to say i want to say i wan\n",
      "i had a dream i could got a still got the straight i want to the streets was the straight now\n",
      "\n",
      "i had a dream i could about a plane\n",
      "\n",
      "i had a dream i could buy a song courle it\n",
      "\n",
      "i had a dream i could never even going up to keep pess on this beverein yeah up the chocuby doin with from time\n",
      "\n",
      "i had a dream i couldnt llapieaases it tpastrssekcteuning\n",
      "\n"
     ]
    }
   ],
   "source": [
    "temps = [.01, 0.2, 0.5, 1.0, 1.2, 2]\n",
    "\n",
    "for temp in temps:\n",
    "    print(generate_line_2(model,'i had a dream i could',temp))"
   ]
  },
  {
   "cell_type": "code",
   "execution_count": 20,
   "id": "9eecc13b",
   "metadata": {
    "execution": {
     "iopub.execute_input": "2022-03-14T02:16:13.006306Z",
     "iopub.status.busy": "2022-03-14T02:16:13.005501Z",
     "iopub.status.idle": "2022-03-14T02:16:32.754048Z",
     "shell.execute_reply": "2022-03-14T02:16:32.754575Z",
     "shell.execute_reply.started": "2022-03-14T01:43:21.455007Z"
    },
    "papermill": {
     "duration": 27.586447,
     "end_time": "2022-03-14T02:16:32.754767",
     "exception": false,
     "start_time": "2022-03-14T02:16:05.168320",
     "status": "completed"
    },
    "tags": []
   },
   "outputs": [
    {
     "name": "stdout",
     "output_type": "stream",
     "text": [
      "one good girl i said i want to say i want to say i want to say i want to say i want to say i want to say i want t\n",
      "one good girl i know what i want to get the stripper that i said i want to the straight and what you aint gotta s\n",
      "one good girl hey so the strip i will to take you made me\n",
      "\n",
      "one good girl all your spole\n",
      "\n",
      "one good girlficred leaving craqks\n",
      "\n",
      "one good girl enteabdpeid nigga\n",
      "\n"
     ]
    }
   ],
   "source": [
    "for temp in temps:\n",
    "    print(generate_line_2(model,'one good girl',temp))"
   ]
  },
  {
   "cell_type": "code",
   "execution_count": 21,
   "id": "669f4c1b",
   "metadata": {
    "execution": {
     "iopub.execute_input": "2022-03-14T02:16:48.352532Z",
     "iopub.status.busy": "2022-03-14T02:16:48.351386Z",
     "iopub.status.idle": "2022-03-14T02:17:07.069385Z",
     "shell.execute_reply": "2022-03-14T02:17:07.070295Z",
     "shell.execute_reply.started": "2022-03-14T01:43:39.955892Z"
    },
    "papermill": {
     "duration": 26.511987,
     "end_time": "2022-03-14T02:17:07.070529",
     "exception": false,
     "start_time": "2022-03-14T02:16:40.558542",
     "status": "completed"
    },
    "tags": []
   },
   "outputs": [
    {
     "name": "stdout",
     "output_type": "stream",
     "text": [
      "i need you can start the straight and i say i want to say i want to say i want to say i want to say i want to \n",
      "i need you aint gotta the straight i can something to the churts and they say the money got a minute the club\n",
      "\n",
      "i need you aint know she gotta you blaze\n",
      "\n",
      "i need you i just was ball\n",
      "\n",
      "i need you know im you been woway him\n",
      "\n",
      "i need yous fightongout\n",
      "\n"
     ]
    }
   ],
   "source": [
    "for temp in temps:\n",
    "    print(generate_line_2(model,'i need you',temp))"
   ]
  },
  {
   "cell_type": "code",
   "execution_count": null,
   "id": "9aadc645",
   "metadata": {
    "papermill": {
     "duration": 7.83605,
     "end_time": "2022-03-14T02:17:22.704806",
     "exception": false,
     "start_time": "2022-03-14T02:17:14.868756",
     "status": "completed"
    },
    "tags": []
   },
   "outputs": [],
   "source": []
  }
 ],
 "metadata": {
  "kernelspec": {
   "display_name": "Python 3",
   "language": "python",
   "name": "python3"
  },
  "language_info": {
   "codemirror_mode": {
    "name": "ipython",
    "version": 3
   },
   "file_extension": ".py",
   "mimetype": "text/x-python",
   "name": "python",
   "nbconvert_exporter": "python",
   "pygments_lexer": "ipython3",
   "version": "3.7.12"
  },
  "papermill": {
   "default_parameters": {},
   "duration": 1947.318722,
   "end_time": "2022-03-14T02:17:33.797429",
   "environment_variables": {},
   "exception": null,
   "input_path": "__notebook__.ipynb",
   "output_path": "__notebook__.ipynb",
   "parameters": {},
   "start_time": "2022-03-14T01:45:06.478707",
   "version": "2.3.3"
  }
 },
 "nbformat": 4,
 "nbformat_minor": 5
}
