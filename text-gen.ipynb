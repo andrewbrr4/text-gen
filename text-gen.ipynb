{
 "cells": [
  {
   "cell_type": "code",
   "execution_count": 1,
   "id": "b9f525d5",
   "metadata": {
    "_cell_guid": "b1076dfc-b9ad-4769-8c92-a6c4dae69d19",
    "_uuid": "8f2839f25d086af736a60e9eeb907d3b93b6e0e5",
    "execution": {
     "iopub.execute_input": "2022-02-22T04:17:44.382802Z",
     "iopub.status.busy": "2022-02-22T04:17:44.380976Z",
     "iopub.status.idle": "2022-02-22T04:17:44.425710Z",
     "shell.execute_reply": "2022-02-22T04:17:44.426253Z",
     "shell.execute_reply.started": "2022-02-22T03:29:41.694453Z"
    },
    "papermill": {
     "duration": 0.063642,
     "end_time": "2022-02-22T04:17:44.426580",
     "exception": false,
     "start_time": "2022-02-22T04:17:44.362938",
     "status": "completed"
    },
    "tags": []
   },
   "outputs": [
    {
     "name": "stdout",
     "output_type": "stream",
     "text": [
      "/kaggle/input/poetry/Kanye_West.txt\n",
      "/kaggle/input/poetry/johnny-cash.txt\n",
      "/kaggle/input/poetry/kanye-west.txt\n",
      "/kaggle/input/poetry/bruno-mars.txt\n",
      "/kaggle/input/poetry/dickinson.txt\n",
      "/kaggle/input/poetry/amy-winehouse.txt\n",
      "/kaggle/input/poetry/blink-182.txt\n",
      "/kaggle/input/poetry/paul-simon.txt\n",
      "/kaggle/input/poetry/patti-smith.txt\n",
      "/kaggle/input/poetry/bieber.txt\n",
      "/kaggle/input/poetry/disney.txt\n",
      "/kaggle/input/poetry/jimi-hendrix.txt\n",
      "/kaggle/input/poetry/lin-manuel-miranda.txt\n",
      "/kaggle/input/poetry/adele.txt\n",
      "/kaggle/input/poetry/dj-khaled.txt\n",
      "/kaggle/input/poetry/beatles.txt\n",
      "/kaggle/input/poetry/r-kelly.txt\n",
      "/kaggle/input/poetry/lady-gaga.txt\n",
      "/kaggle/input/poetry/radiohead.txt\n",
      "/kaggle/input/poetry/britney-spears.txt\n",
      "/kaggle/input/poetry/alicia-keys.txt\n",
      "/kaggle/input/poetry/rihanna.txt\n",
      "/kaggle/input/poetry/joni-mitchell.txt\n",
      "/kaggle/input/poetry/dolly-parton.txt\n",
      "/kaggle/input/poetry/drake.txt\n",
      "/kaggle/input/poetry/Lil_Wayne.txt\n",
      "/kaggle/input/poetry/notorious_big.txt\n",
      "/kaggle/input/poetry/eminem.txt\n",
      "/kaggle/input/poetry/janisjoplin.txt\n",
      "/kaggle/input/poetry/prince.txt\n",
      "/kaggle/input/poetry/bruce-springsteen.txt\n",
      "/kaggle/input/poetry/bob-dylan.txt\n",
      "/kaggle/input/poetry/notorious-big.txt\n",
      "/kaggle/input/poetry/lil-wayne.txt\n",
      "/kaggle/input/poetry/dr-seuss.txt\n",
      "/kaggle/input/poetry/nicki-minaj.txt\n",
      "/kaggle/input/poetry/bob-marley.txt\n",
      "/kaggle/input/poetry/al-green.txt\n",
      "/kaggle/input/poetry/nickelback.txt\n",
      "/kaggle/input/poetry/michael-jackson.txt\n",
      "/kaggle/input/poetry/lorde.txt\n",
      "/kaggle/input/poetry/kanye.txt\n",
      "/kaggle/input/poetry/leonard-cohen.txt\n",
      "/kaggle/input/poetry/ludacris.txt\n",
      "/kaggle/input/poetry/bjork.txt\n",
      "/kaggle/input/poetry/nursery_rhymes.txt\n",
      "/kaggle/input/poetry/nirvana.txt\n",
      "/kaggle/input/poetry/cake.txt\n",
      "/kaggle/input/poetry/missy-elliott.txt\n"
     ]
    }
   ],
   "source": [
    "# This Python 3 environment comes with many helpful analytics libraries installed\n",
    "# It is defined by the kaggle/python Docker image: https://github.com/kaggle/docker-python\n",
    "# For example, here's several helpful packages to load\n",
    "\n",
    "import numpy as np # linear algebra\n",
    "import pandas as pd # data processing, CSV file I/O (e.g. pd.read_csv)\n",
    "\n",
    "# Input data files are available in the read-only \"../input/\" directory\n",
    "# For example, running this (by clicking run or pressing Shift+Enter) will list all files under the input directory\n",
    "\n",
    "import os\n",
    "for dirname, _, filenames in os.walk('/kaggle/input'):\n",
    "    for filename in filenames:\n",
    "        print(os.path.join(dirname, filename))\n",
    "\n",
    "# You can write up to 20GB to the current directory (/kaggle/working/) that gets preserved as output when you create a version using \"Save & Run All\" \n",
    "# You can also write temporary files to /kaggle/temp/, but they won't be saved outside of the current session"
   ]
  },
  {
   "cell_type": "code",
   "execution_count": 2,
   "id": "bef48f89",
   "metadata": {
    "execution": {
     "iopub.execute_input": "2022-02-22T04:17:44.457128Z",
     "iopub.status.busy": "2022-02-22T04:17:44.456287Z",
     "iopub.status.idle": "2022-02-22T04:17:50.697486Z",
     "shell.execute_reply": "2022-02-22T04:17:50.697965Z",
     "shell.execute_reply.started": "2022-02-22T03:39:25.186603Z"
    },
    "papermill": {
     "duration": 6.258726,
     "end_time": "2022-02-22T04:17:50.698197",
     "exception": false,
     "start_time": "2022-02-22T04:17:44.439471",
     "status": "completed"
    },
    "tags": []
   },
   "outputs": [],
   "source": [
    "import tensorflow as tf\n",
    "import keras"
   ]
  },
  {
   "cell_type": "markdown",
   "id": "9b0e2c8e",
   "metadata": {
    "papermill": {
     "duration": 0.01255,
     "end_time": "2022-02-22T04:17:50.723847",
     "exception": false,
     "start_time": "2022-02-22T04:17:50.711297",
     "status": "completed"
    },
    "tags": []
   },
   "source": [
    "# GOAL - create a bot to generate song lyrics using RNN"
   ]
  },
  {
   "cell_type": "code",
   "execution_count": 3,
   "id": "c18d43b9",
   "metadata": {
    "execution": {
     "iopub.execute_input": "2022-02-22T04:17:50.752450Z",
     "iopub.status.busy": "2022-02-22T04:17:50.751761Z",
     "iopub.status.idle": "2022-02-22T04:17:50.757623Z",
     "shell.execute_reply": "2022-02-22T04:17:50.758182Z",
     "shell.execute_reply.started": "2022-02-22T03:51:10.632410Z"
    },
    "papermill": {
     "duration": 0.022104,
     "end_time": "2022-02-22T04:17:50.758371",
     "exception": false,
     "start_time": "2022-02-22T04:17:50.736267",
     "status": "completed"
    },
    "tags": []
   },
   "outputs": [],
   "source": [
    "artist = '/kaggle/input/poetry/Kanye_West.txt'\n",
    "char_window = 20\n",
    "step = 3"
   ]
  },
  {
   "cell_type": "code",
   "execution_count": 4,
   "id": "28f3e7da",
   "metadata": {
    "execution": {
     "iopub.execute_input": "2022-02-22T04:17:50.789325Z",
     "iopub.status.busy": "2022-02-22T04:17:50.788329Z",
     "iopub.status.idle": "2022-02-22T04:17:50.806718Z",
     "shell.execute_reply": "2022-02-22T04:17:50.807293Z",
     "shell.execute_reply.started": "2022-02-22T03:51:11.687312Z"
    },
    "papermill": {
     "duration": 0.03662,
     "end_time": "2022-02-22T04:17:50.807516",
     "exception": false,
     "start_time": "2022-02-22T04:17:50.770896",
     "status": "completed"
    },
    "tags": []
   },
   "outputs": [],
   "source": [
    "with open(artist) as f:\n",
    "    text = f.read()"
   ]
  },
  {
   "cell_type": "code",
   "execution_count": 5,
   "id": "9ea681e1",
   "metadata": {
    "execution": {
     "iopub.execute_input": "2022-02-22T04:17:50.844226Z",
     "iopub.status.busy": "2022-02-22T04:17:50.843473Z",
     "iopub.status.idle": "2022-02-22T04:17:50.845775Z",
     "shell.execute_reply": "2022-02-22T04:17:50.846470Z",
     "shell.execute_reply.started": "2022-02-22T04:10:57.860729Z"
    },
    "papermill": {
     "duration": 0.025378,
     "end_time": "2022-02-22T04:17:50.846673",
     "exception": false,
     "start_time": "2022-02-22T04:17:50.821295",
     "status": "completed"
    },
    "tags": []
   },
   "outputs": [],
   "source": [
    "chars = sorted(list(set(text)))\n",
    "char_to_index = dict((c, i) for i, c in enumerate(chars))\n",
    "index_to_char = dict((i, c) for i, c in enumerate(chars))"
   ]
  },
  {
   "cell_type": "code",
   "execution_count": 6,
   "id": "0a2c17f8",
   "metadata": {
    "execution": {
     "iopub.execute_input": "2022-02-22T04:17:50.882647Z",
     "iopub.status.busy": "2022-02-22T04:17:50.881598Z",
     "iopub.status.idle": "2022-02-22T04:17:50.886471Z",
     "shell.execute_reply": "2022-02-22T04:17:50.885902Z",
     "shell.execute_reply.started": "2022-02-22T04:10:58.216155Z"
    },
    "papermill": {
     "duration": 0.027169,
     "end_time": "2022-02-22T04:17:50.886627",
     "exception": false,
     "start_time": "2022-02-22T04:17:50.859458",
     "status": "completed"
    },
    "tags": []
   },
   "outputs": [
    {
     "data": {
      "text/plain": [
       "['\\ufeffEighteen years eighteen years',\n",
       " 'She got one of your kids got you for eighteen years',\n",
       " 'I know somebody paying child support for one of his kids']"
      ]
     },
     "execution_count": 6,
     "metadata": {},
     "output_type": "execute_result"
    }
   ],
   "source": [
    "lines = text.split('\\n')\n",
    "lines[:3]"
   ]
  },
  {
   "cell_type": "code",
   "execution_count": 7,
   "id": "c310495d",
   "metadata": {
    "execution": {
     "iopub.execute_input": "2022-02-22T04:17:50.933231Z",
     "iopub.status.busy": "2022-02-22T04:17:50.927800Z",
     "iopub.status.idle": "2022-02-22T04:17:50.963305Z",
     "shell.execute_reply": "2022-02-22T04:17:50.962559Z",
     "shell.execute_reply.started": "2022-02-22T04:10:59.652233Z"
    },
    "papermill": {
     "duration": 0.063001,
     "end_time": "2022-02-22T04:17:50.963476",
     "exception": false,
     "start_time": "2022-02-22T04:17:50.900475",
     "status": "completed"
    },
    "tags": []
   },
   "outputs": [
    {
     "data": {
      "text/plain": [
       "[('\\ufeffEighteen years eigh', 't'),\n",
       " ('ghteen years eightee', 'n'),\n",
       " ('een years eighteen y', 'e'),\n",
       " (' years eighteen year', 's'),\n",
       " ('She got one of your ', 'k')]"
      ]
     },
     "execution_count": 7,
     "metadata": {},
     "output_type": "execute_result"
    }
   ],
   "source": [
    "inputs = []\n",
    "next_chars = []\n",
    "\n",
    "for line in lines:\n",
    "    for i in range(0,len(line)-char_window,step):\n",
    "        inputs.append(line[i:i+char_window])\n",
    "        next_chars.append(line[i+char_window])\n",
    "        \n",
    "pairs = zip(inputs,next_chars)\n",
    "list(pairs)[:5]"
   ]
  },
  {
   "cell_type": "code",
   "execution_count": 8,
   "id": "6a6a57c9",
   "metadata": {
    "execution": {
     "iopub.execute_input": "2022-02-22T04:17:50.997327Z",
     "iopub.status.busy": "2022-02-22T04:17:50.996384Z",
     "iopub.status.idle": "2022-02-22T04:17:50.999427Z",
     "shell.execute_reply": "2022-02-22T04:17:50.998733Z",
     "shell.execute_reply.started": "2022-02-22T04:11:50.344711Z"
    },
    "papermill": {
     "duration": 0.022564,
     "end_time": "2022-02-22T04:17:50.999591",
     "exception": false,
     "start_time": "2022-02-22T04:17:50.977027",
     "status": "completed"
    },
    "tags": []
   },
   "outputs": [],
   "source": [
    "num_sentences = len(inputs)\n",
    "num_chars = len(chars)"
   ]
  },
  {
   "cell_type": "code",
   "execution_count": 9,
   "id": "dc8d9d9d",
   "metadata": {
    "execution": {
     "iopub.execute_input": "2022-02-22T04:17:51.033341Z",
     "iopub.status.busy": "2022-02-22T04:17:51.032317Z",
     "iopub.status.idle": "2022-02-22T04:17:51.035630Z",
     "shell.execute_reply": "2022-02-22T04:17:51.035045Z",
     "shell.execute_reply.started": "2022-02-22T04:13:51.507748Z"
    },
    "papermill": {
     "duration": 0.022482,
     "end_time": "2022-02-22T04:17:51.035803",
     "exception": false,
     "start_time": "2022-02-22T04:17:51.013321",
     "status": "completed"
    },
    "tags": []
   },
   "outputs": [],
   "source": [
    "numerical_sentences = np.zeros((num_sentences,char_window),dtype=np.int32)\n",
    "numerical_next_chars = np.zeros((num_sentences,num_chars),dtype=np.int32)"
   ]
  },
  {
   "cell_type": "code",
   "execution_count": null,
   "id": "c8e2e2dd",
   "metadata": {
    "papermill": {
     "duration": 0.014216,
     "end_time": "2022-02-22T04:17:51.064059",
     "exception": false,
     "start_time": "2022-02-22T04:17:51.049843",
     "status": "completed"
    },
    "tags": []
   },
   "outputs": [],
   "source": []
  }
 ],
 "metadata": {
  "kernelspec": {
   "display_name": "Python 3",
   "language": "python",
   "name": "python3"
  },
  "language_info": {
   "codemirror_mode": {
    "name": "ipython",
    "version": 3
   },
   "file_extension": ".py",
   "mimetype": "text/x-python",
   "name": "python",
   "nbconvert_exporter": "python",
   "pygments_lexer": "ipython3",
   "version": "3.7.12"
  },
  "papermill": {
   "default_parameters": {},
   "duration": 20.632952,
   "end_time": "2022-02-22T04:17:54.613497",
   "environment_variables": {},
   "exception": null,
   "input_path": "__notebook__.ipynb",
   "output_path": "__notebook__.ipynb",
   "parameters": {},
   "start_time": "2022-02-22T04:17:33.980545",
   "version": "2.3.3"
  }
 },
 "nbformat": 4,
 "nbformat_minor": 5
}
