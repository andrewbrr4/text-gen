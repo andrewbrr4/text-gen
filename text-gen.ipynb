{
 "cells": [
  {
   "cell_type": "code",
   "execution_count": 1,
   "id": "84ffc7ac",
   "metadata": {
    "_cell_guid": "b1076dfc-b9ad-4769-8c92-a6c4dae69d19",
    "_uuid": "8f2839f25d086af736a60e9eeb907d3b93b6e0e5",
    "execution": {
     "iopub.execute_input": "2022-02-24T01:28:06.040826Z",
     "iopub.status.busy": "2022-02-24T01:28:06.039554Z",
     "iopub.status.idle": "2022-02-24T01:28:06.083088Z",
     "shell.execute_reply": "2022-02-24T01:28:06.083839Z",
     "shell.execute_reply.started": "2022-02-24T00:38:34.647127Z"
    },
    "papermill": {
     "duration": 0.065775,
     "end_time": "2022-02-24T01:28:06.084402",
     "exception": false,
     "start_time": "2022-02-24T01:28:06.018627",
     "status": "completed"
    },
    "tags": []
   },
   "outputs": [
    {
     "name": "stdout",
     "output_type": "stream",
     "text": [
      "/kaggle/input/poetry/Kanye_West.txt\n",
      "/kaggle/input/poetry/johnny-cash.txt\n",
      "/kaggle/input/poetry/kanye-west.txt\n",
      "/kaggle/input/poetry/bruno-mars.txt\n",
      "/kaggle/input/poetry/dickinson.txt\n",
      "/kaggle/input/poetry/amy-winehouse.txt\n",
      "/kaggle/input/poetry/blink-182.txt\n",
      "/kaggle/input/poetry/paul-simon.txt\n",
      "/kaggle/input/poetry/patti-smith.txt\n",
      "/kaggle/input/poetry/bieber.txt\n",
      "/kaggle/input/poetry/disney.txt\n",
      "/kaggle/input/poetry/jimi-hendrix.txt\n",
      "/kaggle/input/poetry/lin-manuel-miranda.txt\n",
      "/kaggle/input/poetry/adele.txt\n",
      "/kaggle/input/poetry/dj-khaled.txt\n",
      "/kaggle/input/poetry/beatles.txt\n",
      "/kaggle/input/poetry/r-kelly.txt\n",
      "/kaggle/input/poetry/lady-gaga.txt\n",
      "/kaggle/input/poetry/radiohead.txt\n",
      "/kaggle/input/poetry/britney-spears.txt\n",
      "/kaggle/input/poetry/alicia-keys.txt\n",
      "/kaggle/input/poetry/rihanna.txt\n",
      "/kaggle/input/poetry/joni-mitchell.txt\n",
      "/kaggle/input/poetry/dolly-parton.txt\n",
      "/kaggle/input/poetry/drake.txt\n",
      "/kaggle/input/poetry/Lil_Wayne.txt\n",
      "/kaggle/input/poetry/notorious_big.txt\n",
      "/kaggle/input/poetry/eminem.txt\n",
      "/kaggle/input/poetry/janisjoplin.txt\n",
      "/kaggle/input/poetry/prince.txt\n",
      "/kaggle/input/poetry/bruce-springsteen.txt\n",
      "/kaggle/input/poetry/bob-dylan.txt\n",
      "/kaggle/input/poetry/notorious-big.txt\n",
      "/kaggle/input/poetry/lil-wayne.txt\n",
      "/kaggle/input/poetry/dr-seuss.txt\n",
      "/kaggle/input/poetry/nicki-minaj.txt\n",
      "/kaggle/input/poetry/bob-marley.txt\n",
      "/kaggle/input/poetry/al-green.txt\n",
      "/kaggle/input/poetry/nickelback.txt\n",
      "/kaggle/input/poetry/michael-jackson.txt\n",
      "/kaggle/input/poetry/lorde.txt\n",
      "/kaggle/input/poetry/kanye.txt\n",
      "/kaggle/input/poetry/leonard-cohen.txt\n",
      "/kaggle/input/poetry/ludacris.txt\n",
      "/kaggle/input/poetry/bjork.txt\n",
      "/kaggle/input/poetry/nursery_rhymes.txt\n",
      "/kaggle/input/poetry/nirvana.txt\n",
      "/kaggle/input/poetry/cake.txt\n",
      "/kaggle/input/poetry/missy-elliott.txt\n"
     ]
    }
   ],
   "source": [
    "# This Python 3 environment comes with many helpful analytics libraries installed\n",
    "# It is defined by the kaggle/python Docker image: https://github.com/kaggle/docker-python\n",
    "# For example, here's several helpful packages to load\n",
    "\n",
    "import numpy as np # linear algebra\n",
    "import pandas as pd # data processing, CSV file I/O (e.g. pd.read_csv)\n",
    "\n",
    "# Input data files are available in the read-only \"../input/\" directory\n",
    "# For example, running this (by clicking run or pressing Shift+Enter) will list all files under the input directory\n",
    "\n",
    "import os\n",
    "for dirname, _, filenames in os.walk('/kaggle/input'):\n",
    "    for filename in filenames:\n",
    "        print(os.path.join(dirname, filename))\n",
    "\n",
    "# You can write up to 20GB to the current directory (/kaggle/working/) that gets preserved as output when you create a version using \"Save & Run All\" \n",
    "# You can also write temporary files to /kaggle/temp/, but they won't be saved outside of the current session"
   ]
  },
  {
   "cell_type": "code",
   "execution_count": 2,
   "id": "a163ce49",
   "metadata": {
    "execution": {
     "iopub.execute_input": "2022-02-24T01:28:06.124098Z",
     "iopub.status.busy": "2022-02-24T01:28:06.123362Z",
     "iopub.status.idle": "2022-02-24T01:28:12.626207Z",
     "shell.execute_reply": "2022-02-24T01:28:12.625350Z",
     "shell.execute_reply.started": "2022-02-24T00:38:34.711583Z"
    },
    "papermill": {
     "duration": 6.523448,
     "end_time": "2022-02-24T01:28:12.626532",
     "exception": false,
     "start_time": "2022-02-24T01:28:06.103084",
     "status": "completed"
    },
    "tags": []
   },
   "outputs": [],
   "source": [
    "import tensorflow as tf\n",
    "import keras"
   ]
  },
  {
   "cell_type": "markdown",
   "id": "3c7c0455",
   "metadata": {
    "papermill": {
     "duration": 0.018096,
     "end_time": "2022-02-24T01:28:12.666078",
     "exception": false,
     "start_time": "2022-02-24T01:28:12.647982",
     "status": "completed"
    },
    "tags": []
   },
   "source": [
    "# GOAL - create a bot to generate song lyrics using RNN"
   ]
  },
  {
   "cell_type": "code",
   "execution_count": 3,
   "id": "acfcb1a7",
   "metadata": {
    "execution": {
     "iopub.execute_input": "2022-02-24T01:28:12.712732Z",
     "iopub.status.busy": "2022-02-24T01:28:12.711688Z",
     "iopub.status.idle": "2022-02-24T01:28:12.719336Z",
     "shell.execute_reply": "2022-02-24T01:28:12.720026Z",
     "shell.execute_reply.started": "2022-02-24T00:38:41.464286Z"
    },
    "papermill": {
     "duration": 0.030861,
     "end_time": "2022-02-24T01:28:12.720296",
     "exception": false,
     "start_time": "2022-02-24T01:28:12.689435",
     "status": "completed"
    },
    "tags": []
   },
   "outputs": [],
   "source": [
    "artist = '/kaggle/input/poetry/Kanye_West.txt'\n",
    "char_window = 20\n",
    "step = 3"
   ]
  },
  {
   "cell_type": "code",
   "execution_count": 4,
   "id": "f85aa7d9",
   "metadata": {
    "execution": {
     "iopub.execute_input": "2022-02-24T01:28:12.758712Z",
     "iopub.status.busy": "2022-02-24T01:28:12.757716Z",
     "iopub.status.idle": "2022-02-24T01:28:12.780292Z",
     "shell.execute_reply": "2022-02-24T01:28:12.780876Z",
     "shell.execute_reply.started": "2022-02-24T00:38:41.472369Z"
    },
    "papermill": {
     "duration": 0.04241,
     "end_time": "2022-02-24T01:28:12.781068",
     "exception": false,
     "start_time": "2022-02-24T01:28:12.738658",
     "status": "completed"
    },
    "tags": []
   },
   "outputs": [],
   "source": [
    "with open(artist) as f:\n",
    "    text = f.read().lower()"
   ]
  },
  {
   "cell_type": "code",
   "execution_count": 5,
   "id": "b38c8fc2",
   "metadata": {
    "execution": {
     "iopub.execute_input": "2022-02-24T01:28:12.827278Z",
     "iopub.status.busy": "2022-02-24T01:28:12.826321Z",
     "iopub.status.idle": "2022-02-24T01:28:12.837521Z",
     "shell.execute_reply": "2022-02-24T01:28:12.838368Z",
     "shell.execute_reply.started": "2022-02-24T00:38:41.505832Z"
    },
    "papermill": {
     "duration": 0.039888,
     "end_time": "2022-02-24T01:28:12.838614",
     "exception": false,
     "start_time": "2022-02-24T01:28:12.798726",
     "status": "completed"
    },
    "tags": []
   },
   "outputs": [],
   "source": [
    "import re\n",
    "\n",
    "text = re.sub('[^a-z \\n]','',text)"
   ]
  },
  {
   "cell_type": "code",
   "execution_count": 6,
   "id": "701a7fdf",
   "metadata": {
    "execution": {
     "iopub.execute_input": "2022-02-24T01:28:12.882641Z",
     "iopub.status.busy": "2022-02-24T01:28:12.881629Z",
     "iopub.status.idle": "2022-02-24T01:28:12.890191Z",
     "shell.execute_reply": "2022-02-24T01:28:12.890774Z",
     "shell.execute_reply.started": "2022-02-24T00:38:41.520937Z"
    },
    "papermill": {
     "duration": 0.029023,
     "end_time": "2022-02-24T01:28:12.890959",
     "exception": false,
     "start_time": "2022-02-24T01:28:12.861936",
     "status": "completed"
    },
    "tags": []
   },
   "outputs": [],
   "source": [
    "chars = sorted(list(set(text)))\n",
    "chars = chars[:28]\n",
    "char_to_index = dict((c, i) for i, c in enumerate(chars))\n",
    "index_to_char = dict((i, c) for i, c in enumerate(chars))"
   ]
  },
  {
   "cell_type": "code",
   "execution_count": 7,
   "id": "1b77191e",
   "metadata": {
    "execution": {
     "iopub.execute_input": "2022-02-24T01:28:12.928710Z",
     "iopub.status.busy": "2022-02-24T01:28:12.927651Z",
     "iopub.status.idle": "2022-02-24T01:28:13.018754Z",
     "shell.execute_reply": "2022-02-24T01:28:13.019334Z",
     "shell.execute_reply.started": "2022-02-24T00:38:41.541443Z"
    },
    "papermill": {
     "duration": 0.111978,
     "end_time": "2022-02-24T01:28:13.019530",
     "exception": false,
     "start_time": "2022-02-24T01:28:12.907552",
     "status": "completed"
    },
    "tags": []
   },
   "outputs": [
    {
     "data": {
      "text/plain": [
       "[('eighteen years eight', 'e'),\n",
       " ('hteen years eighteen', ' '),\n",
       " ('en years eighteen ye', 'a'),\n",
       " ('years eighteen years', '\\n'),\n",
       " ('rs eighteen years\\nsh', 'e'),\n",
       " ('eighteen years\\nshe g', 'o'),\n",
       " ('hteen years\\nshe got ', 'o'),\n",
       " ('en years\\nshe got one', ' '),\n",
       " ('years\\nshe got one of', ' '),\n",
       " ('rs\\nshe got one of yo', 'u'),\n",
       " ('she got one of your ', 'k'),\n",
       " (' got one of your kid', 's'),\n",
       " ('t one of your kids g', 'o'),\n",
       " ('ne of your kids got ', 'y'),\n",
       " ('of your kids got you', ' '),\n",
       " ('your kids got you fo', 'r'),\n",
       " ('r kids got you for e', 'i'),\n",
       " ('ids got you for eigh', 't'),\n",
       " (' got you for eightee', 'n'),\n",
       " ('t you for eighteen y', 'e'),\n",
       " ('ou for eighteen year', 's'),\n",
       " ('for eighteen years\\ni', ' '),\n",
       " (' eighteen years\\ni kn', 'o'),\n",
       " ('ghteen years\\ni know ', 's'),\n",
       " ('een years\\ni know som', 'e'),\n",
       " (' years\\ni know somebo', 'd'),\n",
       " ('ars\\ni know somebody ', 'p'),\n",
       " ('\\ni know somebody pay', 'i'),\n",
       " ('know somebody paying', ' '),\n",
       " ('w somebody paying ch', 'i'),\n",
       " ('omebody paying child', ' '),\n",
       " ('body paying child su', 'p'),\n",
       " ('y paying child suppo', 'r'),\n",
       " ('aying child support ', 'f'),\n",
       " ('ng child support for', ' '),\n",
       " ('child support for on', 'e'),\n",
       " ('ld support for one o', 'f'),\n",
       " ('support for one of h', 'i'),\n",
       " ('port for one of his ', 'k'),\n",
       " ('t for one of his kid', 's'),\n",
       " ('or one of his kids\\nh', 'i'),\n",
       " ('one of his kids\\nhis ', 'b'),\n",
       " (' of his kids\\nhis bab', 'y'),\n",
       " (' his kids\\nhis baby m', 'a'),\n",
       " ('s kids\\nhis baby mama', ' '),\n",
       " ('ids\\nhis baby mama ca', 'r'),\n",
       " ('\\nhis baby mama car a', 'n'),\n",
       " ('s baby mama car and ', 'c'),\n",
       " ('aby mama car and cri', 'b'),\n",
       " (' mama car and crib i', 's'),\n",
       " ('ma car and crib is b', 'i'),\n",
       " ('car and crib is bigg', 'e'),\n",
       " (' and crib is bigger ', 't'),\n",
       " ('d crib is bigger tha', 'n'),\n",
       " ('rib is bigger than h', 'i'),\n",
       " (' is bigger than his\\n', 'y'),\n",
       " (' bigger than his\\nyou', ' '),\n",
       " ('gger than his\\nyou wi', 'l'),\n",
       " ('r than his\\nyou will ', 's'),\n",
       " ('han his\\nyou will see', ' '),\n",
       " (' his\\nyou will see hi', 'm'),\n",
       " ('s\\nyou will see him o', 'n'),\n",
       " ('ou will see him on t', 'v'),\n",
       " ('will see him on tv a', 'n'),\n",
       " ('l see him on tv any ', 'g'),\n",
       " ('ee him on tv any giv', 'e'),\n",
       " ('him on tv any given ', 's'),\n",
       " (' on tv any given sun', 'd'),\n",
       " (' tv any given sunday', '\\n'),\n",
       " (' any given sunday\\nwi', 'n'),\n",
       " ('y given sunday\\nwin t', 'h'),\n",
       " ('iven sunday\\nwin the ', 's'),\n",
       " ('n sunday\\nwin the sup', 'e'),\n",
       " ('unday\\nwin the super ', 'b'),\n",
       " ('ay\\nwin the super bow', 'l'),\n",
       " ('win the super bowl a', 'n'),\n",
       " (' the super bowl and ', 'd'),\n",
       " ('e super bowl and dri', 'v'),\n",
       " ('uper bowl and drive ', 'o'),\n",
       " ('r bowl and drive off', ' '),\n",
       " ('owl and drive off in', ' '),\n",
       " (' and drive off in a ', 'h'),\n",
       " ('d drive off in a hyu', 'n'),\n",
       " ('rive off in a hyunda', 'i'),\n",
       " ('e off in a hyundai\\ns', 'h'),\n",
       " ('ff in a hyundai\\nshe ', 'w'),\n",
       " ('in a hyundai\\nshe was', ' '),\n",
       " ('a hyundai\\nshe was su', 'p'),\n",
       " ('yundai\\nshe was suppo', 's'),\n",
       " ('dai\\nshe was supposed', ' '),\n",
       " ('\\nshe was supposed to', ' '),\n",
       " ('e was supposed to bu', 'y'),\n",
       " ('as supposed to buy y', 'o'),\n",
       " ('supposed to buy your', ' '),\n",
       " ('posed to buy your sh', 'o'),\n",
       " ('ed to buy your short', 'y'),\n",
       " ('to buy your shorty t', 'y'),\n",
       " ('buy your shorty tyco', ' '),\n",
       " (' your shorty tyco wi', 't'),\n",
       " ('ur shorty tyco with ', 'y')]"
      ]
     },
     "execution_count": 7,
     "metadata": {},
     "output_type": "execute_result"
    }
   ],
   "source": [
    "inputs = []\n",
    "next_chars = []\n",
    "\n",
    "for i in range(0,len(text)-char_window,step):\n",
    "    inputs.append(text[i:i+char_window])\n",
    "    next_chars.append(text[i+char_window])\n",
    "        \n",
    "pairs = zip(inputs,next_chars)\n",
    "list(pairs)[:100]"
   ]
  },
  {
   "cell_type": "code",
   "execution_count": 8,
   "id": "8da84673",
   "metadata": {
    "execution": {
     "iopub.execute_input": "2022-02-24T01:28:13.060504Z",
     "iopub.status.busy": "2022-02-24T01:28:13.059425Z",
     "iopub.status.idle": "2022-02-24T01:28:14.031822Z",
     "shell.execute_reply": "2022-02-24T01:28:14.031268Z",
     "shell.execute_reply.started": "2022-02-24T00:38:41.648531Z"
    },
    "papermill": {
     "duration": 0.993759,
     "end_time": "2022-02-24T01:28:14.031979",
     "exception": false,
     "start_time": "2022-02-24T01:28:13.038220",
     "status": "completed"
    },
    "tags": []
   },
   "outputs": [
    {
     "data": {
      "text/plain": [
       "array([[ 6., 10.,  8., ...,  8.,  9., 21.],\n",
       "       [ 9., 21.,  6., ...,  6.,  6., 15.],\n",
       "       [ 6., 15.,  1., ...,  1., 26.,  6.],\n",
       "       ...,\n",
       "       [14., 17., 16., ...,  1., 21.,  9.],\n",
       "       [19., 21.,  2., ...,  2., 21.,  1.],\n",
       "       [15., 21.,  1., ..., 26., 16., 22.]], dtype=float32)"
      ]
     },
     "execution_count": 8,
     "metadata": {},
     "output_type": "execute_result"
    }
   ],
   "source": [
    "X = np.zeros((len(inputs),char_window),dtype=np.float32)\n",
    "\n",
    "for i in range(len(inputs)):\n",
    "    for j in range(char_window):\n",
    "        X[i,j] = char_to_index[inputs[i][j]]\n",
    "        \n",
    "X"
   ]
  },
  {
   "cell_type": "code",
   "execution_count": 9,
   "id": "5359bbaf",
   "metadata": {
    "execution": {
     "iopub.execute_input": "2022-02-24T01:28:14.077515Z",
     "iopub.status.busy": "2022-02-24T01:28:14.072100Z",
     "iopub.status.idle": "2022-02-24T01:28:14.124888Z",
     "shell.execute_reply": "2022-02-24T01:28:14.124331Z",
     "shell.execute_reply.started": "2022-02-24T00:38:42.608423Z"
    },
    "papermill": {
     "duration": 0.075463,
     "end_time": "2022-02-24T01:28:14.125047",
     "exception": false,
     "start_time": "2022-02-24T01:28:14.049584",
     "status": "completed"
    },
    "tags": []
   },
   "outputs": [
    {
     "data": {
      "text/plain": [
       "array([[0., 0., 0., ..., 0., 0., 0.],\n",
       "       [0., 1., 0., ..., 0., 0., 0.],\n",
       "       [0., 0., 1., ..., 0., 0., 0.],\n",
       "       ...,\n",
       "       [0., 0., 1., ..., 0., 0., 0.],\n",
       "       [0., 0., 0., ..., 0., 1., 0.],\n",
       "       [1., 0., 0., ..., 0., 0., 0.]], dtype=float32)"
      ]
     },
     "execution_count": 9,
     "metadata": {},
     "output_type": "execute_result"
    }
   ],
   "source": [
    "from keras.utils.np_utils import to_categorical\n",
    "\n",
    "y = np.zeros(len(next_chars),dtype=np.float32)\n",
    "\n",
    "for i in range(len(next_chars)):\n",
    "    y[i] = char_to_index[next_chars[i]]\n",
    "\n",
    "y = to_categorical(y)\n",
    "\n",
    "y"
   ]
  },
  {
   "cell_type": "code",
   "execution_count": 10,
   "id": "bb3d4f5d",
   "metadata": {
    "execution": {
     "iopub.execute_input": "2022-02-24T01:28:14.165552Z",
     "iopub.status.busy": "2022-02-24T01:28:14.164841Z",
     "iopub.status.idle": "2022-02-24T01:28:14.688750Z",
     "shell.execute_reply": "2022-02-24T01:28:14.688058Z",
     "shell.execute_reply.started": "2022-02-24T01:14:55.328896Z"
    },
    "papermill": {
     "duration": 0.544331,
     "end_time": "2022-02-24T01:28:14.688896",
     "exception": false,
     "start_time": "2022-02-24T01:28:14.144565",
     "status": "completed"
    },
    "tags": []
   },
   "outputs": [
    {
     "name": "stderr",
     "output_type": "stream",
     "text": [
      "2022-02-24 01:28:14.210887: I tensorflow/core/common_runtime/process_util.cc:146] Creating new thread pool with default inter op setting: 2. Tune using inter_op_parallelism_threads for best performance.\n"
     ]
    },
    {
     "name": "stdout",
     "output_type": "stream",
     "text": [
      "Model: \"sequential\"\n",
      "_________________________________________________________________\n",
      "Layer (type)                 Output Shape              Param #   \n",
      "=================================================================\n",
      "embedding (Embedding)        (None, 20, 64)            1792      \n",
      "_________________________________________________________________\n",
      "lstm (LSTM)                  (None, 20, 256)           328704    \n",
      "_________________________________________________________________\n",
      "dropout (Dropout)            (None, 20, 256)           0         \n",
      "_________________________________________________________________\n",
      "simple_rnn (SimpleRNN)       (None, 256)               131328    \n",
      "_________________________________________________________________\n",
      "dropout_1 (Dropout)          (None, 256)               0         \n",
      "_________________________________________________________________\n",
      "dense (Dense)                (None, 28)                7196      \n",
      "=================================================================\n",
      "Total params: 469,020\n",
      "Trainable params: 469,020\n",
      "Non-trainable params: 0\n",
      "_________________________________________________________________\n"
     ]
    }
   ],
   "source": [
    "from keras.models import Sequential\n",
    "from keras.layers import Embedding, GRU, LSTM, SimpleRNN, Dense, Dropout\n",
    "\n",
    "model = Sequential()\n",
    "\n",
    "model.add(Embedding(28,64,input_length=char_window))\n",
    "model.add(LSTM(256,return_sequences=True))\n",
    "model.add(Dropout(0.2))\n",
    "model.add(SimpleRNN(256))\n",
    "model.add(Dropout(0.2))\n",
    "model.add(Dense(28,activation='softmax'))\n",
    "\n",
    "model.compile(loss='categorical_crossentropy', optimizer='adam',metrics=['accuracy'])\n",
    "model.summary()"
   ]
  },
  {
   "cell_type": "code",
   "execution_count": 11,
   "id": "6bb70b61",
   "metadata": {
    "execution": {
     "iopub.execute_input": "2022-02-24T01:28:14.732519Z",
     "iopub.status.busy": "2022-02-24T01:28:14.731816Z",
     "iopub.status.idle": "2022-02-24T01:40:02.842584Z",
     "shell.execute_reply": "2022-02-24T01:40:02.784118Z",
     "shell.execute_reply.started": "2022-02-24T01:14:56.049601Z"
    },
    "papermill": {
     "duration": 708.135381,
     "end_time": "2022-02-24T01:40:02.842814",
     "exception": false,
     "start_time": "2022-02-24T01:28:14.707433",
     "status": "completed"
    },
    "tags": []
   },
   "outputs": [
    {
     "name": "stdout",
     "output_type": "stream",
     "text": [
      "Epoch 1/5\n"
     ]
    },
    {
     "name": "stderr",
     "output_type": "stream",
     "text": [
      "2022-02-24 01:28:14.797456: I tensorflow/compiler/mlir/mlir_graph_optimization_pass.cc:185] None of the MLIR Optimization Passes are enabled (registered 2)\n"
     ]
    },
    {
     "name": "stdout",
     "output_type": "stream",
     "text": [
      "1674/1674 [==============================] - 146s 85ms/step - loss: 2.3870 - accuracy: 0.3050\n",
      "Epoch 2/5\n",
      "1674/1674 [==============================] - 142s 85ms/step - loss: 2.0182 - accuracy: 0.3955\n",
      "Epoch 3/5\n",
      "1674/1674 [==============================] - 140s 84ms/step - loss: 1.8526 - accuracy: 0.4377\n",
      "Epoch 4/5\n",
      "1674/1674 [==============================] - 140s 83ms/step - loss: 1.7514 - accuracy: 0.4633\n",
      "Epoch 5/5\n",
      "1674/1674 [==============================] - 139s 83ms/step - loss: 1.6710 - accuracy: 0.4843\n"
     ]
    },
    {
     "data": {
      "text/plain": [
       "<keras.callbacks.History at 0x7ff4422e8910>"
      ]
     },
     "execution_count": 11,
     "metadata": {},
     "output_type": "execute_result"
    }
   ],
   "source": [
    "model.fit(X,y,epochs=5,batch_size=50,)"
   ]
  },
  {
   "cell_type": "code",
   "execution_count": 12,
   "id": "460bfdef",
   "metadata": {
    "execution": {
     "iopub.execute_input": "2022-02-24T01:40:09.068868Z",
     "iopub.status.busy": "2022-02-24T01:40:09.068103Z",
     "iopub.status.idle": "2022-02-24T01:40:09.075058Z",
     "shell.execute_reply": "2022-02-24T01:40:09.075632Z",
     "shell.execute_reply.started": "2022-02-24T01:26:48.003115Z"
    },
    "papermill": {
     "duration": 3.152834,
     "end_time": "2022-02-24T01:40:09.075816",
     "exception": false,
     "start_time": "2022-02-24T01:40:05.922982",
     "status": "completed"
    },
    "tags": []
   },
   "outputs": [],
   "source": [
    "from keras.preprocessing.sequence import pad_sequences\n",
    "\n",
    "def generate_line(model,context):\n",
    "    line = context\n",
    "    next_char = ''\n",
    "    counter = 0\n",
    "    while counter<100 and next_char != '\\n':\n",
    "        X = [[char_to_index[line[i]] for i in range(0,len(line))]]\n",
    "        X = pad_sequences(X,maxlen=char_window)\n",
    "        y = model.predict(X)\n",
    "        next_char = index_to_char[np.argmax(y)]\n",
    "        counter+=1\n",
    "        line+=next_char\n",
    "    return line"
   ]
  },
  {
   "cell_type": "code",
   "execution_count": 13,
   "id": "7f072168",
   "metadata": {
    "execution": {
     "iopub.execute_input": "2022-02-24T01:40:15.308845Z",
     "iopub.status.busy": "2022-02-24T01:40:15.308194Z",
     "iopub.status.idle": "2022-02-24T01:40:23.700245Z",
     "shell.execute_reply": "2022-02-24T01:40:23.700849Z",
     "shell.execute_reply.started": "2022-02-24T01:27:23.907520Z"
    },
    "papermill": {
     "duration": 11.477034,
     "end_time": "2022-02-24T01:40:23.701068",
     "exception": false,
     "start_time": "2022-02-24T01:40:12.224034",
     "status": "completed"
    },
    "tags": []
   },
   "outputs": [
    {
     "data": {
      "text/plain": [
       "'i had a dream to me that was but the best me but i was bout the best me but i was bout the best me but i was bout'"
      ]
     },
     "execution_count": 13,
     "metadata": {},
     "output_type": "execute_result"
    }
   ],
   "source": [
    "generate_line(model,'i had a dream')"
   ]
  },
  {
   "cell_type": "code",
   "execution_count": null,
   "id": "811f109e",
   "metadata": {
    "papermill": {
     "duration": 4.098768,
     "end_time": "2022-02-24T01:40:31.723068",
     "exception": false,
     "start_time": "2022-02-24T01:40:27.624300",
     "status": "completed"
    },
    "tags": []
   },
   "outputs": [],
   "source": []
  }
 ],
 "metadata": {
  "kernelspec": {
   "display_name": "Python 3",
   "language": "python",
   "name": "python3"
  },
  "language_info": {
   "codemirror_mode": {
    "name": "ipython",
    "version": 3
   },
   "file_extension": ".py",
   "mimetype": "text/x-python",
   "name": "python",
   "nbconvert_exporter": "python",
   "pygments_lexer": "ipython3",
   "version": "3.7.12"
  },
  "papermill": {
   "default_parameters": {},
   "duration": 763.344672,
   "end_time": "2022-02-24T01:40:38.447492",
   "environment_variables": {},
   "exception": null,
   "input_path": "__notebook__.ipynb",
   "output_path": "__notebook__.ipynb",
   "parameters": {},
   "start_time": "2022-02-24T01:27:55.102820",
   "version": "2.3.3"
  }
 },
 "nbformat": 4,
 "nbformat_minor": 5
}
