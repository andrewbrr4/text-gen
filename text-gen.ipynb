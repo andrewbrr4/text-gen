{
 "cells": [
  {
   "cell_type": "code",
   "execution_count": 1,
   "id": "9b2ac834",
   "metadata": {
    "_cell_guid": "b1076dfc-b9ad-4769-8c92-a6c4dae69d19",
    "_uuid": "8f2839f25d086af736a60e9eeb907d3b93b6e0e5",
    "execution": {
     "iopub.execute_input": "2022-02-22T05:01:24.963444Z",
     "iopub.status.busy": "2022-02-22T05:01:24.955151Z",
     "iopub.status.idle": "2022-02-22T05:01:24.994424Z",
     "shell.execute_reply": "2022-02-22T05:01:24.995246Z",
     "shell.execute_reply.started": "2022-02-22T04:40:31.325224Z"
    },
    "papermill": {
     "duration": 0.061525,
     "end_time": "2022-02-22T05:01:24.995592",
     "exception": false,
     "start_time": "2022-02-22T05:01:24.934067",
     "status": "completed"
    },
    "tags": []
   },
   "outputs": [
    {
     "name": "stdout",
     "output_type": "stream",
     "text": [
      "/kaggle/input/poetry/Kanye_West.txt\n",
      "/kaggle/input/poetry/johnny-cash.txt\n",
      "/kaggle/input/poetry/kanye-west.txt\n",
      "/kaggle/input/poetry/bruno-mars.txt\n",
      "/kaggle/input/poetry/dickinson.txt\n",
      "/kaggle/input/poetry/amy-winehouse.txt\n",
      "/kaggle/input/poetry/blink-182.txt\n",
      "/kaggle/input/poetry/paul-simon.txt\n",
      "/kaggle/input/poetry/patti-smith.txt\n",
      "/kaggle/input/poetry/bieber.txt\n",
      "/kaggle/input/poetry/disney.txt\n",
      "/kaggle/input/poetry/jimi-hendrix.txt\n",
      "/kaggle/input/poetry/lin-manuel-miranda.txt\n",
      "/kaggle/input/poetry/adele.txt\n",
      "/kaggle/input/poetry/dj-khaled.txt\n",
      "/kaggle/input/poetry/beatles.txt\n",
      "/kaggle/input/poetry/r-kelly.txt\n",
      "/kaggle/input/poetry/lady-gaga.txt\n",
      "/kaggle/input/poetry/radiohead.txt\n",
      "/kaggle/input/poetry/britney-spears.txt\n",
      "/kaggle/input/poetry/alicia-keys.txt\n",
      "/kaggle/input/poetry/rihanna.txt\n",
      "/kaggle/input/poetry/joni-mitchell.txt\n",
      "/kaggle/input/poetry/dolly-parton.txt\n",
      "/kaggle/input/poetry/drake.txt\n",
      "/kaggle/input/poetry/Lil_Wayne.txt\n",
      "/kaggle/input/poetry/notorious_big.txt\n",
      "/kaggle/input/poetry/eminem.txt\n",
      "/kaggle/input/poetry/janisjoplin.txt\n",
      "/kaggle/input/poetry/prince.txt\n",
      "/kaggle/input/poetry/bruce-springsteen.txt\n",
      "/kaggle/input/poetry/bob-dylan.txt\n",
      "/kaggle/input/poetry/notorious-big.txt\n",
      "/kaggle/input/poetry/lil-wayne.txt\n",
      "/kaggle/input/poetry/dr-seuss.txt\n",
      "/kaggle/input/poetry/nicki-minaj.txt\n",
      "/kaggle/input/poetry/bob-marley.txt\n",
      "/kaggle/input/poetry/al-green.txt\n",
      "/kaggle/input/poetry/nickelback.txt\n",
      "/kaggle/input/poetry/michael-jackson.txt\n",
      "/kaggle/input/poetry/lorde.txt\n",
      "/kaggle/input/poetry/kanye.txt\n",
      "/kaggle/input/poetry/leonard-cohen.txt\n",
      "/kaggle/input/poetry/ludacris.txt\n",
      "/kaggle/input/poetry/bjork.txt\n",
      "/kaggle/input/poetry/nursery_rhymes.txt\n",
      "/kaggle/input/poetry/nirvana.txt\n",
      "/kaggle/input/poetry/cake.txt\n",
      "/kaggle/input/poetry/missy-elliott.txt\n"
     ]
    }
   ],
   "source": [
    "# This Python 3 environment comes with many helpful analytics libraries installed\n",
    "# It is defined by the kaggle/python Docker image: https://github.com/kaggle/docker-python\n",
    "# For example, here's several helpful packages to load\n",
    "\n",
    "import numpy as np # linear algebra\n",
    "import pandas as pd # data processing, CSV file I/O (e.g. pd.read_csv)\n",
    "\n",
    "# Input data files are available in the read-only \"../input/\" directory\n",
    "# For example, running this (by clicking run or pressing Shift+Enter) will list all files under the input directory\n",
    "\n",
    "import os\n",
    "for dirname, _, filenames in os.walk('/kaggle/input'):\n",
    "    for filename in filenames:\n",
    "        print(os.path.join(dirname, filename))\n",
    "\n",
    "# You can write up to 20GB to the current directory (/kaggle/working/) that gets preserved as output when you create a version using \"Save & Run All\" \n",
    "# You can also write temporary files to /kaggle/temp/, but they won't be saved outside of the current session"
   ]
  },
  {
   "cell_type": "code",
   "execution_count": 2,
   "id": "15b05018",
   "metadata": {
    "execution": {
     "iopub.execute_input": "2022-02-22T05:01:25.027394Z",
     "iopub.status.busy": "2022-02-22T05:01:25.026674Z",
     "iopub.status.idle": "2022-02-22T05:01:30.245380Z",
     "shell.execute_reply": "2022-02-22T05:01:30.245879Z",
     "shell.execute_reply.started": "2022-02-22T04:40:31.668296Z"
    },
    "papermill": {
     "duration": 5.235951,
     "end_time": "2022-02-22T05:01:30.246060",
     "exception": false,
     "start_time": "2022-02-22T05:01:25.010109",
     "status": "completed"
    },
    "tags": []
   },
   "outputs": [],
   "source": [
    "import tensorflow as tf\n",
    "import keras"
   ]
  },
  {
   "cell_type": "markdown",
   "id": "1d593053",
   "metadata": {
    "papermill": {
     "duration": 0.013527,
     "end_time": "2022-02-22T05:01:30.273330",
     "exception": false,
     "start_time": "2022-02-22T05:01:30.259803",
     "status": "completed"
    },
    "tags": []
   },
   "source": [
    "# GOAL - create a bot to generate song lyrics using RNN"
   ]
  },
  {
   "cell_type": "code",
   "execution_count": 3,
   "id": "7236fbe1",
   "metadata": {
    "execution": {
     "iopub.execute_input": "2022-02-22T05:01:30.302488Z",
     "iopub.status.busy": "2022-02-22T05:01:30.301897Z",
     "iopub.status.idle": "2022-02-22T05:01:30.304933Z",
     "shell.execute_reply": "2022-02-22T05:01:30.305450Z",
     "shell.execute_reply.started": "2022-02-22T04:58:18.641245Z"
    },
    "papermill": {
     "duration": 0.019176,
     "end_time": "2022-02-22T05:01:30.305592",
     "exception": false,
     "start_time": "2022-02-22T05:01:30.286416",
     "status": "completed"
    },
    "tags": []
   },
   "outputs": [],
   "source": [
    "artist = '/kaggle/input/poetry/Kanye_West.txt'\n",
    "char_window = 20\n",
    "step = 3"
   ]
  },
  {
   "cell_type": "code",
   "execution_count": 4,
   "id": "7ee6672b",
   "metadata": {
    "execution": {
     "iopub.execute_input": "2022-02-22T05:01:30.333397Z",
     "iopub.status.busy": "2022-02-22T05:01:30.332795Z",
     "iopub.status.idle": "2022-02-22T05:01:30.349528Z",
     "shell.execute_reply": "2022-02-22T05:01:30.349056Z",
     "shell.execute_reply.started": "2022-02-22T04:58:19.069482Z"
    },
    "papermill": {
     "duration": 0.031677,
     "end_time": "2022-02-22T05:01:30.349656",
     "exception": false,
     "start_time": "2022-02-22T05:01:30.317979",
     "status": "completed"
    },
    "tags": []
   },
   "outputs": [],
   "source": [
    "with open(artist) as f:\n",
    "    text = f.read().lower()"
   ]
  },
  {
   "cell_type": "code",
   "execution_count": 5,
   "id": "b4de9796",
   "metadata": {
    "execution": {
     "iopub.execute_input": "2022-02-22T05:01:30.379510Z",
     "iopub.status.busy": "2022-02-22T05:01:30.378579Z",
     "iopub.status.idle": "2022-02-22T05:01:30.387251Z",
     "shell.execute_reply": "2022-02-22T05:01:30.387786Z",
     "shell.execute_reply.started": "2022-02-22T04:58:35.246891Z"
    },
    "papermill": {
     "duration": 0.025122,
     "end_time": "2022-02-22T05:01:30.387952",
     "exception": false,
     "start_time": "2022-02-22T05:01:30.362830",
     "status": "completed"
    },
    "tags": []
   },
   "outputs": [],
   "source": [
    "import re\n",
    "\n",
    "text = re.sub('[^a-z \\n]','',text)"
   ]
  },
  {
   "cell_type": "code",
   "execution_count": 6,
   "id": "e13e2ed4",
   "metadata": {
    "execution": {
     "iopub.execute_input": "2022-02-22T05:01:30.417159Z",
     "iopub.status.busy": "2022-02-22T05:01:30.416246Z",
     "iopub.status.idle": "2022-02-22T05:01:30.423778Z",
     "shell.execute_reply": "2022-02-22T05:01:30.424246Z",
     "shell.execute_reply.started": "2022-02-22T04:58:55.040688Z"
    },
    "papermill": {
     "duration": 0.023494,
     "end_time": "2022-02-22T05:01:30.424385",
     "exception": false,
     "start_time": "2022-02-22T05:01:30.400891",
     "status": "completed"
    },
    "tags": []
   },
   "outputs": [],
   "source": [
    "chars = sorted(list(set(text)))\n",
    "chars = chars[:28]\n",
    "char_to_index = dict((c, i) for i, c in enumerate(chars))\n",
    "index_to_char = dict((i, c) for i, c in enumerate(chars))\n",
    "lines = text.split('\\n')"
   ]
  },
  {
   "cell_type": "code",
   "execution_count": 7,
   "id": "9ae91284",
   "metadata": {
    "execution": {
     "iopub.execute_input": "2022-02-22T05:01:30.454059Z",
     "iopub.status.busy": "2022-02-22T05:01:30.453206Z",
     "iopub.status.idle": "2022-02-22T05:01:30.496594Z",
     "shell.execute_reply": "2022-02-22T05:01:30.497112Z",
     "shell.execute_reply.started": "2022-02-22T05:00:17.374167Z"
    },
    "papermill": {
     "duration": 0.059952,
     "end_time": "2022-02-22T05:01:30.497303",
     "exception": false,
     "start_time": "2022-02-22T05:01:30.437351",
     "status": "completed"
    },
    "tags": []
   },
   "outputs": [
    {
     "data": {
      "text/plain": [
       "[('eighteen years eight', 'e'),\n",
       " ('hteen years eighteen', ' '),\n",
       " ('en years eighteen ye', 'a')]"
      ]
     },
     "execution_count": 7,
     "metadata": {},
     "output_type": "execute_result"
    }
   ],
   "source": [
    "inputs = []\n",
    "next_chars = []\n",
    "\n",
    "for line in lines:\n",
    "    for i in range(0,len(line)-char_window,step):\n",
    "        inputs.append(line[i:i+char_window])\n",
    "        next_chars.append(line[i+char_window])\n",
    "        \n",
    "pairs = zip(inputs,next_chars)\n",
    "list(pairs)[:3]"
   ]
  },
  {
   "cell_type": "code",
   "execution_count": null,
   "id": "c6486b0a",
   "metadata": {
    "execution": {
     "iopub.execute_input": "2022-02-22T04:45:06.107109Z",
     "iopub.status.busy": "2022-02-22T04:45:06.106172Z",
     "iopub.status.idle": "2022-02-22T04:45:06.110332Z",
     "shell.execute_reply": "2022-02-22T04:45:06.109611Z",
     "shell.execute_reply.started": "2022-02-22T04:45:06.107065Z"
    },
    "papermill": {
     "duration": 0.013056,
     "end_time": "2022-02-22T05:01:30.523195",
     "exception": false,
     "start_time": "2022-02-22T05:01:30.510139",
     "status": "completed"
    },
    "tags": []
   },
   "outputs": [],
   "source": []
  },
  {
   "cell_type": "code",
   "execution_count": null,
   "id": "175d11ac",
   "metadata": {
    "papermill": {
     "duration": 0.013042,
     "end_time": "2022-02-22T05:01:30.550044",
     "exception": false,
     "start_time": "2022-02-22T05:01:30.537002",
     "status": "completed"
    },
    "tags": []
   },
   "outputs": [],
   "source": []
  },
  {
   "cell_type": "code",
   "execution_count": null,
   "id": "ab7c61f2",
   "metadata": {
    "papermill": {
     "duration": 0.013231,
     "end_time": "2022-02-22T05:01:30.576356",
     "exception": false,
     "start_time": "2022-02-22T05:01:30.563125",
     "status": "completed"
    },
    "tags": []
   },
   "outputs": [],
   "source": []
  },
  {
   "cell_type": "code",
   "execution_count": null,
   "id": "6efdfb96",
   "metadata": {
    "papermill": {
     "duration": 0.012974,
     "end_time": "2022-02-22T05:01:30.602937",
     "exception": false,
     "start_time": "2022-02-22T05:01:30.589963",
     "status": "completed"
    },
    "tags": []
   },
   "outputs": [],
   "source": []
  },
  {
   "cell_type": "code",
   "execution_count": 8,
   "id": "0332d3ce",
   "metadata": {
    "execution": {
     "iopub.execute_input": "2022-02-22T05:01:30.633433Z",
     "iopub.status.busy": "2022-02-22T05:01:30.632586Z",
     "iopub.status.idle": "2022-02-22T05:01:30.700291Z",
     "shell.execute_reply": "2022-02-22T05:01:30.700891Z",
     "shell.execute_reply.started": "2022-02-22T04:43:45.046044Z"
    },
    "papermill": {
     "duration": 0.084427,
     "end_time": "2022-02-22T05:01:30.701074",
     "exception": false,
     "start_time": "2022-02-22T05:01:30.616647",
     "status": "completed"
    },
    "tags": []
   },
   "outputs": [
    {
     "name": "stderr",
     "output_type": "stream",
     "text": [
      "2022-02-22 05:01:30.663206: I tensorflow/core/common_runtime/process_util.cc:146] Creating new thread pool with default inter op setting: 2. Tune using inter_op_parallelism_threads for best performance.\n"
     ]
    }
   ],
   "source": [
    "from keras.models import Sequential\n",
    "from keras.layers import Embedding, GRU, LSTM, SimpleRNN, Dense\n",
    "\n",
    "model = Sequential()\n",
    "\n",
    "\n",
    "\n",
    "model.compile(loss='categorical_crossentropy', optimizer='adam')"
   ]
  }
 ],
 "metadata": {
  "kernelspec": {
   "display_name": "Python 3",
   "language": "python",
   "name": "python3"
  },
  "language_info": {
   "codemirror_mode": {
    "name": "ipython",
    "version": 3
   },
   "file_extension": ".py",
   "mimetype": "text/x-python",
   "name": "python",
   "nbconvert_exporter": "python",
   "pygments_lexer": "ipython3",
   "version": "3.7.12"
  },
  "papermill": {
   "default_parameters": {},
   "duration": 18.464513,
   "end_time": "2022-02-22T05:01:34.218365",
   "environment_variables": {},
   "exception": null,
   "input_path": "__notebook__.ipynb",
   "output_path": "__notebook__.ipynb",
   "parameters": {},
   "start_time": "2022-02-22T05:01:15.753852",
   "version": "2.3.3"
  }
 },
 "nbformat": 4,
 "nbformat_minor": 5
}
