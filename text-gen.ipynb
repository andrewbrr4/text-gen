{
 "cells": [
  {
   "cell_type": "code",
   "execution_count": 1,
   "id": "48698472",
   "metadata": {
    "_cell_guid": "b1076dfc-b9ad-4769-8c92-a6c4dae69d19",
    "_uuid": "8f2839f25d086af736a60e9eeb907d3b93b6e0e5",
    "execution": {
     "iopub.execute_input": "2022-03-15T04:12:36.533821Z",
     "iopub.status.busy": "2022-03-15T04:12:36.532677Z",
     "iopub.status.idle": "2022-03-15T04:12:36.579720Z",
     "shell.execute_reply": "2022-03-15T04:12:36.578751Z",
     "shell.execute_reply.started": "2022-03-15T03:01:18.405233Z"
    },
    "papermill": {
     "duration": 0.064065,
     "end_time": "2022-03-15T04:12:36.579859",
     "exception": false,
     "start_time": "2022-03-15T04:12:36.515794",
     "status": "completed"
    },
    "tags": []
   },
   "outputs": [
    {
     "name": "stdout",
     "output_type": "stream",
     "text": [
      "/kaggle/input/poetry/Kanye_West.txt\n",
      "/kaggle/input/poetry/johnny-cash.txt\n",
      "/kaggle/input/poetry/kanye-west.txt\n",
      "/kaggle/input/poetry/bruno-mars.txt\n",
      "/kaggle/input/poetry/dickinson.txt\n",
      "/kaggle/input/poetry/amy-winehouse.txt\n",
      "/kaggle/input/poetry/blink-182.txt\n",
      "/kaggle/input/poetry/paul-simon.txt\n",
      "/kaggle/input/poetry/patti-smith.txt\n",
      "/kaggle/input/poetry/bieber.txt\n",
      "/kaggle/input/poetry/disney.txt\n",
      "/kaggle/input/poetry/jimi-hendrix.txt\n",
      "/kaggle/input/poetry/lin-manuel-miranda.txt\n",
      "/kaggle/input/poetry/adele.txt\n",
      "/kaggle/input/poetry/dj-khaled.txt\n",
      "/kaggle/input/poetry/beatles.txt\n",
      "/kaggle/input/poetry/r-kelly.txt\n",
      "/kaggle/input/poetry/lady-gaga.txt\n",
      "/kaggle/input/poetry/radiohead.txt\n",
      "/kaggle/input/poetry/britney-spears.txt\n",
      "/kaggle/input/poetry/alicia-keys.txt\n",
      "/kaggle/input/poetry/rihanna.txt\n",
      "/kaggle/input/poetry/joni-mitchell.txt\n",
      "/kaggle/input/poetry/dolly-parton.txt\n",
      "/kaggle/input/poetry/drake.txt\n",
      "/kaggle/input/poetry/Lil_Wayne.txt\n",
      "/kaggle/input/poetry/notorious_big.txt\n",
      "/kaggle/input/poetry/eminem.txt\n",
      "/kaggle/input/poetry/janisjoplin.txt\n",
      "/kaggle/input/poetry/prince.txt\n",
      "/kaggle/input/poetry/bruce-springsteen.txt\n",
      "/kaggle/input/poetry/bob-dylan.txt\n",
      "/kaggle/input/poetry/notorious-big.txt\n",
      "/kaggle/input/poetry/lil-wayne.txt\n",
      "/kaggle/input/poetry/dr-seuss.txt\n",
      "/kaggle/input/poetry/nicki-minaj.txt\n",
      "/kaggle/input/poetry/bob-marley.txt\n",
      "/kaggle/input/poetry/al-green.txt\n",
      "/kaggle/input/poetry/nickelback.txt\n",
      "/kaggle/input/poetry/michael-jackson.txt\n",
      "/kaggle/input/poetry/lorde.txt\n",
      "/kaggle/input/poetry/kanye.txt\n",
      "/kaggle/input/poetry/leonard-cohen.txt\n",
      "/kaggle/input/poetry/ludacris.txt\n",
      "/kaggle/input/poetry/bjork.txt\n",
      "/kaggle/input/poetry/nursery_rhymes.txt\n",
      "/kaggle/input/poetry/nirvana.txt\n",
      "/kaggle/input/poetry/cake.txt\n",
      "/kaggle/input/poetry/missy-elliott.txt\n"
     ]
    }
   ],
   "source": [
    "# This Python 3 environment comes with many helpful analytics libraries installed\n",
    "# It is defined by the kaggle/python Docker image: https://github.com/kaggle/docker-python\n",
    "# For example, here's several helpful packages to load\n",
    "\n",
    "import numpy as np # linear algebra\n",
    "import pandas as pd # data processing, CSV file I/O (e.g. pd.read_csv)\n",
    "\n",
    "# Input data files are available in the read-only \"../input/\" directory\n",
    "# For example, running this (by clicking run or pressing Shift+Enter) will list all files under the input directory\n",
    "\n",
    "import os\n",
    "for dirname, _, filenames in os.walk('/kaggle/input'):\n",
    "    for filename in filenames:\n",
    "        print(os.path.join(dirname, filename))\n",
    "\n",
    "# You can write up to 20GB to the current directory (/kaggle/working/) that gets preserved as output when you create a version using \"Save & Run All\" \n",
    "# You can also write temporary files to /kaggle/temp/, but they won't be saved outside of the current session"
   ]
  },
  {
   "cell_type": "code",
   "execution_count": 2,
   "id": "7a966766",
   "metadata": {
    "execution": {
     "iopub.execute_input": "2022-03-15T04:12:36.609961Z",
     "iopub.status.busy": "2022-03-15T04:12:36.609304Z",
     "iopub.status.idle": "2022-03-15T04:12:41.415855Z",
     "shell.execute_reply": "2022-03-15T04:12:41.416276Z",
     "shell.execute_reply.started": "2022-03-15T03:01:21.223995Z"
    },
    "papermill": {
     "duration": 4.823304,
     "end_time": "2022-03-15T04:12:41.416430",
     "exception": false,
     "start_time": "2022-03-15T04:12:36.593126",
     "status": "completed"
    },
    "tags": []
   },
   "outputs": [],
   "source": [
    "import tensorflow as tf\n",
    "import keras\n",
    "import re\n",
    "from keras.utils.np_utils import to_categorical\n",
    "from keras.models import Sequential\n",
    "from keras.layers import Embedding, GRU, LSTM, SimpleRNN, Dense, Dropout\n",
    "from keras.preprocessing.sequence import pad_sequences"
   ]
  },
  {
   "cell_type": "markdown",
   "id": "ecb42d53",
   "metadata": {
    "papermill": {
     "duration": 0.012409,
     "end_time": "2022-03-15T04:12:41.441567",
     "exception": false,
     "start_time": "2022-03-15T04:12:41.429158",
     "status": "completed"
    },
    "tags": []
   },
   "source": [
    "# GOAL - create a bot to generate song lyrics using RNN"
   ]
  },
  {
   "cell_type": "code",
   "execution_count": 3,
   "id": "9eb246cd",
   "metadata": {
    "execution": {
     "iopub.execute_input": "2022-03-15T04:12:41.472244Z",
     "iopub.status.busy": "2022-03-15T04:12:41.471747Z",
     "iopub.status.idle": "2022-03-15T04:12:41.474589Z",
     "shell.execute_reply": "2022-03-15T04:12:41.474030Z",
     "shell.execute_reply.started": "2022-03-15T03:01:22.014466Z"
    },
    "papermill": {
     "duration": 0.02066,
     "end_time": "2022-03-15T04:12:41.474738",
     "exception": false,
     "start_time": "2022-03-15T04:12:41.454078",
     "status": "completed"
    },
    "tags": []
   },
   "outputs": [],
   "source": [
    "chars = list('abcdefghijklmnopqrstuvwxyz')\n",
    "chars.append(' ')\n",
    "chars.append('\\n')\n",
    "char_to_index = dict((c, i) for i, c in enumerate(chars))\n",
    "index_to_char = dict((i, c) for i, c in enumerate(chars))\n",
    "char_window = 20\n",
    "step = 3"
   ]
  },
  {
   "cell_type": "code",
   "execution_count": 4,
   "id": "3c8a97d1",
   "metadata": {
    "execution": {
     "iopub.execute_input": "2022-03-15T04:12:41.516346Z",
     "iopub.status.busy": "2022-03-15T04:12:41.515685Z",
     "iopub.status.idle": "2022-03-15T04:12:41.524689Z",
     "shell.execute_reply": "2022-03-15T04:12:41.525269Z",
     "shell.execute_reply.started": "2022-03-15T03:01:23.349426Z"
    },
    "papermill": {
     "duration": 0.031323,
     "end_time": "2022-03-15T04:12:41.525465",
     "exception": false,
     "start_time": "2022-03-15T04:12:41.494142",
     "status": "completed"
    },
    "tags": []
   },
   "outputs": [],
   "source": [
    "def create_model(artist):\n",
    "    \n",
    "    with open('/kaggle/input/poetry/'+artist+'.txt') as f:\n",
    "        text = f.read().lower()\n",
    "\n",
    "    text = re.sub('[^a-z \\n]','',text)\n",
    "\n",
    "    inputs = []\n",
    "    next_chars = []\n",
    "\n",
    "    for i in range(0,len(text)-char_window,step):\n",
    "        inputs.append(text[i:i+char_window])\n",
    "        next_chars.append(text[i+char_window])\n",
    "\n",
    "    pairs = zip(inputs,next_chars)\n",
    "    list(pairs)[:100]\n",
    "\n",
    "    X = np.zeros((len(inputs),char_window),dtype=np.float32)\n",
    "\n",
    "    for i in range(len(inputs)):\n",
    "        for j in range(char_window):\n",
    "            X[i,j] = char_to_index[inputs[i][j]]\n",
    "\n",
    "    y = np.zeros(len(next_chars),dtype=np.float32)\n",
    "\n",
    "    for i in range(len(next_chars)):\n",
    "        y[i] = char_to_index[next_chars[i]]\n",
    "\n",
    "    y = to_categorical(y)\n",
    "    \n",
    "    model = Sequential()\n",
    "\n",
    "    model.add(Embedding(28,64,input_length=char_window))\n",
    "    model.add(LSTM(256,return_sequences=True))\n",
    "    model.add(Dropout(0.2))\n",
    "    model.add(LSTM(256))\n",
    "    model.add(Dropout(0.2))\n",
    "    model.add(Dense(28,activation='softmax'))\n",
    "\n",
    "    model.compile(loss='categorical_crossentropy', optimizer='adam',metrics=['accuracy'])\n",
    "    model.fit(X,y,epochs=5,batch_size=20)\n",
    "    model.save('/kaggle/working/'+artist)\n",
    "    return model"
   ]
  },
  {
   "cell_type": "code",
   "execution_count": 5,
   "id": "bfa0258f",
   "metadata": {
    "execution": {
     "iopub.execute_input": "2022-03-15T04:12:41.567742Z",
     "iopub.status.busy": "2022-03-15T04:12:41.566933Z",
     "iopub.status.idle": "2022-03-15T04:32:16.894964Z",
     "shell.execute_reply": "2022-03-15T04:32:16.893278Z",
     "shell.execute_reply.started": "2022-03-15T03:01:23.905703Z"
    },
    "papermill": {
     "duration": 1175.349818,
     "end_time": "2022-03-15T04:32:16.895114",
     "exception": false,
     "start_time": "2022-03-15T04:12:41.545296",
     "status": "completed"
    },
    "tags": []
   },
   "outputs": [
    {
     "name": "stderr",
     "output_type": "stream",
     "text": [
      "2022-03-15 04:12:42.077515: I tensorflow/core/common_runtime/process_util.cc:146] Creating new thread pool with default inter op setting: 2. Tune using inter_op_parallelism_threads for best performance.\n",
      "2022-03-15 04:12:42.645061: I tensorflow/compiler/mlir/mlir_graph_optimization_pass.cc:185] None of the MLIR Optimization Passes are enabled (registered 2)\n"
     ]
    },
    {
     "name": "stdout",
     "output_type": "stream",
     "text": [
      "Epoch 1/5\n",
      "4183/4183 [==============================] - 235s 55ms/step - loss: 2.2106 - accuracy: 0.3450\n",
      "Epoch 2/5\n",
      "4183/4183 [==============================] - 232s 56ms/step - loss: 1.7951 - accuracy: 0.4474\n",
      "Epoch 3/5\n",
      "4183/4183 [==============================] - 230s 55ms/step - loss: 1.6579 - accuracy: 0.4823\n",
      "Epoch 4/5\n",
      "4183/4183 [==============================] - 236s 57ms/step - loss: 1.5642 - accuracy: 0.5086\n",
      "Epoch 5/5\n",
      "4183/4183 [==============================] - 234s 56ms/step - loss: 1.4948 - accuracy: 0.5277\n"
     ]
    },
    {
     "name": "stderr",
     "output_type": "stream",
     "text": [
      "2022-03-15 04:32:13.316122: W tensorflow/python/util/util.cc:348] Sets are not currently considered sequences, but this may change in the future, so consider avoiding using them.\n"
     ]
    }
   ],
   "source": [
    "kanye = create_model('Kanye_West')"
   ]
  },
  {
   "cell_type": "code",
   "execution_count": 6,
   "id": "62b26f52",
   "metadata": {
    "execution": {
     "iopub.execute_input": "2022-03-15T04:32:28.659693Z",
     "iopub.status.busy": "2022-03-15T04:32:28.659169Z",
     "iopub.status.idle": "2022-03-15T04:32:28.662804Z",
     "shell.execute_reply": "2022-03-15T04:32:28.662308Z",
     "shell.execute_reply.started": "2022-03-15T03:36:32.892425Z"
    },
    "papermill": {
     "duration": 5.850799,
     "end_time": "2022-03-15T04:32:28.662909",
     "exception": false,
     "start_time": "2022-03-15T04:32:22.812110",
     "status": "completed"
    },
    "tags": []
   },
   "outputs": [],
   "source": [
    "def softmax(z):\n",
    "    return np.exp(z)/sum(np.exp(z))\n",
    "\n",
    "def temp_scale(conditional_probability, temperature=1.0):\n",
    "    conditional_probability = np.asarray(conditional_probability).astype(\"float64\")\n",
    "    conditional_probability = np.log(conditional_probability) / temperature\n",
    "    reweighted_conditional_probability = softmax(conditional_probability)\n",
    "    probas = np.random.multinomial(1, reweighted_conditional_probability, 1)\n",
    "    return np.argmax(probas)\n",
    "\n",
    "def generate_line(model,context,temp):\n",
    "    line = context\n",
    "    next_char = ''\n",
    "    counter = 0\n",
    "    while counter<100 and next_char != '\\n':\n",
    "        X = [[char_to_index[line[i]] for i in range(0,len(line))]]\n",
    "        X = pad_sequences(X,maxlen=char_window)\n",
    "        y = model.predict(X)\n",
    "        next_char = index_to_char[temp_scale(y[0,:],temp)]\n",
    "        counter+=1\n",
    "        line+=next_char\n",
    "    return line"
   ]
  },
  {
   "cell_type": "code",
   "execution_count": 7,
   "id": "ffffeee3",
   "metadata": {
    "execution": {
     "iopub.execute_input": "2022-03-15T04:32:41.165897Z",
     "iopub.status.busy": "2022-03-15T04:32:41.165340Z",
     "iopub.status.idle": "2022-03-15T04:33:00.532795Z",
     "shell.execute_reply": "2022-03-15T04:33:00.532083Z",
     "shell.execute_reply.started": "2022-03-15T03:39:53.795684Z"
    },
    "papermill": {
     "duration": 25.262979,
     "end_time": "2022-03-15T04:33:00.533321",
     "exception": false,
     "start_time": "2022-03-15T04:32:35.270342",
     "status": "completed"
    },
    "tags": []
   },
   "outputs": [
    {
     "name": "stdout",
     "output_type": "stream",
     "text": [
      "\n",
      "\n",
      "\n",
      "i had a dream i could be the best a stop to the chool but i want to the stop to the chool but i want to the stop to the c\n",
      "\n",
      "\n",
      "\n",
      "i had a dream i could be the best a baby the best a little best a starting the baby to the stop and i want to the chool b\n",
      "\n",
      "\n",
      "\n",
      "i had a dream i could be on the hood of the day realy with my famous some to we could be all coloned in the crashie\n",
      "\n",
      "\n",
      "\n",
      "\n",
      "i had a dream i could dome sayion\n",
      "\n",
      "\n",
      "\n",
      "\n",
      "i had a dream i could be the tapan\n",
      "\n",
      "\n",
      "\n",
      "\n",
      "i had a dream i couldb yge\n",
      "\n"
     ]
    }
   ],
   "source": [
    "temps = [.01, 0.2, 0.5, 1.0, 1.2, 2]\n",
    "\n",
    "for temp in temps:\n",
    "    print('\\n\\n')\n",
    "    print(generate_line(kanye,'i had a dream i could',temp))"
   ]
  },
  {
   "cell_type": "code",
   "execution_count": 8,
   "id": "f3967501",
   "metadata": {
    "execution": {
     "iopub.execute_input": "2022-03-15T04:33:12.427380Z",
     "iopub.status.busy": "2022-03-15T04:33:12.426706Z",
     "iopub.status.idle": "2022-03-15T04:33:26.562788Z",
     "shell.execute_reply": "2022-03-15T04:33:26.563202Z",
     "shell.execute_reply.started": "2022-03-15T03:40:23.487963Z"
    },
    "papermill": {
     "duration": 20.158539,
     "end_time": "2022-03-15T04:33:26.563341",
     "exception": false,
     "start_time": "2022-03-15T04:33:06.404802",
     "status": "completed"
    },
    "tags": []
   },
   "outputs": [
    {
     "name": "stdout",
     "output_type": "stream",
     "text": [
      "\n",
      "\n",
      "\n",
      "one good girl some the stop to the chool but i want to the stop to the chool but i want to the stop to the chool \n",
      "\n",
      "\n",
      "\n",
      "one good girl was to the caller i want to the world to me\n",
      "\n",
      "\n",
      "\n",
      "\n",
      "one good girl seased to go at the thought i been work some to the stop to come\n",
      "\n",
      "\n",
      "\n",
      "\n",
      "one good girl drivon for the tabe hem stectide\n",
      "\n",
      "\n",
      "\n",
      "\n",
      "one good girl\n",
      "\n",
      "\n",
      "\n",
      "\n",
      "one good girl ragoicent\n",
      "\n"
     ]
    }
   ],
   "source": [
    "for temp in temps:\n",
    "    print('\\n\\n')\n",
    "    print(generate_line(kanye,'one good girl',temp))"
   ]
  },
  {
   "cell_type": "code",
   "execution_count": 9,
   "id": "cbdfa7a3",
   "metadata": {
    "execution": {
     "iopub.execute_input": "2022-03-15T04:33:38.287991Z",
     "iopub.status.busy": "2022-03-15T04:33:38.287150Z",
     "iopub.status.idle": "2022-03-15T04:34:01.616468Z",
     "shell.execute_reply": "2022-03-15T04:34:01.615967Z",
     "shell.execute_reply.started": "2022-03-15T03:40:47.176913Z"
    },
    "papermill": {
     "duration": 29.233099,
     "end_time": "2022-03-15T04:34:01.616579",
     "exception": false,
     "start_time": "2022-03-15T04:33:32.383480",
     "status": "completed"
    },
    "tags": []
   },
   "outputs": [
    {
     "name": "stdout",
     "output_type": "stream",
     "text": [
      "\n",
      "\n",
      "\n",
      "i need you got the chool but i want to the chool but i want to the stop to the chool but i want to the stop to\n",
      "\n",
      "\n",
      "\n",
      "i need you say now i know i aint said i want to stars to the stars the countor i know the cather the best of t\n",
      "\n",
      "\n",
      "\n",
      "i need your money from the stop the money to the clob i aint come a break i can starting in the best all i kno\n",
      "\n",
      "\n",
      "\n",
      "i need you got a swreak lets even back ot me the floobie headd my couble\n",
      "\n",
      "\n",
      "\n",
      "\n",
      "i need you would leave it actring i\n",
      "\n",
      "\n",
      "\n",
      "\n",
      "i need you himserfost\n",
      "\n"
     ]
    }
   ],
   "source": [
    "for temp in temps:\n",
    "    print('\\n\\n')\n",
    "    print(generate_line(kanye,'i need you',temp))"
   ]
  },
  {
   "cell_type": "code",
   "execution_count": 10,
   "id": "8dd9540c",
   "metadata": {
    "execution": {
     "iopub.execute_input": "2022-03-15T04:34:16.528543Z",
     "iopub.status.busy": "2022-03-15T04:34:16.527159Z",
     "iopub.status.idle": "2022-03-15T04:41:21.911325Z",
     "shell.execute_reply": "2022-03-15T04:41:21.910749Z",
     "shell.execute_reply.started": "2022-03-15T03:41:11.662345Z"
    },
    "papermill": {
     "duration": 431.435232,
     "end_time": "2022-03-15T04:41:21.911448",
     "exception": false,
     "start_time": "2022-03-15T04:34:10.476216",
     "status": "completed"
    },
    "tags": []
   },
   "outputs": [
    {
     "name": "stdout",
     "output_type": "stream",
     "text": [
      "Epoch 1/5\n",
      "1445/1445 [==============================] - 84s 56ms/step - loss: 2.4730 - accuracy: 0.2772\n",
      "Epoch 2/5\n",
      "1445/1445 [==============================] - 84s 58ms/step - loss: 2.0418 - accuracy: 0.3830\n",
      "Epoch 3/5\n",
      "1445/1445 [==============================] - 80s 55ms/step - loss: 1.8321 - accuracy: 0.4363\n",
      "Epoch 4/5\n",
      "1445/1445 [==============================] - 83s 57ms/step - loss: 1.6602 - accuracy: 0.4858\n",
      "Epoch 5/5\n",
      "1445/1445 [==============================] - 84s 58ms/step - loss: 1.5178 - accuracy: 0.5244\n"
     ]
    }
   ],
   "source": [
    "jcash = create_model('johnny-cash')"
   ]
  },
  {
   "cell_type": "code",
   "execution_count": 11,
   "id": "93938eff",
   "metadata": {
    "execution": {
     "iopub.execute_input": "2022-03-15T04:41:38.136355Z",
     "iopub.status.busy": "2022-03-15T04:41:38.135826Z",
     "iopub.status.idle": "2022-03-15T04:41:54.659046Z",
     "shell.execute_reply": "2022-03-15T04:41:54.658396Z",
     "shell.execute_reply.started": "2022-03-15T03:53:34.977525Z"
    },
    "papermill": {
     "duration": 24.646292,
     "end_time": "2022-03-15T04:41:54.659167",
     "exception": false,
     "start_time": "2022-03-15T04:41:30.012875",
     "status": "completed"
    },
    "tags": []
   },
   "outputs": [
    {
     "name": "stdout",
     "output_type": "stream",
     "text": [
      "im going to the dever love i was steed by the dever love i was steed by the dever love i was steed by the dever\n",
      "im going to the steed by the devils singing the that the dear and the dever with the dear it a cauld the dight \n",
      "im going to me a true the deed ring\n",
      "\n",
      "im going to take on my bany\n",
      "\n",
      "im going to uved dong know\n",
      "\n",
      "im going tolwwen\n",
      "\n"
     ]
    }
   ],
   "source": [
    "for temp in temps:\n",
    "    print(generate_line(jcash,'im going to',temp))"
   ]
  },
  {
   "cell_type": "code",
   "execution_count": 12,
   "id": "61354ac1",
   "metadata": {
    "execution": {
     "iopub.execute_input": "2022-03-15T04:42:12.802073Z",
     "iopub.status.busy": "2022-03-15T04:42:12.801368Z",
     "iopub.status.idle": "2022-03-15T04:42:25.924148Z",
     "shell.execute_reply": "2022-03-15T04:42:25.923454Z",
     "shell.execute_reply.started": "2022-03-15T03:53:55.297398Z"
    },
    "papermill": {
     "duration": 22.148605,
     "end_time": "2022-03-15T04:42:25.924267",
     "exception": false,
     "start_time": "2022-03-15T04:42:03.775662",
     "status": "completed"
    },
    "tags": []
   },
   "outputs": [
    {
     "name": "stdout",
     "output_type": "stream",
     "text": [
      "and it burns burns burns of the dear and the dever love i shall meet my bone\n",
      "\n",
      "and it burns burns burns of the dont the dever meet my heart of the dear the des well the devils of the done\n",
      "\n",
      "and it burns burns burns of him can is far\n",
      "\n",
      "and it burns burns burns sumen and hise drem man dark\n",
      "\n",
      "and it burns burns burns hereer but shut went the weud\n",
      "\n",
      "and it burns burns burns day\n",
      "\n"
     ]
    }
   ],
   "source": [
    "for temp in temps:\n",
    "    print(generate_line(jcash,'and it burns burns burns',temp))"
   ]
  },
  {
   "cell_type": "code",
   "execution_count": 13,
   "id": "79813789",
   "metadata": {
    "execution": {
     "iopub.execute_input": "2022-03-15T04:42:43.660819Z",
     "iopub.status.busy": "2022-03-15T04:42:43.659976Z",
     "iopub.status.idle": "2022-03-15T04:43:01.743064Z",
     "shell.execute_reply": "2022-03-15T04:43:01.742462Z",
     "shell.execute_reply.started": "2022-03-15T03:54:07.306284Z"
    },
    "papermill": {
     "duration": 27.309208,
     "end_time": "2022-03-15T04:43:01.743202",
     "exception": false,
     "start_time": "2022-03-15T04:42:34.433994",
     "status": "completed"
    },
    "tags": []
   },
   "outputs": [
    {
     "name": "stdout",
     "output_type": "stream",
     "text": [
      "i shot a man i was a long the dever love i was steed by the dever love i shall meet my bone\n",
      "\n",
      "i shot a man in the dever love in the right and the devine i was gonna couldnt be morning of the dear the the fe\n",
      "i shot a mand my hald\n",
      "\n",
      "i shot a man dont of with me heart let fur heavun if buens that about death and mahe you\n",
      "\n",
      "i shot a manys rayy go shill though\n",
      "\n",
      "i shot a man  zomeslingsdver\n",
      "\n"
     ]
    }
   ],
   "source": [
    "for temp in temps:\n",
    "    print(generate_line(jcash,'i shot a man',temp))"
   ]
  }
 ],
 "metadata": {
  "kernelspec": {
   "display_name": "Python 3",
   "language": "python",
   "name": "python3"
  },
  "language_info": {
   "codemirror_mode": {
    "name": "ipython",
    "version": 3
   },
   "file_extension": ".py",
   "mimetype": "text/x-python",
   "name": "python",
   "nbconvert_exporter": "python",
   "pygments_lexer": "ipython3",
   "version": "3.7.12"
  },
  "papermill": {
   "default_parameters": {},
   "duration": 1849.029868,
   "end_time": "2022-03-15T04:43:18.055455",
   "environment_variables": {},
   "exception": null,
   "input_path": "__notebook__.ipynb",
   "output_path": "__notebook__.ipynb",
   "parameters": {},
   "start_time": "2022-03-15T04:12:29.025587",
   "version": "2.3.3"
  }
 },
 "nbformat": 4,
 "nbformat_minor": 5
}
