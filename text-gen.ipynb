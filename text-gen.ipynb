{
 "cells": [
  {
   "cell_type": "code",
   "execution_count": 1,
   "id": "9a2c83b5",
   "metadata": {
    "_cell_guid": "b1076dfc-b9ad-4769-8c92-a6c4dae69d19",
    "_uuid": "8f2839f25d086af736a60e9eeb907d3b93b6e0e5",
    "execution": {
     "iopub.execute_input": "2022-03-16T03:02:23.788805Z",
     "iopub.status.busy": "2022-03-16T03:02:23.779050Z",
     "iopub.status.idle": "2022-03-16T03:02:23.823148Z",
     "shell.execute_reply": "2022-03-16T03:02:23.822059Z",
     "shell.execute_reply.started": "2022-03-16T02:07:04.545582Z"
    },
    "papermill": {
     "duration": 0.067629,
     "end_time": "2022-03-16T03:02:23.823367",
     "exception": false,
     "start_time": "2022-03-16T03:02:23.755738",
     "status": "completed"
    },
    "tags": []
   },
   "outputs": [
    {
     "name": "stdout",
     "output_type": "stream",
     "text": [
      "/kaggle/input/poetry/Kanye_West.txt\n",
      "/kaggle/input/poetry/johnny-cash.txt\n",
      "/kaggle/input/poetry/kanye-west.txt\n",
      "/kaggle/input/poetry/bruno-mars.txt\n",
      "/kaggle/input/poetry/dickinson.txt\n",
      "/kaggle/input/poetry/amy-winehouse.txt\n",
      "/kaggle/input/poetry/blink-182.txt\n",
      "/kaggle/input/poetry/paul-simon.txt\n",
      "/kaggle/input/poetry/patti-smith.txt\n",
      "/kaggle/input/poetry/bieber.txt\n",
      "/kaggle/input/poetry/disney.txt\n",
      "/kaggle/input/poetry/jimi-hendrix.txt\n",
      "/kaggle/input/poetry/lin-manuel-miranda.txt\n",
      "/kaggle/input/poetry/adele.txt\n",
      "/kaggle/input/poetry/dj-khaled.txt\n",
      "/kaggle/input/poetry/beatles.txt\n",
      "/kaggle/input/poetry/r-kelly.txt\n",
      "/kaggle/input/poetry/lady-gaga.txt\n",
      "/kaggle/input/poetry/radiohead.txt\n",
      "/kaggle/input/poetry/britney-spears.txt\n",
      "/kaggle/input/poetry/alicia-keys.txt\n",
      "/kaggle/input/poetry/rihanna.txt\n",
      "/kaggle/input/poetry/joni-mitchell.txt\n",
      "/kaggle/input/poetry/dolly-parton.txt\n",
      "/kaggle/input/poetry/drake.txt\n",
      "/kaggle/input/poetry/Lil_Wayne.txt\n",
      "/kaggle/input/poetry/notorious_big.txt\n",
      "/kaggle/input/poetry/eminem.txt\n",
      "/kaggle/input/poetry/janisjoplin.txt\n",
      "/kaggle/input/poetry/prince.txt\n",
      "/kaggle/input/poetry/bruce-springsteen.txt\n",
      "/kaggle/input/poetry/bob-dylan.txt\n",
      "/kaggle/input/poetry/notorious-big.txt\n",
      "/kaggle/input/poetry/lil-wayne.txt\n",
      "/kaggle/input/poetry/dr-seuss.txt\n",
      "/kaggle/input/poetry/nicki-minaj.txt\n",
      "/kaggle/input/poetry/bob-marley.txt\n",
      "/kaggle/input/poetry/al-green.txt\n",
      "/kaggle/input/poetry/nickelback.txt\n",
      "/kaggle/input/poetry/michael-jackson.txt\n",
      "/kaggle/input/poetry/lorde.txt\n",
      "/kaggle/input/poetry/kanye.txt\n",
      "/kaggle/input/poetry/leonard-cohen.txt\n",
      "/kaggle/input/poetry/ludacris.txt\n",
      "/kaggle/input/poetry/bjork.txt\n",
      "/kaggle/input/poetry/nursery_rhymes.txt\n",
      "/kaggle/input/poetry/nirvana.txt\n",
      "/kaggle/input/poetry/cake.txt\n",
      "/kaggle/input/poetry/missy-elliott.txt\n"
     ]
    }
   ],
   "source": [
    "# This Python 3 environment comes with many helpful analytics libraries installed\n",
    "# It is defined by the kaggle/python Docker image: https://github.com/kaggle/docker-python\n",
    "# For example, here's several helpful packages to load\n",
    "\n",
    "import numpy as np # linear algebra\n",
    "import pandas as pd # data processing, CSV file I/O (e.g. pd.read_csv)\n",
    "\n",
    "# Input data files are available in the read-only \"../input/\" directory\n",
    "# For example, running this (by clicking run or pressing Shift+Enter) will list all files under the input directory\n",
    "\n",
    "import os\n",
    "for dirname, _, filenames in os.walk('/kaggle/input'):\n",
    "    for filename in filenames:\n",
    "        print(os.path.join(dirname, filename))\n",
    "\n",
    "# You can write up to 20GB to the current directory (/kaggle/working/) that gets preserved as output when you create a version using \"Save & Run All\" \n",
    "# You can also write temporary files to /kaggle/temp/, but they won't be saved outside of the current session"
   ]
  },
  {
   "cell_type": "code",
   "execution_count": 2,
   "id": "b947687c",
   "metadata": {
    "execution": {
     "iopub.execute_input": "2022-03-16T03:02:23.868894Z",
     "iopub.status.busy": "2022-03-16T03:02:23.867929Z",
     "iopub.status.idle": "2022-03-16T03:02:30.024855Z",
     "shell.execute_reply": "2022-03-16T03:02:30.024274Z",
     "shell.execute_reply.started": "2022-03-16T02:07:04.721769Z"
    },
    "papermill": {
     "duration": 6.181708,
     "end_time": "2022-03-16T03:02:30.025001",
     "exception": false,
     "start_time": "2022-03-16T03:02:23.843293",
     "status": "completed"
    },
    "tags": []
   },
   "outputs": [],
   "source": [
    "import tensorflow as tf\n",
    "import keras\n",
    "import re\n",
    "from keras.utils.np_utils import to_categorical\n",
    "from keras.models import Sequential\n",
    "from keras.layers import Embedding, GRU, LSTM, SimpleRNN, Dense, Dropout\n",
    "from keras.preprocessing.sequence import pad_sequences"
   ]
  },
  {
   "cell_type": "markdown",
   "id": "4c66147c",
   "metadata": {
    "papermill": {
     "duration": 0.016467,
     "end_time": "2022-03-16T03:02:30.058502",
     "exception": false,
     "start_time": "2022-03-16T03:02:30.042035",
     "status": "completed"
    },
    "tags": []
   },
   "source": [
    "# Define the functions to create a model based off an artists lyrics and generate new lyrics from that model"
   ]
  },
  {
   "cell_type": "code",
   "execution_count": 3,
   "id": "982eefa4",
   "metadata": {
    "execution": {
     "iopub.execute_input": "2022-03-16T03:02:30.095661Z",
     "iopub.status.busy": "2022-03-16T03:02:30.094996Z",
     "iopub.status.idle": "2022-03-16T03:02:30.099900Z",
     "shell.execute_reply": "2022-03-16T03:02:30.100414Z",
     "shell.execute_reply.started": "2022-03-16T02:07:05.163673Z"
    },
    "papermill": {
     "duration": 0.025373,
     "end_time": "2022-03-16T03:02:30.100607",
     "exception": false,
     "start_time": "2022-03-16T03:02:30.075234",
     "status": "completed"
    },
    "tags": []
   },
   "outputs": [],
   "source": [
    "chars = list('abcdefghijklmnopqrstuvwxyz')\n",
    "chars.append(' ')\n",
    "chars.append('\\n')\n",
    "char_to_index = dict((c, i) for i, c in enumerate(chars))\n",
    "index_to_char = dict((i, c) for i, c in enumerate(chars))\n",
    "char_window = 20\n",
    "step = 3"
   ]
  },
  {
   "cell_type": "code",
   "execution_count": 4,
   "id": "c7c53a3e",
   "metadata": {
    "execution": {
     "iopub.execute_input": "2022-03-16T03:02:30.137115Z",
     "iopub.status.busy": "2022-03-16T03:02:30.136434Z",
     "iopub.status.idle": "2022-03-16T03:02:30.149914Z",
     "shell.execute_reply": "2022-03-16T03:02:30.149318Z",
     "shell.execute_reply.started": "2022-03-16T02:07:05.413567Z"
    },
    "papermill": {
     "duration": 0.032756,
     "end_time": "2022-03-16T03:02:30.150064",
     "exception": false,
     "start_time": "2022-03-16T03:02:30.117308",
     "status": "completed"
    },
    "tags": []
   },
   "outputs": [],
   "source": [
    "def create_model(artist):\n",
    "    \n",
    "    with open('/kaggle/input/poetry/'+artist+'.txt') as f:\n",
    "        text = f.read().lower()\n",
    "\n",
    "    text = re.sub('[^a-z \\n]','',text)\n",
    "\n",
    "    inputs = []\n",
    "    next_chars = []\n",
    "\n",
    "    for i in range(0,len(text)-char_window,step):\n",
    "        inputs.append(text[i:i+char_window])\n",
    "        next_chars.append(text[i+char_window])\n",
    "\n",
    "    pairs = zip(inputs,next_chars)\n",
    "    list(pairs)[:100]\n",
    "\n",
    "    X = np.zeros((len(inputs),char_window),dtype=np.float32)\n",
    "\n",
    "    for i in range(len(inputs)):\n",
    "        for j in range(char_window):\n",
    "            X[i,j] = char_to_index[inputs[i][j]]\n",
    "\n",
    "    y = np.zeros(len(next_chars),dtype=np.float32)\n",
    "\n",
    "    for i in range(len(next_chars)):\n",
    "        y[i] = char_to_index[next_chars[i]]\n",
    "\n",
    "    y = to_categorical(y)\n",
    "    \n",
    "    model = Sequential()\n",
    "\n",
    "    model.add(Embedding(28,64,input_length=char_window))\n",
    "    model.add(LSTM(256,return_sequences=True))\n",
    "    model.add(Dropout(0.2))\n",
    "    model.add(LSTM(256))\n",
    "    model.add(Dropout(0.2))\n",
    "    model.add(Dense(28,activation='softmax'))\n",
    "\n",
    "    model.compile(loss='categorical_crossentropy', optimizer='adam',metrics=['accuracy'])\n",
    "    model.fit(X,y,epochs=5,batch_size=20)\n",
    "    model.save('/kaggle/working/'+artist)\n",
    "    return model"
   ]
  },
  {
   "cell_type": "code",
   "execution_count": 5,
   "id": "efecb089",
   "metadata": {
    "execution": {
     "iopub.execute_input": "2022-03-16T03:02:30.193602Z",
     "iopub.status.busy": "2022-03-16T03:02:30.192479Z",
     "iopub.status.idle": "2022-03-16T03:02:30.198432Z",
     "shell.execute_reply": "2022-03-16T03:02:30.199443Z",
     "shell.execute_reply.started": "2022-03-16T02:07:05.656675Z"
    },
    "papermill": {
     "duration": 0.032651,
     "end_time": "2022-03-16T03:02:30.199728",
     "exception": false,
     "start_time": "2022-03-16T03:02:30.167077",
     "status": "completed"
    },
    "tags": []
   },
   "outputs": [],
   "source": [
    "def softmax(z):\n",
    "    return np.exp(z)/sum(np.exp(z))\n",
    "\n",
    "def temp_scale(conditional_probability, temperature=1.0):\n",
    "    conditional_probability = np.asarray(conditional_probability).astype(\"float64\")\n",
    "    conditional_probability = np.log(conditional_probability) / temperature\n",
    "    reweighted_conditional_probability = softmax(conditional_probability)\n",
    "    probas = np.random.multinomial(1, reweighted_conditional_probability, 1)\n",
    "    return np.argmax(probas)\n",
    "\n",
    "def generate_line(model,context,temp):\n",
    "    line = context\n",
    "    next_char = ''\n",
    "    counter = 0\n",
    "    while counter<100 and next_char != '\\n':\n",
    "        X = [[char_to_index[line[i]] for i in range(0,len(line))]]\n",
    "        X = pad_sequences(X,maxlen=char_window)\n",
    "        y = model.predict(X)\n",
    "        next_char = index_to_char[temp_scale(y[0,:],temp)]\n",
    "        counter+=1\n",
    "        line+=next_char\n",
    "    return line"
   ]
  },
  {
   "cell_type": "markdown",
   "id": "fa59e0a5",
   "metadata": {
    "papermill": {
     "duration": 0.017341,
     "end_time": "2022-03-16T03:02:30.234580",
     "exception": false,
     "start_time": "2022-03-16T03:02:30.217239",
     "status": "completed"
    },
    "tags": []
   },
   "source": [
    "# Now lets have some fun emulating different artists!!"
   ]
  },
  {
   "cell_type": "code",
   "execution_count": 6,
   "id": "26dd45b2",
   "metadata": {
    "execution": {
     "iopub.execute_input": "2022-03-16T03:02:30.270909Z",
     "iopub.status.busy": "2022-03-16T03:02:30.270255Z",
     "iopub.status.idle": "2022-03-16T03:29:19.987982Z",
     "shell.execute_reply": "2022-03-16T03:29:19.987427Z",
     "shell.execute_reply.started": "2022-03-16T02:07:06.266596Z"
    },
    "papermill": {
     "duration": 1609.736992,
     "end_time": "2022-03-16T03:29:19.988141",
     "exception": false,
     "start_time": "2022-03-16T03:02:30.251149",
     "status": "completed"
    },
    "tags": []
   },
   "outputs": [
    {
     "name": "stderr",
     "output_type": "stream",
     "text": [
      "2022-03-16 03:02:31.222753: I tensorflow/core/common_runtime/process_util.cc:146] Creating new thread pool with default inter op setting: 2. Tune using inter_op_parallelism_threads for best performance.\n",
      "2022-03-16 03:02:31.943863: I tensorflow/compiler/mlir/mlir_graph_optimization_pass.cc:185] None of the MLIR Optimization Passes are enabled (registered 2)\n"
     ]
    },
    {
     "name": "stdout",
     "output_type": "stream",
     "text": [
      "Epoch 1/5\n",
      "4183/4183 [==============================] - 319s 75ms/step - loss: 2.2064 - accuracy: 0.3462\n",
      "Epoch 2/5\n",
      "4183/4183 [==============================] - 319s 76ms/step - loss: 1.7782 - accuracy: 0.4507\n",
      "Epoch 3/5\n",
      "4183/4183 [==============================] - 321s 77ms/step - loss: 1.6431 - accuracy: 0.4867\n",
      "Epoch 4/5\n",
      "4183/4183 [==============================] - 322s 77ms/step - loss: 1.5498 - accuracy: 0.5120\n",
      "Epoch 5/5\n",
      "4183/4183 [==============================] - 319s 76ms/step - loss: 1.4787 - accuracy: 0.5321\n"
     ]
    },
    {
     "name": "stderr",
     "output_type": "stream",
     "text": [
      "2022-03-16 03:29:15.359322: W tensorflow/python/util/util.cc:348] Sets are not currently considered sequences, but this may change in the future, so consider avoiding using them.\n"
     ]
    }
   ],
   "source": [
    "kanye = create_model('Kanye_West')"
   ]
  },
  {
   "cell_type": "code",
   "execution_count": 7,
   "id": "f265f3f5",
   "metadata": {
    "execution": {
     "iopub.execute_input": "2022-03-16T03:29:35.532808Z",
     "iopub.status.busy": "2022-03-16T03:29:35.532065Z",
     "iopub.status.idle": "2022-03-16T03:29:59.997914Z",
     "shell.execute_reply": "2022-03-16T03:29:59.997250Z",
     "shell.execute_reply.started": "2022-03-16T02:44:38.277900Z"
    },
    "papermill": {
     "duration": 32.242591,
     "end_time": "2022-03-16T03:29:59.998071",
     "exception": false,
     "start_time": "2022-03-16T03:29:27.755480",
     "status": "completed"
    },
    "tags": []
   },
   "outputs": [
    {
     "name": "stdout",
     "output_type": "stream",
     "text": [
      "\n",
      "\n",
      "\n",
      "i had a dream i could be a bad the streets the same the same the same the same the same the same the same the same the sa\n",
      "\n",
      "\n",
      "\n",
      "i had a dream i could be and a from a dreams the soul and i aint talk the same in the best the deal the chool the chain t\n",
      "\n",
      "\n",
      "\n",
      "i had a dream i couldnt jesus in the heres to more that dont get the more before i got the last but i aint fain the arr t\n",
      "\n",
      "\n",
      "\n",
      "i had a dream i could my girl white from callin\n",
      "\n",
      "\n",
      "\n",
      "\n",
      "i had a dream i couldnt you know nover nighttinges kanye\n",
      "\n",
      "\n",
      "\n",
      "\n",
      "i had a dream i couldmade hih nright defuliim\n",
      "\n"
     ]
    }
   ],
   "source": [
    "temps = [.01, 0.2, 0.5, 1.0, 1.2, 2]\n",
    "\n",
    "for temp in temps:\n",
    "    print('\\n\\n')\n",
    "    print(generate_line(kanye,'i had a dream i could',temp))"
   ]
  },
  {
   "cell_type": "code",
   "execution_count": 8,
   "id": "53caf406",
   "metadata": {
    "execution": {
     "iopub.execute_input": "2022-03-16T03:30:15.856737Z",
     "iopub.status.busy": "2022-03-16T03:30:15.854534Z",
     "iopub.status.idle": "2022-03-16T03:30:35.623365Z",
     "shell.execute_reply": "2022-03-16T03:30:35.622589Z",
     "shell.execute_reply.started": "2022-03-16T02:44:56.339269Z"
    },
    "papermill": {
     "duration": 27.635751,
     "end_time": "2022-03-16T03:30:35.623598",
     "exception": false,
     "start_time": "2022-03-16T03:30:07.987847",
     "status": "completed"
    },
    "tags": []
   },
   "outputs": [
    {
     "name": "stdout",
     "output_type": "stream",
     "text": [
      "\n",
      "\n",
      "\n",
      "one good girl in the chain the streets the same the same the same the same the same the same the same the same th\n",
      "\n",
      "\n",
      "\n",
      "one good girl what i aint gotta got the chain shit\n",
      "\n",
      "\n",
      "\n",
      "\n",
      "one good girl die the way the shit its all these dont started on the chain the mars more i live the game you say \n",
      "\n",
      "\n",
      "\n",
      "one good girl\n",
      "\n",
      "\n",
      "\n",
      "\n",
      "one good girl had last on out\n",
      "\n",
      "\n",
      "\n",
      "\n",
      "one good girl gake iajyss do bring mirwerinnnacyghligceaar yal\n",
      "\n"
     ]
    }
   ],
   "source": [
    "for temp in temps:\n",
    "    print('\\n\\n')\n",
    "    print(generate_line(kanye,'one good girl',temp))"
   ]
  },
  {
   "cell_type": "code",
   "execution_count": 9,
   "id": "102b74b8",
   "metadata": {
    "execution": {
     "iopub.execute_input": "2022-03-16T03:30:51.257089Z",
     "iopub.status.busy": "2022-03-16T03:30:51.256420Z",
     "iopub.status.idle": "2022-03-16T03:31:12.223182Z",
     "shell.execute_reply": "2022-03-16T03:31:12.222640Z",
     "shell.execute_reply.started": "2022-03-16T02:45:19.085445Z"
    },
    "papermill": {
     "duration": 28.742857,
     "end_time": "2022-03-16T03:31:12.223331",
     "exception": false,
     "start_time": "2022-03-16T03:30:43.480474",
     "status": "completed"
    },
    "tags": []
   },
   "outputs": [
    {
     "name": "stdout",
     "output_type": "stream",
     "text": [
      "\n",
      "\n",
      "\n",
      "i need your grave the streets the streets the same the same the same the same the same the same the same the s\n",
      "\n",
      "\n",
      "\n",
      "i need you got the same the best fresh on the stram that who know when i get the streets the best from the bab\n",
      "\n",
      "\n",
      "\n",
      "i need you should i seen do the superfont that girl ass on my girls\n",
      "\n",
      "\n",
      "\n",
      "\n",
      "i need youl\n",
      "\n",
      "\n",
      "\n",
      "\n",
      "i need you rens by fast to so thee usingsod on my\n",
      "\n",
      "\n",
      "\n",
      "\n",
      "i need you voincnig ty tdihrsael manaed\n",
      "\n"
     ]
    }
   ],
   "source": [
    "for temp in temps:\n",
    "    print('\\n\\n')\n",
    "    print(generate_line(kanye,'i need you',temp))"
   ]
  },
  {
   "cell_type": "code",
   "execution_count": 10,
   "id": "7cb10f27",
   "metadata": {
    "execution": {
     "iopub.execute_input": "2022-03-16T03:31:27.630988Z",
     "iopub.status.busy": "2022-03-16T03:31:27.630325Z",
     "iopub.status.idle": "2022-03-16T03:40:56.223577Z",
     "shell.execute_reply": "2022-03-16T03:40:56.222960Z",
     "shell.execute_reply.started": "2022-03-16T02:45:42.537847Z"
    },
    "papermill": {
     "duration": 576.304978,
     "end_time": "2022-03-16T03:40:56.223733",
     "exception": false,
     "start_time": "2022-03-16T03:31:19.918755",
     "status": "completed"
    },
    "tags": []
   },
   "outputs": [
    {
     "name": "stdout",
     "output_type": "stream",
     "text": [
      "Epoch 1/5\n",
      "1445/1445 [==============================] - 114s 76ms/step - loss: 2.5054 - accuracy: 0.2709\n",
      "Epoch 2/5\n",
      "1445/1445 [==============================] - 112s 78ms/step - loss: 2.0417 - accuracy: 0.3835\n",
      "Epoch 3/5\n",
      "1445/1445 [==============================] - 112s 78ms/step - loss: 1.8257 - accuracy: 0.4387\n",
      "Epoch 4/5\n",
      "1445/1445 [==============================] - 112s 77ms/step - loss: 1.6539 - accuracy: 0.4885\n",
      "Epoch 5/5\n",
      "1445/1445 [==============================] - 109s 76ms/step - loss: 1.5004 - accuracy: 0.5308\n"
     ]
    }
   ],
   "source": [
    "jcash = create_model('johnny-cash')"
   ]
  },
  {
   "cell_type": "code",
   "execution_count": 11,
   "id": "ca34cf92",
   "metadata": {
    "execution": {
     "iopub.execute_input": "2022-03-16T03:41:17.147353Z",
     "iopub.status.busy": "2022-03-16T03:41:17.146365Z",
     "iopub.status.idle": "2022-03-16T03:41:43.559382Z",
     "shell.execute_reply": "2022-03-16T03:41:43.559950Z",
     "shell.execute_reply.started": "2022-03-16T02:58:51.743941Z"
    },
    "papermill": {
     "duration": 36.982001,
     "end_time": "2022-03-16T03:41:43.560141",
     "exception": false,
     "start_time": "2022-03-16T03:41:06.578140",
     "status": "completed"
    },
    "tags": []
   },
   "outputs": [
    {
     "name": "stdout",
     "output_type": "stream",
     "text": [
      "im going to show i was a hand the rong of the road and i was a hand the rong of the road and i want to the rong\n",
      "im going to show to the rond of my baby me when the sont and well be when the reaser in the seen when the town \n",
      "im going to ray\n",
      "\n",
      "im going to good caumer around were eved jacksiness this come of rust threw the omen the miolseer try mut the f\n",
      "im going to douth and huve a locd all lishy memody and well co a but you keep hud you mas lair god for uw bloke\n",
      "im going to corracb\n",
      "\n"
     ]
    }
   ],
   "source": [
    "for temp in temps:\n",
    "    print(generate_line(jcash,'im going to',temp))"
   ]
  },
  {
   "cell_type": "code",
   "execution_count": 12,
   "id": "76620f09",
   "metadata": {
    "execution": {
     "iopub.execute_input": "2022-03-16T03:42:04.407242Z",
     "iopub.status.busy": "2022-03-16T03:42:04.406497Z",
     "iopub.status.idle": "2022-03-16T03:42:25.340181Z",
     "shell.execute_reply": "2022-03-16T03:42:25.340716Z",
     "shell.execute_reply.started": "2022-03-16T02:59:06.170841Z"
    },
    "papermill": {
     "duration": 31.303519,
     "end_time": "2022-03-16T03:42:25.340905",
     "exception": false,
     "start_time": "2022-03-16T03:41:54.037386",
     "status": "completed"
    },
    "tags": []
   },
   "outputs": [
    {
     "name": "stdout",
     "output_type": "stream",
     "text": [
      "and it burns burns burns me and i want to the rong of the road and i want to the rong of the road and i want to the rong of \n",
      "and it burns burns burns and someone when the sont be when the sould of fir the ring of the road again the blues\n",
      "\n",
      "and it burns burns burns me and ill been my befp me when the sweethine that was a little steeldray\n",
      "\n",
      "and it burns burns burns boolly down\n",
      "\n",
      "and it burns burns burns telld for a alonns of ank the teclssed steetstoothy shot\n",
      "\n",
      "and it burns burns burns\n",
      "\n"
     ]
    }
   ],
   "source": [
    "for temp in temps:\n",
    "    print(generate_line(jcash,'and it burns burns burns',temp))"
   ]
  },
  {
   "cell_type": "code",
   "execution_count": 13,
   "id": "a25945e6",
   "metadata": {
    "execution": {
     "iopub.execute_input": "2022-03-16T03:42:46.351850Z",
     "iopub.status.busy": "2022-03-16T03:42:46.351169Z",
     "iopub.status.idle": "2022-03-16T03:43:00.229171Z",
     "shell.execute_reply": "2022-03-16T03:43:00.229991Z",
     "shell.execute_reply.started": "2022-03-16T02:59:27.726926Z"
    },
    "papermill": {
     "duration": 24.283607,
     "end_time": "2022-03-16T03:43:00.230194",
     "exception": false,
     "start_time": "2022-03-16T03:42:35.946587",
     "status": "completed"
    },
    "tags": []
   },
   "outputs": [
    {
     "name": "stdout",
     "output_type": "stream",
     "text": [
      "i shot a man in the seen when the sont and well the rong of the road and i was a hand the rong of the road and i\n",
      "i shot a man\n",
      "\n",
      "i shot a man then you to carry me home me me when the deves to see the tolght of the rood well the like to so sh\n",
      "i shot a man\n",
      "\n",
      "i shot a many carm\n",
      "\n",
      "i shot a mandangacapacry\n",
      "\n"
     ]
    }
   ],
   "source": [
    "for temp in temps:\n",
    "    print(generate_line(jcash,'i shot a man',temp))"
   ]
  },
  {
   "cell_type": "code",
   "execution_count": null,
   "id": "ede58b0b",
   "metadata": {
    "papermill": {
     "duration": 10.570053,
     "end_time": "2022-03-16T03:43:21.158171",
     "exception": false,
     "start_time": "2022-03-16T03:43:10.588118",
     "status": "completed"
    },
    "tags": []
   },
   "outputs": [],
   "source": []
  }
 ],
 "metadata": {
  "kernelspec": {
   "display_name": "Python 3",
   "language": "python",
   "name": "python3"
  },
  "language_info": {
   "codemirror_mode": {
    "name": "ipython",
    "version": 3
   },
   "file_extension": ".py",
   "mimetype": "text/x-python",
   "name": "python",
   "nbconvert_exporter": "python",
   "pygments_lexer": "ipython3",
   "version": "3.7.12"
  },
  "papermill": {
   "default_parameters": {},
   "duration": 2481.903505,
   "end_time": "2022-03-16T03:43:35.124914",
   "environment_variables": {},
   "exception": null,
   "input_path": "__notebook__.ipynb",
   "output_path": "__notebook__.ipynb",
   "parameters": {},
   "start_time": "2022-03-16T03:02:13.221409",
   "version": "2.3.3"
  }
 },
 "nbformat": 4,
 "nbformat_minor": 5
}
